{
 "cells": [
  {
   "cell_type": "markdown",
   "id": "bba83c3d-952d-48e0-99df-5eb5ed2114b2",
   "metadata": {},
   "source": [
    "sir i dont know how to get the code suggestion pop upa\n"
   ]
  },
  {
   "cell_type": "markdown",
   "id": "0d7ab417-089c-4e28-b886-fdf6fca4382e",
   "metadata": {},
   "source": [
    "**Data types**"
   ]
  },
  {
   "cell_type": "markdown",
   "id": "dad7cf9c-fa1f-4fc4-af96-d7ce2443852d",
   "metadata": {},
   "source": [
    "- in python we have many data types are there\n",
    "\n",
    "- integer\n",
    "\n",
    "- float\n",
    "\n",
    "- string\n",
    "\n",
    "- boolean"
   ]
  },
  {
   "cell_type": "markdown",
   "id": "350b809d-4941-4f5e-9418-c4842ec764bd",
   "metadata": {},
   "source": [
    "**integer**"
   ]
  },
  {
   "cell_type": "markdown",
   "id": "7c20adcb-218c-4252-8bf0-9298749c5d2f",
   "metadata": {},
   "source": [
    "- in python no need to mention a data type like c\n",
    "\n",
    "- it will consider the data type automatically\n"
   ]
  },
  {
   "cell_type": "code",
   "execution_count": 15,
   "id": "45e37ea3-35da-4716-a6ef-b63a042c150a",
   "metadata": {},
   "outputs": [],
   "source": [
    "number=100\n",
    "# in order to check the type of a variable we will use\n",
    "# in built function calles as type"
   ]
  },
  {
   "cell_type": "code",
   "execution_count": 17,
   "id": "79d23ce1-d490-43eb-9df6-904ea3690254",
   "metadata": {},
   "outputs": [
    {
     "data": {
      "text/plain": [
       "int"
      ]
     },
     "execution_count": 17,
     "metadata": {},
     "output_type": "execute_result"
    }
   ],
   "source": [
    "type(number)"
   ]
  },
  {
   "cell_type": "markdown",
   "id": "c0b35e61-3b96-48e2-8d5b-abeef1fb273b",
   "metadata": {},
   "source": [
    " - in maths we have different types of representations available\n",
    " \n",
    " - the following number systems are:\n",
    "\n",
    "          - binary\n",
    "\n",
    "           -octa\n",
    "\n",
    "           -decimal\n",
    "\n",
    "           -hexa"
   ]
  },
  {
   "cell_type": "markdown",
   "id": "0823726a-1763-4e67-b7ae-9c8becf0901f",
   "metadata": {},
   "source": [
    "**binary**"
   ]
  },
  {
   "cell_type": "markdown",
   "id": "9a9391ae-8d51-400f-9a62-c757484ba1b1",
   "metadata": {},
   "source": [
    "- binary has bi which indicates two\n",
    "\n",
    "- we have total 0 to 9 digits to represent any number\n",
    "\n",
    "- from there we will take only first two digits i.e 0and 1\n",
    "\n",
    "- example: 0b101, 0B0001\n",
    "\n",
    "- wrong representation is : 0b002,1b001\n"
   ]
  },
  {
   "cell_type": "code",
   "execution_count": 23,
   "id": "c0f3035e-4572-4b6f-b962-a4ac632cd2cc",
   "metadata": {},
   "outputs": [
    {
     "data": {
      "text/plain": [
       "1"
      ]
     },
     "execution_count": 23,
     "metadata": {},
     "output_type": "execute_result"
    }
   ],
   "source": [
    "num=0b001\n",
    "num"
   ]
  },
  {
   "cell_type": "code",
   "execution_count": 28,
   "id": "51f670d1-d12f-4a72-98ee-38a5fd83b81e",
   "metadata": {},
   "outputs": [
    {
     "data": {
      "text/plain": [
       "15"
      ]
     },
     "execution_count": 28,
     "metadata": {},
     "output_type": "execute_result"
    }
   ],
   "source": [
    "0b1111"
   ]
  },
  {
   "cell_type": "code",
   "execution_count": null,
   "id": "e169b18d-4cdd-47ea-a7ca-5f8997d1150c",
   "metadata": {},
   "outputs": [],
   "source": [
    "4   2   1   num\n",
    "0   0   0    0\n",
    "0   0   1    1\n",
    "0   1   0    2\n",
    "0   1   1    3\n",
    "1   0   0    4\n",
    "1   0   1    5     \n",
    "1   1   0    6   #0b110=6\n",
    "1   1   1    7   #0b111=7\n"
   ]
  },
  {
   "cell_type": "markdown",
   "id": "c7c9b8df-5112-4e9b-a903-00095296c207",
   "metadata": {},
   "source": [
    "**octa**"
   ]
  },
  {
   "cell_type": "markdown",
   "id": "b510c104-1337-4a2d-9424-30554e3f796f",
   "metadata": {},
   "source": [
    "- octa means 8\n",
    "\n",
    "- we have total 0 to 9 digits to represent any number:0,1,2,3,4,5,6,7,8,9\n",
    "\n",
    "- from there we will take only starting 8 digits i.e 0 to 7\n",
    "\n",
    "- example: 0o123,0o567,0o10006\n",
    "\n",
    "- wrong representation is :0o786 because 7,6 but 8"
   ]
  },
  {
   "cell_type": "code",
   "execution_count": 32,
   "id": "a5b22a0c-f19f-4b31-b0b0-1cad3da7a4c3",
   "metadata": {},
   "outputs": [
    {
     "ename": "SyntaxError",
     "evalue": "invalid digit '8' in octal literal (3171049937.py, line 1)",
     "output_type": "error",
     "traceback": [
      "\u001b[1;36m  Cell \u001b[1;32mIn[32], line 1\u001b[1;36m\u001b[0m\n\u001b[1;33m    0o786\u001b[0m\n\u001b[1;37m       ^\u001b[0m\n\u001b[1;31mSyntaxError\u001b[0m\u001b[1;31m:\u001b[0m invalid digit '8' in octal literal\n"
     ]
    }
   ],
   "source": [
    "0o786"
   ]
  },
  {
   "cell_type": "markdown",
   "id": "44149246-6952-415f-949a-741ce7626146",
   "metadata": {},
   "source": [
    "- a good developer will understand the errors easily\n",
    "\n",
    "- almost we will get 20 types\n",
    "\n",
    "- we will focus both on output as well as errors\n"
   ]
  },
  {
   "cell_type": "code",
   "execution_count": 35,
   "id": "951a23bf-5bfa-498e-ad97-d3adc19d009e",
   "metadata": {},
   "outputs": [
    {
     "data": {
      "text/plain": [
       "83"
      ]
     },
     "execution_count": 35,
     "metadata": {},
     "output_type": "execute_result"
    }
   ],
   "source": [
    "0o123"
   ]
  },
  {
   "cell_type": "code",
   "execution_count": 37,
   "id": "229edf3b-e521-41cb-9732-c1c43b7f3791",
   "metadata": {},
   "outputs": [
    {
     "data": {
      "text/plain": [
       "302"
      ]
     },
     "execution_count": 37,
     "metadata": {},
     "output_type": "execute_result"
    }
   ],
   "source": [
    "0o456"
   ]
  },
  {
   "cell_type": "markdown",
   "id": "c6dd5fc4-5e3d-4d60-9d20-d566d01541b7",
   "metadata": {},
   "source": [
    "**hexa**"
   ]
  },
  {
   "cell_type": "markdown",
   "id": "52c7a2ba-1043-4ca2-bb9e-d4efc3677877",
   "metadata": {},
   "source": [
    "- hexa means 16\n",
    "\n",
    "- we have total 0 to 9 digits to represent any number: 0,1,2,3,4,5,6,7,8,9\n",
    "\n",
    "- after 9 we will use A to F A:10,B=11,C=12,D=13,E=14,F=15\n",
    "\n",
    "- example: 0x123,0xABC, 0x9ad\n",
    "\n",
    "- wrong representation is :0xFGH\n",
    "  "
   ]
  },
  {
   "cell_type": "code",
   "execution_count": 44,
   "id": "625539c3-a254-498c-bc48-8af40d36d1ca",
   "metadata": {},
   "outputs": [
    {
     "data": {
      "text/plain": [
       "2748"
      ]
     },
     "execution_count": 44,
     "metadata": {},
     "output_type": "execute_result"
    }
   ],
   "source": [
    "0xabc"
   ]
  },
  {
   "cell_type": "code",
   "execution_count": 46,
   "id": "0f49d85b-8b1c-491a-972a-8152554eb982",
   "metadata": {},
   "outputs": [
    {
     "data": {
      "text/plain": [
       "2745"
      ]
     },
     "execution_count": 46,
     "metadata": {},
     "output_type": "execute_result"
    }
   ],
   "source": [
    "0xab9"
   ]
  },
  {
   "cell_type": "code",
   "execution_count": 48,
   "id": "c00ed3a6-7712-44a9-ab52-d56f905b5eaf",
   "metadata": {},
   "outputs": [
    {
     "data": {
      "text/plain": [
       "2898"
      ]
     },
     "execution_count": 48,
     "metadata": {},
     "output_type": "execute_result"
    }
   ],
   "source": [
    "0xb52"
   ]
  },
  {
   "cell_type": "markdown",
   "id": "63d63077-1b09-49b0-94d2-d4feeeb93787",
   "metadata": {},
   "source": [
    "**float**"
   ]
  },
  {
   "cell_type": "code",
   "execution_count": 51,
   "id": "54f0d5d2-57a8-476b-97df-e7baf43265b4",
   "metadata": {},
   "outputs": [
    {
     "data": {
      "text/plain": [
       "float"
      ]
     },
     "execution_count": 51,
     "metadata": {},
     "output_type": "execute_result"
    }
   ],
   "source": [
    "num=10.5\n",
    "type(num)"
   ]
  },
  {
   "cell_type": "code",
   "execution_count": 53,
   "id": "b80015f4-e362-4996-8020-fed5dcd4ba21",
   "metadata": {},
   "outputs": [
    {
     "data": {
      "text/plain": [
       "(int, float)"
      ]
     },
     "execution_count": 53,
     "metadata": {},
     "output_type": "execute_result"
    }
   ],
   "source": [
    "type(10),type(10.5)"
   ]
  },
  {
   "cell_type": "code",
   "execution_count": 55,
   "id": "1c4b58e0-4152-468f-8687-ad39f77fa434",
   "metadata": {},
   "outputs": [
    {
     "data": {
      "text/plain": [
       "100000.0"
      ]
     },
     "execution_count": 55,
     "metadata": {},
     "output_type": "execute_result"
    }
   ],
   "source": [
    "10e1 # 10*<10>=100\n",
    "10e2 # 10*<100>=1000\n",
    "10e3 # 10*<1000>=10000\n",
    "10e4 # 10*<10000>=100000"
   ]
  },
  {
   "cell_type": "code",
   "execution_count": 57,
   "id": "c0afb007-cb74-4e2a-9cdf-222ccbf46639",
   "metadata": {},
   "outputs": [
    {
     "data": {
      "text/plain": [
       "20"
      ]
     },
     "execution_count": 57,
     "metadata": {},
     "output_type": "execute_result"
    }
   ],
   "source": [
    "10\n",
    "20\n",
    "# in jupyter note book by default last value will print\n"
   ]
  },
  {
   "cell_type": "code",
   "execution_count": 59,
   "id": "8f3aea9a-9f72-4428-94db-d78d39f86cfa",
   "metadata": {},
   "outputs": [
    {
     "name": "stdout",
     "output_type": "stream",
     "text": [
      "10\n",
      "20\n"
     ]
    }
   ],
   "source": [
    "# if you want to see all the answers apply print\n",
    "print(10)\n",
    "print(20)"
   ]
  },
  {
   "cell_type": "code",
   "execution_count": 61,
   "id": "2d7198f9-e24d-4d6d-b5ca-566048357167",
   "metadata": {},
   "outputs": [
    {
     "data": {
      "text/plain": [
       "(10, 20)"
      ]
     },
     "execution_count": 61,
     "metadata": {},
     "output_type": "execute_result"
    }
   ],
   "source": [
    "10,20"
   ]
  },
  {
   "cell_type": "code",
   "execution_count": 63,
   "id": "8cc747b5-ca68-4633-bc2b-5783c16b3356",
   "metadata": {},
   "outputs": [
    {
     "name": "stdout",
     "output_type": "stream",
     "text": [
      "100.0\n",
      "1000.0\n",
      "10000.0\n",
      "100000.0\n"
     ]
    }
   ],
   "source": [
    "print(10e1)\n",
    "print(10e2)\n",
    "print(10e3)\n",
    "print(10e4)"
   ]
  },
  {
   "cell_type": "code",
   "execution_count": 65,
   "id": "f3718d89-01ec-4124-acc7-731a9544ccfb",
   "metadata": {},
   "outputs": [
    {
     "data": {
      "text/plain": [
       "(100.0, 1000.0, 10000.0)"
      ]
     },
     "execution_count": 65,
     "metadata": {},
     "output_type": "execute_result"
    }
   ],
   "source": [
    "10e+1,10e+2,10e+3"
   ]
  },
  {
   "cell_type": "code",
   "execution_count": 67,
   "id": "e9921bb5-ad4a-4be9-916a-393f0cb896f4",
   "metadata": {},
   "outputs": [
    {
     "data": {
      "text/plain": [
       "1000.0"
      ]
     },
     "execution_count": 67,
     "metadata": {},
     "output_type": "execute_result"
    }
   ],
   "source": [
    "10e2"
   ]
  },
  {
   "cell_type": "code",
   "execution_count": 69,
   "id": "080dbcc7-80c3-4679-87ef-f876b6b8c1c6",
   "metadata": {},
   "outputs": [
    {
     "name": "stdout",
     "output_type": "stream",
     "text": [
      "1.0\n",
      "0.1\n",
      "0.01\n",
      "0.001\n"
     ]
    }
   ],
   "source": [
    "print(10e-1)\n",
    "print(10e-2)\n",
    "print(10e-3)\n",
    "print(10e-4)\n"
   ]
  },
  {
   "cell_type": "markdown",
   "id": "e8b9758c-aba8-440e-a803-0427af0f7cce",
   "metadata": {},
   "source": [
    "- in the machine learning we often see the values in exponential format\n",
    "\n",
    "- in some cases we need to search for zero value\n",
    "\n",
    "- in ml with python we rarely see extact an answer 0.0\n",
    "\n",
    "- instead of 0.0 it will display as 1.2345e-17"
   ]
  },
  {
   "cell_type": "code",
   "execution_count": 72,
   "id": "e767b3e2-d066-4bbb-ad4a-f4c19b28148d",
   "metadata": {},
   "outputs": [
    {
     "data": {
      "text/plain": [
       "0.000774619736"
      ]
     },
     "execution_count": 72,
     "metadata": {},
     "output_type": "execute_result"
    }
   ],
   "source": [
    "7.74619736e-4"
   ]
  },
  {
   "cell_type": "code",
   "execution_count": 74,
   "id": "4191a33d-bc92-4c64-b0d3-0d7c798a615e",
   "metadata": {},
   "outputs": [
    {
     "data": {
      "text/plain": [
       "1.2345e-17"
      ]
     },
     "execution_count": 74,
     "metadata": {},
     "output_type": "execute_result"
    }
   ],
   "source": [
    "1.2345e-17"
   ]
  },
  {
   "cell_type": "markdown",
   "id": "a2aceecc-4cc1-41c6-8477-073cbd44524f",
   "metadata": {},
   "source": [
    "**strings**"
   ]
  },
  {
   "cell_type": "markdown",
   "id": "8f9b390c-38b5-4b36-a2ae-1b99abbc425b",
   "metadata": {},
   "source": [
    "- strings represents english charcters generally\n",
    "\n",
    "- strings will represents with quotes\n",
    "\n",
    "- single quotes\n",
    "\n",
    "- double quotes\n",
    "\n",
    "- triple quotes\n"
   ]
  },
  {
   "cell_type": "code",
   "execution_count": 79,
   "id": "aca400f9-a202-4206-9632-9bbb7afb4366",
   "metadata": {},
   "outputs": [
    {
     "data": {
      "text/plain": [
       "'python'"
      ]
     },
     "execution_count": 79,
     "metadata": {},
     "output_type": "execute_result"
    }
   ],
   "source": [
    "str1='python' # single quotes\n",
    "str1"
   ]
  },
  {
   "cell_type": "code",
   "execution_count": 81,
   "id": "361c0495-f4d6-49f3-b0b7-57f3e10c721a",
   "metadata": {},
   "outputs": [
    {
     "data": {
      "text/plain": [
       "str"
      ]
     },
     "execution_count": 81,
     "metadata": {},
     "output_type": "execute_result"
    }
   ],
   "source": [
    "type(str1)"
   ]
  },
  {
   "cell_type": "code",
   "execution_count": 83,
   "id": "b72f855a-598a-4e9f-8fcb-f5fdf59dd1dc",
   "metadata": {},
   "outputs": [
    {
     "data": {
      "text/plain": [
       "'python'"
      ]
     },
     "execution_count": 83,
     "metadata": {},
     "output_type": "execute_result"
    }
   ],
   "source": [
    "str2=\"python\"  #double quotes\n",
    "str2"
   ]
  },
  {
   "cell_type": "markdown",
   "id": "e1df730f-a103-4742-909f-1585b443d664",
   "metadata": {},
   "source": [
    "- we can represent in any way but python will give in single quotes"
   ]
  },
  {
   "cell_type": "code",
   "execution_count": 86,
   "id": "16c3ed95-03ba-4bff-99a8-f83b3131db3b",
   "metadata": {},
   "outputs": [
    {
     "name": "stdout",
     "output_type": "stream",
     "text": [
      "python\n",
      "python\n"
     ]
    }
   ],
   "source": [
    "print(str1)\n",
    "print(str2)"
   ]
  },
  {
   "cell_type": "markdown",
   "id": "57c6b112-594a-40f7-a25e-3a0a00ff8ef9",
   "metadata": {},
   "source": [
    "- when we apply print on string, it will display without quotes"
   ]
  },
  {
   "cell_type": "code",
   "execution_count": 89,
   "id": "2e91c174-3f01-4b6e-b887-aeb1e105e8fe",
   "metadata": {},
   "outputs": [
    {
     "data": {
      "text/plain": [
       "str"
      ]
     },
     "execution_count": 89,
     "metadata": {},
     "output_type": "execute_result"
    }
   ],
   "source": [
    "str3='abc123'\n",
    "type(str3)"
   ]
  },
  {
   "cell_type": "code",
   "execution_count": 93,
   "id": "73f218eb-774d-4c82-98ba-afe6b8bdee91",
   "metadata": {},
   "outputs": [
    {
     "data": {
      "text/plain": [
       "(str, str, str, str)"
      ]
     },
     "execution_count": 93,
     "metadata": {},
     "output_type": "execute_result"
    }
   ],
   "source": [
    "type('10'),type('10.5'),type('123'),type('apple')"
   ]
  },
  {
   "cell_type": "markdown",
   "id": "f84201d9-e7d4-4e95-92e0-df30512b7a02",
   "metadata": {},
   "source": [
    "- any data type or any value is provided by quotes means\n",
    "\n",
    "- it become a string only\n",
    "\n",
    "- strings always in red color\n",
    "\n",
    "- variables always in black color\n",
    "\n",
    "- keywords or numbers always in green color\n"
   ]
  },
  {
   "cell_type": "code",
   "execution_count": 96,
   "id": "b82ba938-c602-41eb-b0dc-71481ff0efe8",
   "metadata": {},
   "outputs": [
    {
     "data": {
      "text/plain": [
       "'vicky'"
      ]
     },
     "execution_count": 96,
     "metadata": {},
     "output_type": "execute_result"
    }
   ],
   "source": [
    "vicky='vicky'\n",
    "# vicky is a letters stored in a variable name called vicky\n",
    "vicky"
   ]
  },
  {
   "cell_type": "code",
   "execution_count": 100,
   "id": "cd541405-23bf-452a-901a-88b20d6db6f8",
   "metadata": {},
   "outputs": [
    {
     "name": "stdout",
     "output_type": "stream",
     "text": [
      " i like 'python'\n"
     ]
    }
   ],
   "source": [
    "str1=\" i like 'python'\"\n",
    "print(str1)"
   ]
  },
  {
   "cell_type": "code",
   "execution_count": 102,
   "id": "931d4985-de8d-44c3-a2b5-597b8a37e0bb",
   "metadata": {},
   "outputs": [
    {
     "name": "stdout",
     "output_type": "stream",
     "text": [
      "i like \"python\"\n"
     ]
    }
   ],
   "source": [
    "str1= 'i like \"python\"'\n",
    "print(str1)"
   ]
  },
  {
   "cell_type": "markdown",
   "id": "6d42d071-2d6c-4a98-b0fc-49cf54d1f36b",
   "metadata": {},
   "source": [
    "- if you want to highlite any word\n",
    "\n",
    "- represent entire string in single quotes, highlited word in double quotes vice versa\n"
   ]
  },
  {
   "cell_type": "code",
   "execution_count": 105,
   "id": "c290735a-d588-483d-828c-702e3b91bf00",
   "metadata": {},
   "outputs": [
    {
     "ename": "SyntaxError",
     "evalue": "invalid syntax (3479604206.py, line 2)",
     "output_type": "error",
     "traceback": [
      "\u001b[1;36m  Cell \u001b[1;32mIn[105], line 2\u001b[1;36m\u001b[0m\n\u001b[1;33m    how are you\u001b[0m\n\u001b[1;37m        ^\u001b[0m\n\u001b[1;31mSyntaxError\u001b[0m\u001b[1;31m:\u001b[0m invalid syntax\n"
     ]
    }
   ],
   "source": [
    "hai\n",
    "how are you"
   ]
  },
  {
   "cell_type": "code",
   "execution_count": 107,
   "id": "68ce08e1-c448-4302-8fcd-fc98441129a5",
   "metadata": {},
   "outputs": [
    {
     "ename": "SyntaxError",
     "evalue": "unterminated string literal (detected at line 1) (3198766728.py, line 1)",
     "output_type": "error",
     "traceback": [
      "\u001b[1;36m  Cell \u001b[1;32mIn[107], line 1\u001b[1;36m\u001b[0m\n\u001b[1;33m    str1='hai\u001b[0m\n\u001b[1;37m         ^\u001b[0m\n\u001b[1;31mSyntaxError\u001b[0m\u001b[1;31m:\u001b[0m unterminated string literal (detected at line 1)\n"
     ]
    }
   ],
   "source": [
    "str1='hai\n",
    "      how are you \n",
    "      im good'"
   ]
  },
  {
   "cell_type": "code",
   "execution_count": 109,
   "id": "38eeb833-5ce8-4e53-93ec-b9b675c386c1",
   "metadata": {},
   "outputs": [
    {
     "ename": "SyntaxError",
     "evalue": "unterminated string literal (detected at line 1) (2362128840.py, line 1)",
     "output_type": "error",
     "traceback": [
      "\u001b[1;36m  Cell \u001b[1;32mIn[109], line 1\u001b[1;36m\u001b[0m\n\u001b[1;33m    str1=\"hai\u001b[0m\n\u001b[1;37m         ^\u001b[0m\n\u001b[1;31mSyntaxError\u001b[0m\u001b[1;31m:\u001b[0m unterminated string literal (detected at line 1)\n"
     ]
    }
   ],
   "source": [
    "str1=\"hai\n",
    "      how are you \n",
    "      im good\""
   ]
  },
  {
   "cell_type": "code",
   "execution_count": 111,
   "id": "a6aa8356-cf17-4e46-bd57-6299df3aaf82",
   "metadata": {},
   "outputs": [],
   "source": [
    "str1=\"\"\"hai\n",
    "      how are you \n",
    "      im good\"\"\""
   ]
  },
  {
   "cell_type": "code",
   "execution_count": 113,
   "id": "b9eefca8-d558-485a-9073-5e49837cea18",
   "metadata": {},
   "outputs": [
    {
     "data": {
      "text/plain": [
       "'hai\\n      how are you \\n      im good'"
      ]
     },
     "execution_count": 113,
     "metadata": {},
     "output_type": "execute_result"
    }
   ],
   "source": [
    "str1"
   ]
  },
  {
   "cell_type": "code",
   "execution_count": 115,
   "id": "162c7ba8-92d8-47c7-b847-2400e82781a8",
   "metadata": {},
   "outputs": [
    {
     "name": "stdout",
     "output_type": "stream",
     "text": [
      "hai\n",
      "      how are you \n",
      "      im good\n"
     ]
    }
   ],
   "source": [
    "print(str1)"
   ]
  },
  {
   "cell_type": "markdown",
   "id": "648e7853-9726-4691-bfa1-b72ba20499df",
   "metadata": {},
   "source": [
    "- triple quotes is used for write a multiple comments\n",
    "\n",
    "- this is called **Docstring**\n",
    "\n",
    "- in order to write a story in jupyter notebook we have a markdown\n",
    "\n",
    "- but other platforms like vscode, pycharm, we dont have a markdowm\n",
    "\n",
    "- then how can we write a story:by using triple quotes\n",
    "\n",
    "- if any person writing some thing using triple quotes ,which indicates the user is trying to convey the information\n",
    "\n",
    "- this is process called as docstring\n",
    "\n",
    "\n",
    "sir how to execute the text cell can you please tell me the shortcut key \n",
    "\n",
    "\n",
    "esc+m\n",
    "\n",
    "shift+enter"
   ]
  },
  {
   "cell_type": "markdown",
   "id": "a610c45e-6366-457b-96e6-e9f420d82b27",
   "metadata": {},
   "source": [
    "**boolean**"
   ]
  },
  {
   "cell_type": "markdown",
   "id": "889cb492-07fb-4052-a7c4-725e7ea77129",
   "metadata": {},
   "source": [
    "- computer takes the values in binary format (1,0)\n",
    "\n",
    "- computer gives the answer in boolean format\n",
    "\n",
    "   -true\n",
    "\n",
    "   -false\n",
    "\n",
    "- true indicates 1\n",
    "\n",
    "- false indicates 0"
   ]
  },
  {
   "cell_type": "code",
   "execution_count": 122,
   "id": "300c44f3-44a2-4c4d-9a0b-89a71a5eaba3",
   "metadata": {},
   "outputs": [
    {
     "data": {
      "text/plain": [
       "bool"
      ]
     },
     "execution_count": 122,
     "metadata": {},
     "output_type": "execute_result"
    }
   ],
   "source": [
    "val=True\n",
    "type(val)"
   ]
  },
  {
   "cell_type": "code",
   "execution_count": 124,
   "id": "830cfe11-d211-4ea5-af4e-43813a46cbfd",
   "metadata": {},
   "outputs": [
    {
     "data": {
      "text/plain": [
       "bool"
      ]
     },
     "execution_count": 124,
     "metadata": {},
     "output_type": "execute_result"
    }
   ],
   "source": [
    "val1=False\n",
    "type(val1)"
   ]
  },
  {
   "cell_type": "code",
   "execution_count": null,
   "id": "eae29c70-27de-4644-955f-5016162457b3",
   "metadata": {},
   "outputs": [],
   "source": [
    "sir boolean is case senstive or not\n",
    "\n",
    "True\n",
    "true\n",
    "TRUE\n"
   ]
  },
  {
   "cell_type": "code",
   "execution_count": 126,
   "id": "af7f8f6b-ffa4-4665-8b20-5feea930b7a9",
   "metadata": {},
   "outputs": [
    {
     "data": {
      "text/plain": [
       "(True, 'True')"
      ]
     },
     "execution_count": 126,
     "metadata": {},
     "output_type": "execute_result"
    }
   ],
   "source": [
    "true='True'\n",
    "TRUE=True\n",
    "TRUE, true #two are variables"
   ]
  },
  {
   "cell_type": "code",
   "execution_count": 128,
   "id": "3489ff8e-b517-4c79-acda-dac01a601f75",
   "metadata": {},
   "outputs": [
    {
     "data": {
      "text/plain": [
       "(str, bool)"
      ]
     },
     "execution_count": 128,
     "metadata": {},
     "output_type": "execute_result"
    }
   ],
   "source": [
    "type(true), type(TRUE)"
   ]
  },
  {
   "cell_type": "code",
   "execution_count": null,
   "id": "d072ba68-ddde-4c8e-a7c0-639627da6977",
   "metadata": {},
   "outputs": [],
   "source": [
    "a=10\n",
    "b=10.5\n",
    "c='10'\n",
    "d=True"
   ]
  }
 ],
 "metadata": {
  "kernelspec": {
   "display_name": "Python 3 (ipykernel)",
   "language": "python",
   "name": "python3"
  },
  "language_info": {
   "codemirror_mode": {
    "name": "ipython",
    "version": 3
   },
   "file_extension": ".py",
   "mimetype": "text/x-python",
   "name": "python",
   "nbconvert_exporter": "python",
   "pygments_lexer": "ipython3",
   "version": "3.12.4"
  }
 },
 "nbformat": 4,
 "nbformat_minor": 5
}
