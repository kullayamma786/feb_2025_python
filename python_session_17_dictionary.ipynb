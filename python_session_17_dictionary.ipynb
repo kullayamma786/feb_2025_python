{
 "cells": [
  {
   "cell_type": "code",
   "execution_count": 5,
   "id": "01f5837c-cd56-4c94-bad4-032b4a5f79ee",
   "metadata": {},
   "outputs": [
    {
     "name": "stdout",
     "output_type": "stream",
     "text": [
      "ramesh age is  21\n",
      "suresh age is  22\n",
      "mahesh age is  23\n"
     ]
    }
   ],
   "source": [
    "names=['ramesh','suresh','mahesh']\n",
    "age=[21,22,23]\n",
    "# ramesh age is 21\n",
    "for i in range(len(names)):\n",
    "    print(f\"{names[i]} age is  {age[i]}\")"
   ]
  },
  {
   "cell_type": "markdown",
   "id": "d7c68ba3-6551-4d7d-a382-0ea2c04be5e6",
   "metadata": {},
   "source": [
    "**zip**"
   ]
  },
  {
   "cell_type": "code",
   "execution_count": 8,
   "id": "46183577-b3f4-4dd2-803d-5f979d295a38",
   "metadata": {},
   "outputs": [
    {
     "data": {
      "text/plain": [
       "<zip at 0x22a72a00900>"
      ]
     },
     "execution_count": 8,
     "metadata": {},
     "output_type": "execute_result"
    }
   ],
   "source": [
    "zip(names,age)"
   ]
  },
  {
   "cell_type": "code",
   "execution_count": 10,
   "id": "9a6cfc71-7853-4559-93f1-6539cd1872d5",
   "metadata": {},
   "outputs": [
    {
     "data": {
      "text/plain": [
       "[('ramesh', 21), ('suresh', 22), ('mahesh', 23)]"
      ]
     },
     "execution_count": 10,
     "metadata": {},
     "output_type": "execute_result"
    }
   ],
   "source": [
    "list(zip(names,age))"
   ]
  },
  {
   "cell_type": "code",
   "execution_count": 16,
   "id": "f89da6e0-3a12-4f91-9259-b18149e3e8fc",
   "metadata": {},
   "outputs": [
    {
     "name": "stdout",
     "output_type": "stream",
     "text": [
      "ramesh 21\n",
      "suresh 22\n",
      "mahesh 23\n"
     ]
    }
   ],
   "source": [
    "for i,j in zip(names,age):\n",
    "    print(i,j)"
   ]
  },
  {
   "cell_type": "code",
   "execution_count": 18,
   "id": "cb7cbdd3-71f1-4d0d-8963-f77eabdc9b0b",
   "metadata": {},
   "outputs": [],
   "source": [
    "d={}\n",
    "for i in names:\n",
    "    d[i]='h'"
   ]
  },
  {
   "cell_type": "code",
   "execution_count": 20,
   "id": "9f1f8b00-d9ad-47b4-829a-59f5be0efa24",
   "metadata": {
    "scrolled": true
   },
   "outputs": [
    {
     "data": {
      "text/plain": [
       "{'ramesh': 'h', 'suresh': 'h', 'mahesh': 'h'}"
      ]
     },
     "execution_count": 20,
     "metadata": {},
     "output_type": "execute_result"
    }
   ],
   "source": [
    "d"
   ]
  },
  {
   "cell_type": "code",
   "execution_count": 22,
   "id": "a6d30791-bf6b-42b6-82d7-33414d271b14",
   "metadata": {},
   "outputs": [
    {
     "data": {
      "text/plain": [
       "(10, 20)"
      ]
     },
     "execution_count": 22,
     "metadata": {},
     "output_type": "execute_result"
    }
   ],
   "source": [
    "a=10,20\n",
    "a"
   ]
  },
  {
   "cell_type": "code",
   "execution_count": 26,
   "id": "a7a4094d-365e-400f-a64e-61fa983bd37d",
   "metadata": {},
   "outputs": [
    {
     "ename": "TypeError",
     "evalue": "cannot unpack non-iterable int object",
     "output_type": "error",
     "traceback": [
      "\u001b[1;31m---------------------------------------------------------------------------\u001b[0m",
      "\u001b[1;31mTypeError\u001b[0m                                 Traceback (most recent call last)",
      "Cell \u001b[1;32mIn[26], line 1\u001b[0m\n\u001b[1;32m----> 1\u001b[0m a,b\u001b[38;5;241m=\u001b[39m\u001b[38;5;241m10\u001b[39m\n\u001b[0;32m      2\u001b[0m a,b\n",
      "\u001b[1;31mTypeError\u001b[0m: cannot unpack non-iterable int object"
     ]
    }
   ],
   "source": [
    "a,b=10\n",
    "a,b"
   ]
  },
  {
   "cell_type": "code",
   "execution_count": 28,
   "id": "25faba95-e116-4ebc-bd9f-ad7ed42692d7",
   "metadata": {},
   "outputs": [],
   "source": [
    "a,b=10,20"
   ]
  },
  {
   "cell_type": "code",
   "execution_count": 30,
   "id": "efe3d8ca-4b93-47d3-bf84-40f772d63b25",
   "metadata": {},
   "outputs": [
    {
     "data": {
      "text/plain": [
       "10"
      ]
     },
     "execution_count": 30,
     "metadata": {},
     "output_type": "execute_result"
    }
   ],
   "source": [
    "a"
   ]
  },
  {
   "cell_type": "code",
   "execution_count": 32,
   "id": "e24ef155-3b90-489c-a962-ae930c6d4b56",
   "metadata": {},
   "outputs": [
    {
     "data": {
      "text/plain": [
       "20"
      ]
     },
     "execution_count": 32,
     "metadata": {},
     "output_type": "execute_result"
    }
   ],
   "source": [
    "b"
   ]
  },
  {
   "cell_type": "code",
   "execution_count": 3,
   "id": "8d074fd8-f0f9-4757-bdbe-1b86c65336ea",
   "metadata": {},
   "outputs": [
    {
     "name": "stdout",
     "output_type": "stream",
     "text": [
      "('ramesh', 21)\n",
      "('suresh', 22)\n",
      "('mahesh', 23)\n"
     ]
    }
   ],
   "source": [
    "names=['ramesh','suresh','mahesh']\n",
    "age=[21,22,23]\n",
    "for i in zip(names,age):\n",
    "    print(i)"
   ]
  },
  {
   "cell_type": "code",
   "execution_count": 5,
   "id": "21ca9c69-be0e-403f-a1d0-8d68338e1cc4",
   "metadata": {},
   "outputs": [
    {
     "data": {
      "text/plain": [
       "<zip at 0x1e928831d00>"
      ]
     },
     "execution_count": 5,
     "metadata": {},
     "output_type": "execute_result"
    }
   ],
   "source": [
    "zip(names,age)"
   ]
  },
  {
   "cell_type": "code",
   "execution_count": 9,
   "id": "fc913be6-f031-45bb-bad8-fa3f95178b6c",
   "metadata": {},
   "outputs": [
    {
     "data": {
      "text/plain": [
       "[('ramesh', 21), ('suresh', 22), ('mahesh', 23)]"
      ]
     },
     "execution_count": 9,
     "metadata": {},
     "output_type": "execute_result"
    }
   ],
   "source": [
    "list(zip(names,age))"
   ]
  },
  {
   "cell_type": "markdown",
   "id": "74be0c4e-876d-4d4b-9162-38e94cacf582",
   "metadata": {},
   "source": [
    "- zip function is used to assign two are more values to one variable"
   ]
  },
  {
   "cell_type": "markdown",
   "id": "e581f6f8-dc08-4f69-bb2f-495690f9a76a",
   "metadata": {},
   "source": [
    "**dictionary**"
   ]
  },
  {
   "cell_type": "markdown",
   "id": "188e544e-db48-46e2-aa1d-a62b5da03cc8",
   "metadata": {},
   "source": [
    "- dictionary represents with curly braces\n",
    "\n",
    "- dictionary has key:value pair\n",
    "\n",
    "- {key:value}"
   ]
  },
  {
   "cell_type": "code",
   "execution_count": 37,
   "id": "9e9456d6-b0a1-4479-a226-fc314513766e",
   "metadata": {},
   "outputs": [
    {
     "data": {
      "text/plain": [
       "{'kullay': 21, 'lathif': 6, 'gajee': 10}"
      ]
     },
     "execution_count": 37,
     "metadata": {},
     "output_type": "execute_result"
    }
   ],
   "source": [
    "d1={'kullay':21,'lathif':6,'gajee':10}\n",
    "d1"
   ]
  },
  {
   "cell_type": "code",
   "execution_count": 39,
   "id": "aff36d27-8eff-45a3-aab6-23ad1194c005",
   "metadata": {},
   "outputs": [
    {
     "ename": "TypeError",
     "evalue": "unhashable type: 'list'",
     "output_type": "error",
     "traceback": [
      "\u001b[1;31m---------------------------------------------------------------------------\u001b[0m",
      "\u001b[1;31mTypeError\u001b[0m                                 Traceback (most recent call last)",
      "Cell \u001b[1;32mIn[39], line 1\u001b[0m\n\u001b[1;32m----> 1\u001b[0m d2\u001b[38;5;241m=\u001b[39m{[\u001b[38;5;124m'\u001b[39m\u001b[38;5;124mk\u001b[39m\u001b[38;5;124m'\u001b[39m]:\u001b[38;5;241m12\u001b[39m}\n\u001b[0;32m      2\u001b[0m d2\n",
      "\u001b[1;31mTypeError\u001b[0m: unhashable type: 'list'"
     ]
    }
   ],
   "source": [
    "d2={['k']:12}\n",
    "d2"
   ]
  },
  {
   "cell_type": "code",
   "execution_count": 41,
   "id": "a68decc7-89cf-49a1-bca3-115c8ffb1fb8",
   "metadata": {},
   "outputs": [
    {
     "data": {
      "text/plain": [
       "{(1, 2, 3): ['a', 'b']}"
      ]
     },
     "execution_count": 41,
     "metadata": {},
     "output_type": "execute_result"
    }
   ],
   "source": [
    "d3={(1,2,3):['a','b']}\n",
    "d3    # keys are important\n",
    "\n",
    "# keys must be unique\n",
    "# keys does not allow duplicate values\n",
    "# values allow duplicates\n"
   ]
  },
  {
   "cell_type": "code",
   "execution_count": 43,
   "id": "5da1c50f-cd1d-40a9-81a6-9e8e2f82b404",
   "metadata": {},
   "outputs": [
    {
     "ename": "TypeError",
     "evalue": "unhashable type: 'dict'",
     "output_type": "error",
     "traceback": [
      "\u001b[1;31m---------------------------------------------------------------------------\u001b[0m",
      "\u001b[1;31mTypeError\u001b[0m                                 Traceback (most recent call last)",
      "Cell \u001b[1;32mIn[43], line 1\u001b[0m\n\u001b[1;32m----> 1\u001b[0m d4\u001b[38;5;241m=\u001b[39m{{\u001b[38;5;124m'\u001b[39m\u001b[38;5;124mk\u001b[39m\u001b[38;5;124m'\u001b[39m:\u001b[38;5;124m'\u001b[39m\u001b[38;5;124mo\u001b[39m\u001b[38;5;124m'\u001b[39m}:\u001b[38;5;241m87\u001b[39m}\n\u001b[0;32m      2\u001b[0m d4\n",
      "\u001b[1;31mTypeError\u001b[0m: unhashable type: 'dict'"
     ]
    }
   ],
   "source": [
    "d4={{'k':'o'}:87}\n",
    "d4       # keys are always immutable\n",
    "\n"
   ]
  },
  {
   "cell_type": "code",
   "execution_count": 45,
   "id": "263080f8-157b-41e5-892f-d5d23e43e6de",
   "metadata": {},
   "outputs": [
    {
     "data": {
      "text/plain": [
       "{56: {'l': 'k'}}"
      ]
     },
     "execution_count": 45,
     "metadata": {},
     "output_type": "execute_result"
    }
   ],
   "source": [
    "d5={56:{'l':'k'}}\n",
    "d5"
   ]
  },
  {
   "cell_type": "markdown",
   "id": "fa939263-6be1-4211-9f10-351e159fe6ef",
   "metadata": {},
   "source": [
    "#keys are important\n",
    "- list mutable (changeble)\n",
    "\n",
    "- tuple immutable (unchangeable)\n",
    "\n",
    "- dict mutable (changeable)"
   ]
  },
  {
   "cell_type": "code",
   "execution_count": 48,
   "id": "22200c95-71c0-43cc-b0f3-7ae6e16535d6",
   "metadata": {},
   "outputs": [
    {
     "data": {
      "text/plain": [
       "{'kullay': 56}"
      ]
     },
     "execution_count": 48,
     "metadata": {},
     "output_type": "execute_result"
    }
   ],
   "source": [
    "d6={'kullay':78,'kullay':56}\n",
    "d6   # latest value is consider"
   ]
  },
  {
   "cell_type": "code",
   "execution_count": 50,
   "id": "a776f278-2cf6-424f-ac3b-eeccce62b703",
   "metadata": {},
   "outputs": [
    {
     "data": {
      "text/plain": [
       "{'lathif': 12, 'gajee': 12}"
      ]
     },
     "execution_count": 50,
     "metadata": {},
     "output_type": "execute_result"
    }
   ],
   "source": [
    "d7={'lathif':12,'gajee':12}\n",
    "d7  # values allow duplicates"
   ]
  },
  {
   "cell_type": "code",
   "execution_count": 52,
   "id": "2023be80-0a24-4dce-a55d-7a9235949c6c",
   "metadata": {},
   "outputs": [],
   "source": [
    "# values can be duplicates\n",
    "\n",
    "# keys can not be duplicate"
   ]
  },
  {
   "cell_type": "code",
   "execution_count": 54,
   "id": "b0886714-979c-4ca3-81cf-e840e5489368",
   "metadata": {},
   "outputs": [],
   "source": [
    "d8={6:'k','g':True,'boolean':True}"
   ]
  },
  {
   "cell_type": "code",
   "execution_count": 56,
   "id": "d1769b28-87b3-411b-acfe-40ecd7677cc9",
   "metadata": {},
   "outputs": [
    {
     "data": {
      "text/plain": [
       "{6: 'k', 'g': True, 'boolean': True}"
      ]
     },
     "execution_count": 56,
     "metadata": {},
     "output_type": "execute_result"
    }
   ],
   "source": [
    "d8"
   ]
  },
  {
   "cell_type": "code",
   "execution_count": 58,
   "id": "74ae165f-8dcc-48c6-8505-1f52659c6678",
   "metadata": {},
   "outputs": [
    {
     "data": {
      "text/plain": [
       "{'tuple': (5, 6, 7)}"
      ]
     },
     "execution_count": 58,
     "metadata": {},
     "output_type": "execute_result"
    }
   ],
   "source": [
    "d9={'tuple':(5,6,7)}\n",
    "d9"
   ]
  },
  {
   "cell_type": "code",
   "execution_count": 60,
   "id": "d8feffd5-b0ef-4868-992d-8000bada847e",
   "metadata": {},
   "outputs": [
    {
     "data": {
      "text/plain": [
       "{('k', 'j'): 78}"
      ]
     },
     "execution_count": 60,
     "metadata": {},
     "output_type": "execute_result"
    }
   ],
   "source": [
    "d10={('k','j'):(78)}\n",
    "d10"
   ]
  },
  {
   "cell_type": "code",
   "execution_count": 62,
   "id": "b72c2e8f-86de-48bf-a71f-79f3a833f461",
   "metadata": {},
   "outputs": [
    {
     "data": {
      "text/plain": [
       "{'ramesh': '21', 'suresh': '22', 'mahesh': '23'}"
      ]
     },
     "execution_count": 62,
     "metadata": {},
     "output_type": "execute_result"
    }
   ],
   "source": [
    "d11={'ramesh':'21','suresh':'22','mahesh':'23'}\n",
    "d11"
   ]
  },
  {
   "cell_type": "code",
   "execution_count": 68,
   "id": "067458d3-cb27-416d-817c-49f02d9159bb",
   "metadata": {},
   "outputs": [],
   "source": [
    "d12={21:'u',21:'i'}"
   ]
  },
  {
   "cell_type": "code",
   "execution_count": 70,
   "id": "ef1450e4-4334-49c0-8dc1-1ccacb196ed8",
   "metadata": {},
   "outputs": [
    {
     "data": {
      "text/plain": [
       "{21: 'i'}"
      ]
     },
     "execution_count": 70,
     "metadata": {},
     "output_type": "execute_result"
    }
   ],
   "source": [
    "d12\n"
   ]
  },
  {
   "cell_type": "code",
   "execution_count": 72,
   "id": "0081cc4b-69c0-4144-9174-2ce56807e747",
   "metadata": {},
   "outputs": [
    {
     "ename": "TypeError",
     "evalue": "unhashable type: 'list'",
     "output_type": "error",
     "traceback": [
      "\u001b[1;31m---------------------------------------------------------------------------\u001b[0m",
      "\u001b[1;31mTypeError\u001b[0m                                 Traceback (most recent call last)",
      "Cell \u001b[1;32mIn[72], line 1\u001b[0m\n\u001b[1;32m----> 1\u001b[0m d13\u001b[38;5;241m=\u001b[39m{[\u001b[38;5;241m1\u001b[39m,\u001b[38;5;241m2\u001b[39m,\u001b[38;5;241m3\u001b[39m]:[\u001b[38;5;241m6\u001b[39m,\u001b[38;5;241m7\u001b[39m,\u001b[38;5;241m8\u001b[39m]}\n\u001b[0;32m      2\u001b[0m d13\n",
      "\u001b[1;31mTypeError\u001b[0m: unhashable type: 'list'"
     ]
    }
   ],
   "source": [
    "d13={[1,2,3]:[6,7,8]}\n",
    "d13"
   ]
  },
  {
   "cell_type": "code",
   "execution_count": 74,
   "id": "e91fbf12-b42a-43ca-8d36-c8b6dadec027",
   "metadata": {},
   "outputs": [
    {
     "data": {
      "text/plain": [
       "{(1, 2, 3): (4, 5, 6)}"
      ]
     },
     "execution_count": 74,
     "metadata": {},
     "output_type": "execute_result"
    }
   ],
   "source": [
    "d14={(1,2,3):(4,5,6)}\n",
    "d14"
   ]
  },
  {
   "cell_type": "code",
   "execution_count": 76,
   "id": "0d50f9c8-26bb-4d6b-b6c9-068632538813",
   "metadata": {},
   "outputs": [
    {
     "data": {
      "text/plain": [
       "{'name': {'rames': 25}}"
      ]
     },
     "execution_count": 76,
     "metadata": {},
     "output_type": "execute_result"
    }
   ],
   "source": [
    "d15={'name':{'rames':25}}  # keys are important\n",
    "\n",
    "# keys must be immutable\n",
    "d15"
   ]
  },
  {
   "cell_type": "code",
   "execution_count": 78,
   "id": "ea2ba72c-b874-48f4-bc8d-0846d1bf6133",
   "metadata": {},
   "outputs": [
    {
     "ename": "TypeError",
     "evalue": "unhashable type: 'dict'",
     "output_type": "error",
     "traceback": [
      "\u001b[1;31m---------------------------------------------------------------------------\u001b[0m",
      "\u001b[1;31mTypeError\u001b[0m                                 Traceback (most recent call last)",
      "Cell \u001b[1;32mIn[78], line 1\u001b[0m\n\u001b[1;32m----> 1\u001b[0m d16\u001b[38;5;241m=\u001b[39m{{\u001b[38;5;124m'\u001b[39m\u001b[38;5;124mramesh\u001b[39m\u001b[38;5;124m'\u001b[39m:\u001b[38;5;241m25\u001b[39m}:\u001b[38;5;124m'\u001b[39m\u001b[38;5;124mname\u001b[39m\u001b[38;5;124m'\u001b[39m}\n\u001b[0;32m      2\u001b[0m d16\n",
      "\u001b[1;31mTypeError\u001b[0m: unhashable type: 'dict'"
     ]
    }
   ],
   "source": [
    "d16={{'ramesh':25}:'name'}\n",
    "d16"
   ]
  },
  {
   "cell_type": "code",
   "execution_count": 80,
   "id": "049d5b6e-a4cb-4621-bb23-3d5fb45c88e7",
   "metadata": {},
   "outputs": [],
   "source": [
    "#d16={['k']:[1]}\n",
    "# keys are important\n",
    "# keys should be unique\n",
    "# list is applied at keys position\n",
    "# list is mutable ==== fail"
   ]
  },
  {
   "cell_type": "markdown",
   "id": "f4ef3cef-f690-4f62-a976-833a36b7c443",
   "metadata": {},
   "source": [
    "-len\n",
    "\n",
    "- min\n",
    "\n",
    "- max\n",
    "\n",
    "- sorted\n",
    "\n",
    "--reversed\n"
   ]
  },
  {
   "cell_type": "code",
   "execution_count": 83,
   "id": "67129708-0e50-4cf8-8649-64d13f5def1a",
   "metadata": {},
   "outputs": [
    {
     "data": {
      "text/plain": [
       "3"
      ]
     },
     "execution_count": 83,
     "metadata": {},
     "output_type": "execute_result"
    }
   ],
   "source": [
    "d1={'kullay':'bcom','lathif':'1st class','jasya':1}\n",
    "len(d1)"
   ]
  },
  {
   "cell_type": "code",
   "execution_count": 85,
   "id": "20c908da-0c0a-4cf3-a00e-49ed6d0a6a15",
   "metadata": {},
   "outputs": [
    {
     "data": {
      "text/plain": [
       "'jasya'"
      ]
     },
     "execution_count": 85,
     "metadata": {},
     "output_type": "execute_result"
    }
   ],
   "source": [
    "min(d1)  # keys are important"
   ]
  },
  {
   "cell_type": "code",
   "execution_count": 87,
   "id": "77218ff1-9180-4a83-957a-7f65d7df42ae",
   "metadata": {},
   "outputs": [
    {
     "data": {
      "text/plain": [
       "'lathif'"
      ]
     },
     "execution_count": 87,
     "metadata": {},
     "output_type": "execute_result"
    }
   ],
   "source": [
    "max(d1)"
   ]
  },
  {
   "cell_type": "code",
   "execution_count": 89,
   "id": "a7be89cf-3d59-46b8-8c4e-eb6a3b8c76c1",
   "metadata": {},
   "outputs": [
    {
     "data": {
      "text/plain": [
       "['jasya', 'kullay', 'lathif']"
      ]
     },
     "execution_count": 89,
     "metadata": {},
     "output_type": "execute_result"
    }
   ],
   "source": [
    "sorted(d1)"
   ]
  },
  {
   "cell_type": "code",
   "execution_count": 91,
   "id": "6a9b61a3-d923-473a-a4c6-695e6d1a678e",
   "metadata": {},
   "outputs": [
    {
     "data": {
      "text/plain": [
       "['lathif', 'kullay', 'jasya']"
      ]
     },
     "execution_count": 91,
     "metadata": {},
     "output_type": "execute_result"
    }
   ],
   "source": [
    "sorted(d1,reverse=True)"
   ]
  },
  {
   "cell_type": "code",
   "execution_count": 93,
   "id": "c4198871-36c4-4ff6-ab45-e9f93cce287b",
   "metadata": {},
   "outputs": [
    {
     "data": {
      "text/plain": [
       "<dict_reversekeyiterator at 0x22a72a7e3e0>"
      ]
     },
     "execution_count": 93,
     "metadata": {},
     "output_type": "execute_result"
    }
   ],
   "source": [
    "reversed(d1)"
   ]
  },
  {
   "cell_type": "code",
   "execution_count": 95,
   "id": "b683d9e9-c6cc-4b32-9e30-470915ed602d",
   "metadata": {},
   "outputs": [
    {
     "name": "stdout",
     "output_type": "stream",
     "text": [
      "jasya\n",
      "lathif\n",
      "kullay\n"
     ]
    }
   ],
   "source": [
    "for i in reversed(d1):\n",
    "    d1[i]\n",
    "    "
   ]
  },
  {
   "cell_type": "code",
   "execution_count": 97,
   "id": "9116704b-1e49-4bb3-9262-5b8563115edf",
   "metadata": {},
   "outputs": [
    {
     "data": {
      "text/plain": [
       "['jasya', 'lathif', 'kullay']"
      ]
     },
     "execution_count": 97,
     "metadata": {},
     "output_type": "execute_result"
    }
   ],
   "source": [
    "list(reversed(d1))"
   ]
  },
  {
   "cell_type": "code",
   "execution_count": 99,
   "id": "1ff05735-2f03-405a-aa85-07ff3233f7f5",
   "metadata": {},
   "outputs": [
    {
     "name": "stdout",
     "output_type": "stream",
     "text": [
      "1\n",
      "2\n",
      "3\n"
     ]
    }
   ],
   "source": [
    "for i in [1,2,3]:\n",
    "    print(i)"
   ]
  },
  {
   "cell_type": "code",
   "execution_count": 101,
   "id": "20ef8653-3445-4e3e-92ac-73802ab3716d",
   "metadata": {},
   "outputs": [
    {
     "name": "stdout",
     "output_type": "stream",
     "text": [
      "1\n",
      "2\n",
      "3\n"
     ]
    }
   ],
   "source": [
    "for i in '123':\n",
    "    print(i)"
   ]
  },
  {
   "cell_type": "code",
   "execution_count": 103,
   "id": "f8ce6d0d-d469-492c-9da3-83e05593385f",
   "metadata": {},
   "outputs": [
    {
     "name": "stdout",
     "output_type": "stream",
     "text": [
      "n1\n",
      "n2\n"
     ]
    }
   ],
   "source": [
    "for i in {'n1':9,'n2':7}:\n",
    "    print(i)"
   ]
  },
  {
   "cell_type": "markdown",
   "id": "7c4b6962-9edc-4c6d-a7ae-f9ba57aadab5",
   "metadata": {},
   "source": [
    "**indexing**"
   ]
  },
  {
   "cell_type": "code",
   "execution_count": 106,
   "id": "957c16c1-aafe-4df3-84c6-24acc471a1b3",
   "metadata": {},
   "outputs": [
    {
     "data": {
      "text/plain": [
       "89"
      ]
     },
     "execution_count": 106,
     "metadata": {},
     "output_type": "execute_result"
    }
   ],
   "source": [
    "d4={'kullay':89,'lathif':65}\n",
    "d4['kullay'] # dict indexing is like this\n",
    "\n",
    "# when we give key name that gives value name"
   ]
  },
  {
   "cell_type": "code",
   "execution_count": 108,
   "id": "0ee061b3-db28-4954-a4ae-a8f4e0bc1e33",
   "metadata": {},
   "outputs": [
    {
     "ename": "KeyError",
     "evalue": "0",
     "output_type": "error",
     "traceback": [
      "\u001b[1;31m---------------------------------------------------------------------------\u001b[0m",
      "\u001b[1;31mKeyError\u001b[0m                                  Traceback (most recent call last)",
      "Cell \u001b[1;32mIn[108], line 1\u001b[0m\n\u001b[1;32m----> 1\u001b[0m d4[\u001b[38;5;241m0\u001b[39m]\n",
      "\u001b[1;31mKeyError\u001b[0m: 0"
     ]
    }
   ],
   "source": [
    "d4[0]"
   ]
  },
  {
   "cell_type": "code",
   "execution_count": 110,
   "id": "b6e1d4de-525a-496a-bdee-d82a91985d40",
   "metadata": {},
   "outputs": [
    {
     "data": {
      "text/plain": [
       "65"
      ]
     },
     "execution_count": 110,
     "metadata": {},
     "output_type": "execute_result"
    }
   ],
   "source": [
    "d4['lathif']"
   ]
  },
  {
   "cell_type": "code",
   "execution_count": 112,
   "id": "288de342-a9c9-46ff-b7fe-cb8d1faf4671",
   "metadata": {},
   "outputs": [
    {
     "ename": "KeyError",
     "evalue": "65",
     "output_type": "error",
     "traceback": [
      "\u001b[1;31m---------------------------------------------------------------------------\u001b[0m",
      "\u001b[1;31mKeyError\u001b[0m                                  Traceback (most recent call last)",
      "Cell \u001b[1;32mIn[112], line 1\u001b[0m\n\u001b[1;32m----> 1\u001b[0m d4[\u001b[38;5;241m65\u001b[39m]\n",
      "\u001b[1;31mKeyError\u001b[0m: 65"
     ]
    }
   ],
   "source": [
    "d4[65]"
   ]
  },
  {
   "cell_type": "markdown",
   "id": "b9f4a2c5-2a3e-4b5f-866f-6a3867498213",
   "metadata": {},
   "source": [
    "**if want to access values, first we need to use key as index**"
   ]
  },
  {
   "cell_type": "code",
   "execution_count": 115,
   "id": "b97c1f2e-8d3a-4f41-96bc-51c3bed49871",
   "metadata": {},
   "outputs": [
    {
     "data": {
      "text/plain": [
       "'bcom'"
      ]
     },
     "execution_count": 115,
     "metadata": {},
     "output_type": "execute_result"
    }
   ],
   "source": [
    "d1={'kullay':'bcom','lathif':'1st class','jasya':1}\n",
    "d1['kullay']\n"
   ]
  },
  {
   "cell_type": "code",
   "execution_count": 117,
   "id": "beb33b99-fada-4554-948e-934d3424aed8",
   "metadata": {},
   "outputs": [
    {
     "data": {
      "text/plain": [
       "('bcom', '1st class', 1)"
      ]
     },
     "execution_count": 117,
     "metadata": {},
     "output_type": "execute_result"
    }
   ],
   "source": [
    "a=d1['kullay']\n",
    "b=d1['lathif']\n",
    "c=d1['jasya']\n",
    "a,b,c"
   ]
  },
  {
   "cell_type": "code",
   "execution_count": 119,
   "id": "626cc27a-0163-4528-984e-3396f514aad2",
   "metadata": {},
   "outputs": [
    {
     "name": "stdout",
     "output_type": "stream",
     "text": [
      "ramesh age is 21\n",
      "suresh age is 22\n",
      "mahesh age is 23\n"
     ]
    }
   ],
   "source": [
    "names={'ramesh':21,'suresh':22,'mahesh':23}\n",
    "# ramesh age is 21\n",
    "for i in names:\n",
    "    print(f\"{i} age is {names[i]}\")"
   ]
  },
  {
   "cell_type": "code",
   "execution_count": 123,
   "id": "08f1cd74-e13e-4720-9ab8-d48633eb7418",
   "metadata": {},
   "outputs": [
    {
     "name": "stdout",
     "output_type": "stream",
     "text": [
      "ramesh age of 21\n",
      "suresh age of 22\n",
      "mahesh age of 23\n"
     ]
    }
   ],
   "source": [
    "names=['ramesh','suresh','mahesh']\n",
    "age=[21,22,23]\n",
    "for i in range(len(names)):\n",
    "    print(f\"{names[i]} age of {age[i]}\")"
   ]
  },
  {
   "cell_type": "markdown",
   "id": "d584072c-fcca-47e6-8269-ed103722a6d2",
   "metadata": {},
   "source": [
    "**how to create empty dictionary**"
   ]
  },
  {
   "cell_type": "code",
   "execution_count": 126,
   "id": "76da2882-1d64-40d1-8eae-c6015d9aa433",
   "metadata": {},
   "outputs": [
    {
     "data": {
      "text/plain": [
       "'k'"
      ]
     },
     "execution_count": 126,
     "metadata": {},
     "output_type": "execute_result"
    }
   ],
   "source": [
    "s=''\n",
    "s+='k'\n",
    "s"
   ]
  },
  {
   "cell_type": "code",
   "execution_count": 128,
   "id": "d225a250-98dc-4627-bfa7-1a82a185720d",
   "metadata": {},
   "outputs": [
    {
     "data": {
      "text/plain": [
       "[1, 2, 3]"
      ]
     },
     "execution_count": 128,
     "metadata": {},
     "output_type": "execute_result"
    }
   ],
   "source": [
    "l=[]\n",
    "l+=[1,2,3]\n",
    "l"
   ]
  },
  {
   "cell_type": "code",
   "execution_count": 130,
   "id": "4efac582-c096-4cf0-a75d-094428c1013d",
   "metadata": {},
   "outputs": [
    {
     "ename": "TypeError",
     "evalue": "unsupported operand type(s) for +=: 'dict' and 'dict'",
     "output_type": "error",
     "traceback": [
      "\u001b[1;31m---------------------------------------------------------------------------\u001b[0m",
      "\u001b[1;31mTypeError\u001b[0m                                 Traceback (most recent call last)",
      "Cell \u001b[1;32mIn[130], line 2\u001b[0m\n\u001b[0;32m      1\u001b[0m d\u001b[38;5;241m=\u001b[39m{}\n\u001b[1;32m----> 2\u001b[0m d\u001b[38;5;241m+\u001b[39m\u001b[38;5;241m=\u001b[39m{\u001b[38;5;124m'\u001b[39m\u001b[38;5;124mf\u001b[39m\u001b[38;5;124m'\u001b[39m:\u001b[38;5;241m8\u001b[39m}\n\u001b[0;32m      3\u001b[0m d\n",
      "\u001b[1;31mTypeError\u001b[0m: unsupported operand type(s) for +=: 'dict' and 'dict'"
     ]
    }
   ],
   "source": [
    "d={}\n",
    "d+={'f':8}\n",
    "d"
   ]
  },
  {
   "cell_type": "code",
   "execution_count": 132,
   "id": "b9755850-7c93-45fc-92b7-87eb1ebdf51c",
   "metadata": {},
   "outputs": [
    {
     "data": {
      "text/plain": [
       "[7]"
      ]
     },
     "execution_count": 132,
     "metadata": {},
     "output_type": "execute_result"
    }
   ],
   "source": [
    "l1=[]\n",
    "l1.append(7)\n",
    "l1"
   ]
  },
  {
   "cell_type": "code",
   "execution_count": 134,
   "id": "9c469b92-9aa2-49ab-8335-8a7d4c391102",
   "metadata": {},
   "outputs": [
    {
     "data": {
      "text/plain": [
       "{'ears': 2}"
      ]
     },
     "execution_count": 134,
     "metadata": {},
     "output_type": "execute_result"
    }
   ],
   "source": [
    "d={}\n",
    "d['ears']= 2           # d[key]= value  # when we want add any value to empty dictionary we use this syntax\n",
    "                                                # var_name[key]=value\n",
    "d"
   ]
  },
  {
   "cell_type": "code",
   "execution_count": 138,
   "id": "96de4ed2-80b7-45bc-b031-21967510271d",
   "metadata": {},
   "outputs": [
    {
     "data": {
      "text/plain": [
       "{'ears': 2, 'kullay': 3}"
      ]
     },
     "execution_count": 138,
     "metadata": {},
     "output_type": "execute_result"
    }
   ],
   "source": [
    "d['kullay']=3\n",
    "d"
   ]
  },
  {
   "cell_type": "markdown",
   "id": "0e0163a1-6d1b-411f-b272-47b7ce463d8c",
   "metadata": {},
   "source": [
    "**create a dictionary using list**"
   ]
  },
  {
   "cell_type": "code",
   "execution_count": 145,
   "id": "93a7ca1c-2c9a-44ff-b323-060eddf3bb58",
   "metadata": {},
   "outputs": [
    {
     "name": "stdout",
     "output_type": "stream",
     "text": [
      "ramesh 21\n",
      "suresh 22\n",
      "mahesh 23\n"
     ]
    }
   ],
   "source": [
    "names=['ramesh','suresh','mahesh']\n",
    "age=[21,22,23]\n",
    "for i in range(len(names)):\n",
    "    print(names[i],age[i])"
   ]
  },
  {
   "cell_type": "code",
   "execution_count": 147,
   "id": "d6a42e93-5460-4018-beb4-9f5dff88bb68",
   "metadata": {},
   "outputs": [
    {
     "data": {
      "text/plain": [
       "<zip at 0x22a72ac4f40>"
      ]
     },
     "execution_count": 147,
     "metadata": {},
     "output_type": "execute_result"
    }
   ],
   "source": [
    "zip(names,age)"
   ]
  },
  {
   "cell_type": "code",
   "execution_count": 149,
   "id": "36256920-a564-4f19-a34e-3dab5852be58",
   "metadata": {},
   "outputs": [
    {
     "data": {
      "text/plain": [
       "{'ramesh': 21, 'suresh': 22, 'mahesh': 23}"
      ]
     },
     "execution_count": 149,
     "metadata": {},
     "output_type": "execute_result"
    }
   ],
   "source": [
    "h={}\n",
    "for i,j in zip(names,age):\n",
    "    # h[key]=value\n",
    "    h[i]=j\n",
    "\n",
    "h\n",
    "    "
   ]
  },
  {
   "cell_type": "code",
   "execution_count": 153,
   "id": "42588f95-c09e-428b-a863-ed2c10a673ec",
   "metadata": {},
   "outputs": [
    {
     "data": {
      "text/plain": [
       "{'ramesh': 21, 'suresh': 22, 'mahesh': 23}"
      ]
     },
     "execution_count": 153,
     "metadata": {},
     "output_type": "execute_result"
    }
   ],
   "source": [
    "d={}\n",
    "a=d['ramesh']=21\n",
    "b=d['suresh']=22\n",
    "c=d['mahesh']=23\n",
    "d"
   ]
  },
  {
   "cell_type": "code",
   "execution_count": 161,
   "id": "25d9385e-0e00-431a-a962-5b7751cc6a96",
   "metadata": {},
   "outputs": [
    {
     "data": {
      "text/plain": [
       "{'ramesh': 21, 'suresh': 22, 'mahesh': 23}"
      ]
     },
     "execution_count": 161,
     "metadata": {},
     "output_type": "execute_result"
    }
   ],
   "source": [
    "h={}\n",
    "for i ,j in zip(names,age):\n",
    "    # h[key]=value\n",
    "    h[i]=j\n",
    "h"
   ]
  },
  {
   "cell_type": "markdown",
   "id": "04d64087-a464-46e2-9705-2aba92022ae6",
   "metadata": {},
   "source": [
    "**how to make list from dictionary**"
   ]
  },
  {
   "cell_type": "markdown",
   "id": "5cd02e4a-d493-4866-a874-6100a7cb56a7",
   "metadata": {},
   "source": [
    "- dictionary has key and values\n",
    "\n",
    "- so we can make two lists\n",
    "\n",
    "- keys and values\n"
   ]
  },
  {
   "cell_type": "code",
   "execution_count": 173,
   "id": "d5c333fd-f724-47eb-b51f-60ca529949c8",
   "metadata": {},
   "outputs": [
    {
     "name": "stdout",
     "output_type": "stream",
     "text": [
      "['ramesh', 'suresh', 'mahesh']\n",
      "[21, 22, 23]\n"
     ]
    }
   ],
   "source": [
    "names={'ramesh':21,'suresh':22,'mahesh':23}\n",
    "keys=[]\n",
    "values=[]\n",
    "for i in names:\n",
    "    keys.append(i)\n",
    "    values.append(names[i])\n",
    "\n",
    "print(keys)\n",
    "print(values)"
   ]
  },
  {
   "cell_type": "code",
   "execution_count": 167,
   "id": "e93514ae-bfc1-4525-bafd-6669a0980df2",
   "metadata": {},
   "outputs": [
    {
     "data": {
      "text/plain": [
       "['ramesh', 'suresh', 'mahesh']"
      ]
     },
     "execution_count": 167,
     "metadata": {},
     "output_type": "execute_result"
    }
   ],
   "source": [
    "keys"
   ]
  },
  {
   "cell_type": "code",
   "execution_count": 181,
   "id": "ca6fdd39-2488-40b2-b4b1-14e9b977d73d",
   "metadata": {},
   "outputs": [
    {
     "data": {
      "text/plain": [
       "{'ramesh': 'b.com', 'suresh': 'inter', 'mahesh': '10th class'}"
      ]
     },
     "execution_count": 181,
     "metadata": {},
     "output_type": "execute_result"
    }
   ],
   "source": [
    "k={}\n",
    "names=['ramesh','suresh','mahesh']\n",
    "standard=['b.com','inter','10th class']\n",
    "for i,j in zip(names,standard):\n",
    "    k[i]=j\n",
    "    \n",
    "\n",
    "k\n"
   ]
  },
  {
   "cell_type": "code",
   "execution_count": 187,
   "id": "9e92399f-7fd5-4c7b-a92d-2dd3f4baf18c",
   "metadata": {},
   "outputs": [
    {
     "name": "stdout",
     "output_type": "stream",
     "text": [
      "['ramesh', 'suresh', 'mahesh', 'ramesh', 'suresh', 'mahesh', 'ramesh', 'suresh', 'mahesh', 'ramesh', 'suresh', 'mahesh']\n",
      "['b.com', 'inter', '10th class']\n"
     ]
    }
   ],
   "source": [
    "key=[]\n",
    "values=[]\n",
    "for i in k:\n",
    "    keys.append(i)\n",
    "    values.append(k[i])\n",
    "\n",
    "print(keys)\n",
    "print(values)"
   ]
  },
  {
   "cell_type": "markdown",
   "id": "0f8b1c4a-e6b8-439d-aa7e-1749acd4f167",
   "metadata": {},
   "source": [
    "**mutable immutable**"
   ]
  },
  {
   "cell_type": "code",
   "execution_count": 190,
   "id": "8de10c0a-7776-483d-8af9-5000cbe0fd3c",
   "metadata": {},
   "outputs": [
    {
     "data": {
      "text/plain": [
       "22"
      ]
     },
     "execution_count": 190,
     "metadata": {},
     "output_type": "execute_result"
    }
   ],
   "source": [
    "names={'ramesh':21,'suresh':22,'mahesh':23}\n",
    "names['suresh']             # we want to get value syntax : varname[key]"
   ]
  },
  {
   "cell_type": "code",
   "execution_count": 192,
   "id": "47f38413-ef63-4776-89d5-9ebe645a0020",
   "metadata": {},
   "outputs": [],
   "source": [
    "names['mahesh']=78  # we want to change the value for the key syntax: varname[key]=value"
   ]
  },
  {
   "cell_type": "code",
   "execution_count": 194,
   "id": "1b583ac5-24cd-446a-9c65-ebda61a7700d",
   "metadata": {},
   "outputs": [
    {
     "data": {
      "text/plain": [
       "{'ramesh': 21, 'suresh': 22, 'mahesh': 78}"
      ]
     },
     "execution_count": 194,
     "metadata": {},
     "output_type": "execute_result"
    }
   ],
   "source": [
    "names"
   ]
  },
  {
   "cell_type": "code",
   "execution_count": 196,
   "id": "22050e83-17ec-4cbb-9355-7b7f7975c08e",
   "metadata": {},
   "outputs": [
    {
     "ename": "TypeError",
     "evalue": "'str' object does not support item assignment",
     "output_type": "error",
     "traceback": [
      "\u001b[1;31m---------------------------------------------------------------------------\u001b[0m",
      "\u001b[1;31mTypeError\u001b[0m                                 Traceback (most recent call last)",
      "Cell \u001b[1;32mIn[196], line 2\u001b[0m\n\u001b[0;32m      1\u001b[0m s\u001b[38;5;241m=\u001b[39m\u001b[38;5;124m'\u001b[39m\u001b[38;5;124m'\u001b[39m\n\u001b[1;32m----> 2\u001b[0m s[\u001b[38;5;241m0\u001b[39m]\u001b[38;5;241m=\u001b[39m\u001b[38;5;124m'\u001b[39m\u001b[38;5;124mj\u001b[39m\u001b[38;5;124m'\u001b[39m\n\u001b[0;32m      3\u001b[0m s\n",
      "\u001b[1;31mTypeError\u001b[0m: 'str' object does not support item assignment"
     ]
    }
   ],
   "source": [
    "s=''\n",
    "s[0]='j'\n",
    "s"
   ]
  },
  {
   "cell_type": "code",
   "execution_count": 200,
   "id": "885a2483-7384-4885-9258-0ea20eea4b12",
   "metadata": {},
   "outputs": [
    {
     "data": {
      "text/plain": [
       "['l']"
      ]
     },
     "execution_count": 200,
     "metadata": {},
     "output_type": "execute_result"
    }
   ],
   "source": [
    "l=[]\n",
    "l+='l'\n",
    "l"
   ]
  },
  {
   "cell_type": "code",
   "execution_count": 202,
   "id": "69628824-da38-492f-bf4c-0e3752e7c17b",
   "metadata": {},
   "outputs": [
    {
     "data": {
      "text/plain": [
       "[10, 90, 70]"
      ]
     },
     "execution_count": 202,
     "metadata": {},
     "output_type": "execute_result"
    }
   ],
   "source": [
    "l=[10,60,70]\n",
    "l[1]=90\n",
    "l"
   ]
  },
  {
   "cell_type": "markdown",
   "id": "22f5eb97-946d-46a1-9efc-dbce7e38c79f",
   "metadata": {},
   "source": [
    "- dictionary is mutable\n",
    "\n",
    "- list is mutable\n",
    "\n",
    "- string is immutable\n",
    "\n",
    "- tuple is immutable\n",
    "\n"
   ]
  },
  {
   "cell_type": "code",
   "execution_count": 207,
   "id": "4e088bc4-4724-4c57-8cb6-d3d9ccdb69ec",
   "metadata": {},
   "outputs": [
    {
     "data": {
      "text/plain": [
       "'kashmir'"
      ]
     },
     "execution_count": 207,
     "metadata": {},
     "output_type": "execute_result"
    }
   ],
   "source": [
    "d1={'fruites':{'apple':'kashmir'}}\n",
    "d1['fruites']['apple']"
   ]
  },
  {
   "cell_type": "code",
   "execution_count": 213,
   "id": "abbe6ba2-a69b-456d-96d0-c068d5f55fc5",
   "metadata": {},
   "outputs": [
    {
     "data": {
      "text/plain": [
       "'kashmir'"
      ]
     },
     "execution_count": 213,
     "metadata": {},
     "output_type": "execute_result"
    }
   ],
   "source": [
    "d1={'fruites':{'apple':['kashmir']}}\n",
    "d1['fruites']['apple'][0]\n"
   ]
  },
  {
   "cell_type": "code",
   "execution_count": 219,
   "id": "f44e5dda-84be-4131-8f21-32707862025a",
   "metadata": {},
   "outputs": [
    {
     "data": {
      "text/plain": [
       "'kashmir'"
      ]
     },
     "execution_count": 219,
     "metadata": {},
     "output_type": "execute_result"
    }
   ],
   "source": [
    "d1={'fruites':[{'apple':'kashmir'}]}\n",
    "d1['fruites'][0]['apple']\n"
   ]
  },
  {
   "cell_type": "code",
   "execution_count": 223,
   "id": "9092e0cb-73c4-4b4b-98b7-52fe81376986",
   "metadata": {},
   "outputs": [
    {
     "data": {
      "text/plain": [
       "'kashmir'"
      ]
     },
     "execution_count": 223,
     "metadata": {},
     "output_type": "execute_result"
    }
   ],
   "source": [
    "d2={'fruites':['kashmir']}\n",
    "d2['fruites'][0]"
   ]
  },
  {
   "cell_type": "code",
   "execution_count": 233,
   "id": "fd93bf07-5403-4a89-88c7-aaa080cf86d5",
   "metadata": {},
   "outputs": [
    {
     "data": {
      "text/plain": [
       "'india'"
      ]
     },
     "execution_count": 233,
     "metadata": {},
     "output_type": "execute_result"
    }
   ],
   "source": [
    "d5={'fruites':['apple',{'kashmir':['india']}]}\n",
    "d5['fruites'][1]['kashmir'][0]"
   ]
  },
  {
   "cell_type": "code",
   "execution_count": 245,
   "id": "6d472e9a-e8de-46c8-904f-be00bfd94384",
   "metadata": {},
   "outputs": [
    {
     "data": {
      "text/plain": [
       "'shambaji'"
      ]
     },
     "execution_count": 245,
     "metadata": {},
     "output_type": "execute_result"
    }
   ],
   "source": [
    "d6={'Fruites':{'benganapally':{'mango':{'nagpur':{'MH':{'shivaji':'shambaji'}}}}}}\n",
    "d6['Fruites']['benganapally']['mango']['nagpur']['MH']['shivaji']        \n",
    "       \n",
    "      \n",
    "     \n",
    "    \n",
    "   "
   ]
  },
  {
   "cell_type": "code",
   "execution_count": 247,
   "id": "f4c24ff9-acb2-4a7c-b732-65beb0af8787",
   "metadata": {},
   "outputs": [
    {
     "data": {
      "text/plain": [
       "['__class__',\n",
       " '__class_getitem__',\n",
       " '__contains__',\n",
       " '__delattr__',\n",
       " '__delitem__',\n",
       " '__dir__',\n",
       " '__doc__',\n",
       " '__eq__',\n",
       " '__format__',\n",
       " '__ge__',\n",
       " '__getattribute__',\n",
       " '__getitem__',\n",
       " '__getstate__',\n",
       " '__gt__',\n",
       " '__hash__',\n",
       " '__init__',\n",
       " '__init_subclass__',\n",
       " '__ior__',\n",
       " '__iter__',\n",
       " '__le__',\n",
       " '__len__',\n",
       " '__lt__',\n",
       " '__ne__',\n",
       " '__new__',\n",
       " '__or__',\n",
       " '__reduce__',\n",
       " '__reduce_ex__',\n",
       " '__repr__',\n",
       " '__reversed__',\n",
       " '__ror__',\n",
       " '__setattr__',\n",
       " '__setitem__',\n",
       " '__sizeof__',\n",
       " '__str__',\n",
       " '__subclasshook__',\n",
       " 'clear',\n",
       " 'copy',\n",
       " 'fromkeys',\n",
       " 'get',\n",
       " 'items',\n",
       " 'keys',\n",
       " 'pop',\n",
       " 'popitem',\n",
       " 'setdefault',\n",
       " 'update',\n",
       " 'values']"
      ]
     },
     "execution_count": 247,
     "metadata": {},
     "output_type": "execute_result"
    }
   ],
   "source": [
    "dir(dict)"
   ]
  },
  {
   "cell_type": "code",
   "execution_count": 249,
   "id": "5b8f1607-fc56-4b0e-939b-211a8d0a5fb1",
   "metadata": {},
   "outputs": [
    {
     "ename": "IndentationError",
     "evalue": "unexpected indent (2140159826.py, line 2)",
     "output_type": "error",
     "traceback": [
      "\u001b[1;36m  Cell \u001b[1;32mIn[249], line 2\u001b[1;36m\u001b[0m\n\u001b[1;33m    'copy',\u001b[0m\n\u001b[1;37m    ^\u001b[0m\n\u001b[1;31mIndentationError\u001b[0m\u001b[1;31m:\u001b[0m unexpected indent\n"
     ]
    }
   ],
   "source": [
    "'clear',\n",
    " 'copy',\n",
    " 'fromkeys',\n",
    " 'get',\n",
    " 'items',\n",
    " 'keys',\n",
    " 'pop',\n",
    " 'popitem',\n",
    " 'setdefault',\n",
    " 'update',\n",
    " 'values']"
   ]
  },
  {
   "cell_type": "code",
   "execution_count": 1,
   "id": "edeba372-777b-47b6-83cd-7c380b0b064b",
   "metadata": {},
   "outputs": [],
   "source": [
    "# clear copy keys values items pop popitems\n",
    "\n"
   ]
  },
  {
   "cell_type": "markdown",
   "id": "4387b5f5-3c88-438c-8254-6002cb84d578",
   "metadata": {},
   "source": [
    "**clear**"
   ]
  },
  {
   "cell_type": "code",
   "execution_count": 11,
   "id": "4886e9b3-5392-4934-942a-d720518d5b45",
   "metadata": {},
   "outputs": [],
   "source": [
    "names={'ramesh':21,'suresh':22,'mahesh':23}\n",
    "names.clear()\n",
    "# remove all items in dictionary"
   ]
  },
  {
   "cell_type": "code",
   "execution_count": 182,
   "id": "e7a2eac0-a021-48c3-b38d-25346607ebc5",
   "metadata": {},
   "outputs": [
    {
     "data": {
      "text/plain": [
       "('mahesh', 23)"
      ]
     },
     "execution_count": 182,
     "metadata": {},
     "output_type": "execute_result"
    }
   ],
   "source": [
    "names={'ramesh':21,'suresh':22,'mahesh':23}\n",
    "names.popitem()"
   ]
  },
  {
   "cell_type": "code",
   "execution_count": 13,
   "id": "94c5a4ed-a561-448a-ae4b-dedfb6730db9",
   "metadata": {},
   "outputs": [
    {
     "data": {
      "text/plain": [
       "{}"
      ]
     },
     "execution_count": 13,
     "metadata": {},
     "output_type": "execute_result"
    }
   ],
   "source": [
    "names"
   ]
  },
  {
   "cell_type": "markdown",
   "id": "29851789-ec7c-406d-9f9d-2721c10f9566",
   "metadata": {},
   "source": [
    "**copy**"
   ]
  },
  {
   "cell_type": "code",
   "execution_count": 17,
   "id": "a2dfac4d-908d-429e-a37b-0a0b42ff02ed",
   "metadata": {},
   "outputs": [],
   "source": [
    "names={'ramesh':21,'suresh':22,'mahesh':23}\n",
    "a=names.copy()  # copy all the items to another variable or same variable"
   ]
  },
  {
   "cell_type": "code",
   "execution_count": 19,
   "id": "4b07753c-6d20-470a-ab72-7168c974ef88",
   "metadata": {},
   "outputs": [
    {
     "data": {
      "text/plain": [
       "{'ramesh': 21, 'suresh': 22, 'mahesh': 23}"
      ]
     },
     "execution_count": 19,
     "metadata": {},
     "output_type": "execute_result"
    }
   ],
   "source": [
    "a"
   ]
  },
  {
   "cell_type": "markdown",
   "id": "9227f818-5f07-45eb-a429-7f8497c12bdb",
   "metadata": {},
   "source": [
    "**keys**"
   ]
  },
  {
   "cell_type": "code",
   "execution_count": 23,
   "id": "151c4ee5-dead-4aee-bcff-2bcb475a3725",
   "metadata": {},
   "outputs": [
    {
     "data": {
      "text/plain": [
       "dict_keys(['ramesh', 'suresh', 'mahesh'])"
      ]
     },
     "execution_count": 23,
     "metadata": {},
     "output_type": "execute_result"
    }
   ],
   "source": [
    "names.keys()   # it gives the keys of dictionary"
   ]
  },
  {
   "cell_type": "code",
   "execution_count": 25,
   "id": "325c59d8-8efc-4456-af13-ad99f0ae9a9d",
   "metadata": {},
   "outputs": [
    {
     "data": {
      "text/plain": [
       "dict_values([21, 22, 23])"
      ]
     },
     "execution_count": 25,
     "metadata": {},
     "output_type": "execute_result"
    }
   ],
   "source": [
    "names.values()  # it gives the values of dictionary"
   ]
  },
  {
   "cell_type": "markdown",
   "id": "7e4bf4b4-9b27-4370-81f5-14bfccafe1b4",
   "metadata": {},
   "source": [
    "**items**"
   ]
  },
  {
   "cell_type": "code",
   "execution_count": 28,
   "id": "990be104-956a-4758-a77e-66a9294889cb",
   "metadata": {},
   "outputs": [
    {
     "data": {
      "text/plain": [
       "dict_items([('ramesh', 21), ('suresh', 22), ('mahesh', 23)])"
      ]
     },
     "execution_count": 28,
     "metadata": {},
     "output_type": "execute_result"
    }
   ],
   "source": [
    "names.items()   # it gives the items of a dictionary items means what ever we are give in a dictionary"
   ]
  },
  {
   "cell_type": "markdown",
   "id": "f85c4fa1-b672-457b-b689-0669e5a5cb5a",
   "metadata": {},
   "source": [
    "**pop**"
   ]
  },
  {
   "cell_type": "code",
   "execution_count": 31,
   "id": "ac84b530-d510-4389-9da6-ae118fca73d1",
   "metadata": {},
   "outputs": [
    {
     "data": {
      "text/plain": [
       "21"
      ]
     },
     "execution_count": 31,
     "metadata": {},
     "output_type": "execute_result"
    }
   ],
   "source": [
    "names.pop('ramesh') # it remove whatever  key we give in pop as index that corresponding value will be removed"
   ]
  },
  {
   "cell_type": "code",
   "execution_count": 33,
   "id": "e7473711-0d6e-4e8c-8b6f-63e5fe5d47b2",
   "metadata": {},
   "outputs": [
    {
     "data": {
      "text/plain": [
       "{'suresh': 22, 'mahesh': 23}"
      ]
     },
     "execution_count": 33,
     "metadata": {},
     "output_type": "execute_result"
    }
   ],
   "source": [
    "names"
   ]
  },
  {
   "cell_type": "code",
   "execution_count": 37,
   "id": "bdd9644b-5746-482f-a51e-b083de5b740e",
   "metadata": {},
   "outputs": [
    {
     "data": {
      "text/plain": [
       "('mahesh', 23)"
      ]
     },
     "execution_count": 37,
     "metadata": {},
     "output_type": "execute_result"
    }
   ],
   "source": [
    "names.popitem()  # popitem means it romoves last item in dictionary"
   ]
  },
  {
   "cell_type": "code",
   "execution_count": 39,
   "id": "a4599bba-8bfd-4f07-bfd2-85d9ed292d20",
   "metadata": {},
   "outputs": [
    {
     "data": {
      "text/plain": [
       "{'suresh': 22}"
      ]
     },
     "execution_count": 39,
     "metadata": {},
     "output_type": "execute_result"
    }
   ],
   "source": [
    "names"
   ]
  },
  {
   "cell_type": "markdown",
   "id": "45805906-d481-4303-8831-a23871e43212",
   "metadata": {},
   "source": [
    "**get**"
   ]
  },
  {
   "cell_type": "code",
   "execution_count": 42,
   "id": "d2086466-47da-453d-bac3-bc43d0ac3d2b",
   "metadata": {},
   "outputs": [
    {
     "data": {
      "text/plain": [
       "22"
      ]
     },
     "execution_count": 42,
     "metadata": {},
     "output_type": "execute_result"
    }
   ],
   "source": [
    "names={'ramesh':21,'suresh':22,'mahesh':23}\n",
    "names.get('suresh')"
   ]
  },
  {
   "cell_type": "code",
   "execution_count": 44,
   "id": "431a40eb-dac2-4524-9e27-7154cc0896c0",
   "metadata": {},
   "outputs": [
    {
     "data": {
      "text/plain": [
       "{'ramesh': 21, 'suresh': 22, 'mahesh': 23}"
      ]
     },
     "execution_count": 44,
     "metadata": {},
     "output_type": "execute_result"
    }
   ],
   "source": [
    "names"
   ]
  },
  {
   "cell_type": "code",
   "execution_count": 48,
   "id": "79d54b4b-044e-426e-9700-9ee52bc596f2",
   "metadata": {},
   "outputs": [
    {
     "data": {
      "text/plain": [
       "21"
      ]
     },
     "execution_count": 48,
     "metadata": {},
     "output_type": "execute_result"
    }
   ],
   "source": [
    "names.get('ramesh')  # it gives the value for the key whatever key we gave get will return the corresponing value"
   ]
  },
  {
   "cell_type": "code",
   "execution_count": 50,
   "id": "ad471559-cb72-4a9b-86a7-e81ee2a03a36",
   "metadata": {},
   "outputs": [],
   "source": [
    "names.get('kullay')"
   ]
  },
  {
   "cell_type": "markdown",
   "id": "e245c1bd-1f91-49b3-9348-4c6bd1932a08",
   "metadata": {},
   "source": [
    "**update**"
   ]
  },
  {
   "cell_type": "code",
   "execution_count": 88,
   "id": "a747f6e0-a2c1-45b3-9422-4587c147d516",
   "metadata": {},
   "outputs": [
    {
     "data": {
      "text/plain": [
       "{'ramesh': 34, 'suresh': 22, 'mahesh': 23, 'kullay': 21}"
      ]
     },
     "execution_count": 88,
     "metadata": {},
     "output_type": "execute_result"
    }
   ],
   "source": [
    "names={'ramesh':21,'suresh':22,'mahesh':23}\n",
    "update_dict={'ramesh':34,'kullay':21}\n",
    "names.update(update_dict)      \n",
    "names"
   ]
  },
  {
   "cell_type": "code",
   "execution_count": 61,
   "id": "6c66a45b-df66-4678-aac5-8315023d3153",
   "metadata": {},
   "outputs": [
    {
     "data": {
      "text/plain": [
       "{'ramesh': 21, 'suresh': 22, 'mahesh': 23}"
      ]
     },
     "execution_count": 61,
     "metadata": {},
     "output_type": "execute_result"
    }
   ],
   "source": [
    "names"
   ]
  },
  {
   "cell_type": "code",
   "execution_count": 63,
   "id": "aa342cf7-4870-4422-85c0-d54023b56712",
   "metadata": {},
   "outputs": [],
   "source": [
    "names.update()"
   ]
  },
  {
   "cell_type": "markdown",
   "id": "97ebab21-4f90-42f8-9620-9b7f1d078f0b",
   "metadata": {},
   "source": [
    "**setdefault**"
   ]
  },
  {
   "cell_type": "code",
   "execution_count": 78,
   "id": "0ba2d2c7-abec-4343-b6f7-d3f9d2c52994",
   "metadata": {},
   "outputs": [],
   "source": [
    "names.setdefault('kullay')\n",
    "                 "
   ]
  },
  {
   "cell_type": "code",
   "execution_count": 80,
   "id": "0302812b-938b-40ff-8e96-f941f1a63d53",
   "metadata": {},
   "outputs": [
    {
     "data": {
      "text/plain": [
       "{'ramesh': 21, 'suresh': 22, 'mahesh': 23, 'kullay': None}"
      ]
     },
     "execution_count": 80,
     "metadata": {},
     "output_type": "execute_result"
    }
   ],
   "source": [
    "names"
   ]
  },
  {
   "cell_type": "code",
   "execution_count": 84,
   "id": "9766d4a2-f674-4bf1-9d59-8ac09e326911",
   "metadata": {},
   "outputs": [],
   "source": [
    "names.setdefault('kullay')  # setdefault same like as get if we give key then it will give corresponding value\n",
    "\n",
    "# with the help of this we can insert any key to the dictionary but not a value"
   ]
  },
  {
   "cell_type": "code",
   "execution_count": 90,
   "id": "b6010721-656e-415f-9de6-99bfbee77cd3",
   "metadata": {},
   "outputs": [],
   "source": [
    "names['kullay']=12"
   ]
  },
  {
   "cell_type": "code",
   "execution_count": 92,
   "id": "b972c64d-fccb-4e47-ad33-62fe61a55d02",
   "metadata": {},
   "outputs": [
    {
     "data": {
      "text/plain": [
       "{'ramesh': 34, 'suresh': 22, 'mahesh': 23, 'kullay': 12}"
      ]
     },
     "execution_count": 92,
     "metadata": {},
     "output_type": "execute_result"
    }
   ],
   "source": [
    "names"
   ]
  },
  {
   "cell_type": "code",
   "execution_count": 94,
   "id": "d9c4aa24-b5d8-464f-8131-3286630a3b98",
   "metadata": {},
   "outputs": [],
   "source": [
    "names.setdefault('lathif')"
   ]
  },
  {
   "cell_type": "code",
   "execution_count": 96,
   "id": "6fa832b0-3e70-4561-9fe9-3aa83b785e80",
   "metadata": {},
   "outputs": [
    {
     "data": {
      "text/plain": [
       "{'ramesh': 34, 'suresh': 22, 'mahesh': 23, 'kullay': 12, 'lathif': None}"
      ]
     },
     "execution_count": 96,
     "metadata": {},
     "output_type": "execute_result"
    }
   ],
   "source": [
    "names"
   ]
  },
  {
   "cell_type": "code",
   "execution_count": 98,
   "id": "59d13ab7-9d0b-4b0d-80bd-6492cd4fad72",
   "metadata": {},
   "outputs": [
    {
     "data": {
      "text/plain": [
       "12"
      ]
     },
     "execution_count": 98,
     "metadata": {},
     "output_type": "execute_result"
    }
   ],
   "source": [
    "names.setdefault('kullay')"
   ]
  },
  {
   "cell_type": "markdown",
   "id": "ba67255f-4505-4388-ac69-a8272bc86b8f",
   "metadata": {},
   "source": [
    "**fromkeys**"
   ]
  },
  {
   "cell_type": "code",
   "execution_count": 101,
   "id": "ca2d547e-4f83-4181-b3d7-fde5ab93a8bf",
   "metadata": {},
   "outputs": [
    {
     "data": {
      "text/plain": [
       "{'ramesh': None,\n",
       " 'suresh': None,\n",
       " 'mahesh': None,\n",
       " 'kullay': None,\n",
       " 'lathif': None}"
      ]
     },
     "execution_count": 101,
     "metadata": {},
     "output_type": "execute_result"
    }
   ],
   "source": [
    "names.fromkeys(names)"
   ]
  },
  {
   "cell_type": "code",
   "execution_count": 103,
   "id": "86bf7a65-5107-49b5-a61f-cdf868d30065",
   "metadata": {},
   "outputs": [
    {
     "data": {
      "text/plain": [
       "{'ramesh': 34, 'suresh': 22, 'mahesh': 23, 'kullay': 12, 'lathif': None}"
      ]
     },
     "execution_count": 103,
     "metadata": {},
     "output_type": "execute_result"
    }
   ],
   "source": [
    "names"
   ]
  },
  {
   "cell_type": "code",
   "execution_count": 109,
   "id": "d85b271c-7a61-4293-b7ec-cbf5283ace65",
   "metadata": {},
   "outputs": [],
   "source": [
    "a=names.fromkeys(names)"
   ]
  },
  {
   "cell_type": "code",
   "execution_count": 111,
   "id": "e35d76dc-9006-4683-912f-e75a5e24c3de",
   "metadata": {},
   "outputs": [
    {
     "data": {
      "text/plain": [
       "{'ramesh': None,\n",
       " 'suresh': None,\n",
       " 'mahesh': None,\n",
       " 'kullay': None,\n",
       " 'lathif': None}"
      ]
     },
     "execution_count": 111,
     "metadata": {},
     "output_type": "execute_result"
    }
   ],
   "source": [
    "a"
   ]
  },
  {
   "cell_type": "code",
   "execution_count": 125,
   "id": "874db164-15e6-429a-a759-943e5bf5eb6a",
   "metadata": {},
   "outputs": [
    {
     "data": {
      "text/plain": [
       "{'ramesh': 1, 'suresh': 2, 'mahesh': 3, 'kullay': 4, 'lathif': 5}"
      ]
     },
     "execution_count": 125,
     "metadata": {},
     "output_type": "execute_result"
    }
   ],
   "source": [
    "g={}\n",
    "l=[1,2,3,4,5]\n",
    "for i,j in zip(a,l):\n",
    "    g[i]=j\n",
    "g    "
   ]
  },
  {
   "cell_type": "code",
   "execution_count": 127,
   "id": "d90bfafa-2c56-47f9-9104-d09b351b0f9a",
   "metadata": {},
   "outputs": [],
   "source": [
    "a=g.fromkeys(g)"
   ]
  },
  {
   "cell_type": "code",
   "execution_count": 129,
   "id": "7f313ec6-22c7-453f-947e-def75272666f",
   "metadata": {},
   "outputs": [
    {
     "data": {
      "text/plain": [
       "{'ramesh': None,\n",
       " 'suresh': None,\n",
       " 'mahesh': None,\n",
       " 'kullay': None,\n",
       " 'lathif': None}"
      ]
     },
     "execution_count": 129,
     "metadata": {},
     "output_type": "execute_result"
    }
   ],
   "source": [
    "a"
   ]
  },
  {
   "cell_type": "code",
   "execution_count": 131,
   "id": "51ceaa7b-f336-4a07-9da0-55497e196453",
   "metadata": {},
   "outputs": [],
   "source": [
    "a['ramesh']=10"
   ]
  },
  {
   "cell_type": "code",
   "execution_count": 133,
   "id": "18dbeec9-825a-4614-8aaf-6702e842d017",
   "metadata": {},
   "outputs": [
    {
     "data": {
      "text/plain": [
       "{'ramesh': 10, 'suresh': None, 'mahesh': None, 'kullay': None, 'lathif': None}"
      ]
     },
     "execution_count": 133,
     "metadata": {},
     "output_type": "execute_result"
    }
   ],
   "source": [
    "a"
   ]
  },
  {
   "cell_type": "code",
   "execution_count": 135,
   "id": "271a4796-2d22-43d7-be6c-a4530b7d6bb1",
   "metadata": {},
   "outputs": [
    {
     "data": {
      "text/plain": [
       "{'ramesh': 1, 'suresh': 2, 'mahesh': 3, 'kullay': 4, 'lathif': 5}"
      ]
     },
     "execution_count": 135,
     "metadata": {},
     "output_type": "execute_result"
    }
   ],
   "source": [
    "l=[1,2,3,4,5]\n",
    "g={}\n",
    "for i,j in zip(a,l):\n",
    "   g[i]=j\n",
    "\n",
    "g\n",
    "    "
   ]
  },
  {
   "cell_type": "code",
   "execution_count": 157,
   "id": "056a1d45-48cd-461a-917b-6f707503254d",
   "metadata": {},
   "outputs": [
    {
     "data": {
      "text/plain": [
       "{1: 6, 2: 5, 3: 8}"
      ]
     },
     "execution_count": 157,
     "metadata": {},
     "output_type": "execute_result"
    }
   ],
   "source": [
    "names=[1,2,3]\n",
    "g=[6,5,8]\n",
    "k={}\n",
    "for i,j in zip(names,g):\n",
    "    k[i]=j\n",
    "k"
   ]
  },
  {
   "cell_type": "code",
   "execution_count": 153,
   "id": "63b4c1e2-378f-4186-9da9-8c88150210a9",
   "metadata": {},
   "outputs": [
    {
     "data": {
      "text/plain": [
       "[(1, 6), (2, 5), (3, 8)]"
      ]
     },
     "execution_count": 153,
     "metadata": {},
     "output_type": "execute_result"
    }
   ],
   "source": [
    "list(zip(names,g))"
   ]
  },
  {
   "cell_type": "code",
   "execution_count": 159,
   "id": "9d9cd79c-1034-4c5d-ad41-79eff225698e",
   "metadata": {},
   "outputs": [
    {
     "data": {
      "text/plain": [
       "<zip at 0x1e92bd35400>"
      ]
     },
     "execution_count": 159,
     "metadata": {},
     "output_type": "execute_result"
    }
   ],
   "source": [
    "a = ('sam','ram','rani')\n",
    "b = (1,2,3)\n",
    "c = zip(a,b)\n",
    "c"
   ]
  },
  {
   "cell_type": "code",
   "execution_count": 163,
   "id": "8853114d-fab3-4a50-8578-42f7ce31768f",
   "metadata": {},
   "outputs": [
    {
     "data": {
      "text/plain": [
       "(('sam', 1), ('ram', 2), ('rani', 3))"
      ]
     },
     "execution_count": 163,
     "metadata": {},
     "output_type": "execute_result"
    }
   ],
   "source": [
    "tuple(c)"
   ]
  },
  {
   "cell_type": "code",
   "execution_count": 170,
   "id": "c0769fa8-c0fe-41fd-896a-d003dff2d85c",
   "metadata": {},
   "outputs": [
    {
     "data": {
      "text/plain": [
       "[(4, 1, 5), (5, 2, 6), (6, 3, 7)]"
      ]
     },
     "execution_count": 170,
     "metadata": {},
     "output_type": "execute_result"
    }
   ],
   "source": [
    "l=[1,2,3]\n",
    "l1=[4,5,6]\n",
    "l2=[5,6,7,8]\n",
    "a=list(zip(l1,l,l2))\n",
    "a"
   ]
  },
  {
   "cell_type": "code",
   "execution_count": 178,
   "id": "12efadc0-5ca1-4660-9e49-a308315918d3",
   "metadata": {},
   "outputs": [
    {
     "ename": "TypeError",
     "evalue": "unsupported operand type(s) for /: 'str' and 'int'",
     "output_type": "error",
     "traceback": [
      "\u001b[1;31m---------------------------------------------------------------------------\u001b[0m",
      "\u001b[1;31mTypeError\u001b[0m                                 Traceback (most recent call last)",
      "Cell \u001b[1;32mIn[178], line 4\u001b[0m\n\u001b[0;32m      2\u001b[0m     a\u001b[38;5;241m=\u001b[39m\u001b[38;5;124m'\u001b[39m\u001b[38;5;124mk\u001b[39m\u001b[38;5;124m'\u001b[39m\n\u001b[0;32m      3\u001b[0m     b\u001b[38;5;241m=\u001b[39m\u001b[38;5;241m3\u001b[39m\n\u001b[1;32m----> 4\u001b[0m     a\u001b[38;5;241m/\u001b[39mb\n\u001b[0;32m      6\u001b[0m \u001b[38;5;28;01mexcept\u001b[39;00m \u001b[38;5;167;01mValueError\u001b[39;00m:\n\u001b[0;32m      7\u001b[0m     \u001b[38;5;28mprint\u001b[39m(\u001b[38;5;124m'\u001b[39m\u001b[38;5;124ml\u001b[39m\u001b[38;5;124m'\u001b[39m)\n",
      "\u001b[1;31mTypeError\u001b[0m: unsupported operand type(s) for /: 'str' and 'int'"
     ]
    }
   ],
   "source": [
    "try:\n",
    "    a='k'\n",
    "    b=3\n",
    "    a/b\n",
    "\n",
    "except ValueError:\n",
    "    print('l')"
   ]
  },
  {
   "cell_type": "code",
   "execution_count": 186,
   "id": "5da1bbeb-1757-457c-89f1-9ca72e0fbd70",
   "metadata": {},
   "outputs": [
    {
     "data": {
      "text/plain": [
       "'k'"
      ]
     },
     "execution_count": 186,
     "metadata": {},
     "output_type": "execute_result"
    }
   ],
   "source": [
    "a"
   ]
  },
  {
   "cell_type": "code",
   "execution_count": 188,
   "id": "2003e14b-e678-4b25-a76d-2553edacb8fc",
   "metadata": {},
   "outputs": [
    {
     "data": {
      "text/plain": [
       "34"
      ]
     },
     "execution_count": 188,
     "metadata": {},
     "output_type": "execute_result"
    }
   ],
   "source": [
    "j={'ramesh': 34, 'suresh': 22, 'mahesh': 23, 'kullay': 12, 'lathif': None}\n",
    "j.setdefault('ramesh')"
   ]
  },
  {
   "cell_type": "code",
   "execution_count": 195,
   "id": "89c9a705-cd63-418d-bc4a-a06d4bce92f2",
   "metadata": {},
   "outputs": [],
   "source": [
    "j.setdefault('gajee')"
   ]
  },
  {
   "cell_type": "code",
   "execution_count": 197,
   "id": "b9090ed3-4664-49ad-b8a0-853545e9b827",
   "metadata": {},
   "outputs": [],
   "source": [
    "j.setdefault('lathif')"
   ]
  },
  {
   "cell_type": "code",
   "execution_count": 199,
   "id": "ed48ffc9-e98f-4af2-afa3-0adfc5181cb6",
   "metadata": {},
   "outputs": [
    {
     "data": {
      "text/plain": [
       "{'ramesh': 34,\n",
       " 'suresh': 22,\n",
       " 'mahesh': 23,\n",
       " 'kullay': 12,\n",
       " 'lathif': None,\n",
       " 'gajee': None}"
      ]
     },
     "execution_count": 199,
     "metadata": {},
     "output_type": "execute_result"
    }
   ],
   "source": [
    "j"
   ]
  },
  {
   "cell_type": "code",
   "execution_count": 1,
   "id": "eed65b17-b96a-4c90-ab5c-fc52db159a9f",
   "metadata": {},
   "outputs": [
    {
     "data": {
      "text/plain": [
       "23"
      ]
     },
     "execution_count": 1,
     "metadata": {},
     "output_type": "execute_result"
    }
   ],
   "source": [
    "j={'ramesh': 34, 'suresh': 22, 'mahesh': 23, 'kullay': 12, 'lathif': None}\n",
    "j.setdefault('mahesh')"
   ]
  },
  {
   "cell_type": "code",
   "execution_count": 7,
   "id": "a9020830-f737-4646-a4f2-3fc46adc8c09",
   "metadata": {},
   "outputs": [],
   "source": [
    "j.setdefault('gajee')"
   ]
  },
  {
   "cell_type": "code",
   "execution_count": 9,
   "id": "84f250c7-e925-405b-9549-0877a35586f2",
   "metadata": {},
   "outputs": [
    {
     "data": {
      "text/plain": [
       "{'ramesh': 34,\n",
       " 'suresh': 22,\n",
       " 'mahesh': 23,\n",
       " 'kullay': 12,\n",
       " 'lathif': None,\n",
       " 'gajee': None}"
      ]
     },
     "execution_count": 9,
     "metadata": {},
     "output_type": "execute_result"
    }
   ],
   "source": [
    "j"
   ]
  },
  {
   "cell_type": "code",
   "execution_count": 11,
   "id": "9b60d15f-bce0-4c47-9352-f434b249dcc4",
   "metadata": {},
   "outputs": [],
   "source": [
    "j['lathif']=12"
   ]
  },
  {
   "cell_type": "code",
   "execution_count": 13,
   "id": "0bb56e4c-5466-4ae0-bba9-83580b50f565",
   "metadata": {},
   "outputs": [
    {
     "data": {
      "text/plain": [
       "{'ramesh': 34,\n",
       " 'suresh': 22,\n",
       " 'mahesh': 23,\n",
       " 'kullay': 12,\n",
       " 'lathif': 12,\n",
       " 'gajee': None}"
      ]
     },
     "execution_count": 13,
     "metadata": {},
     "output_type": "execute_result"
    }
   ],
   "source": [
    "j"
   ]
  },
  {
   "cell_type": "code",
   "execution_count": 17,
   "id": "9ee23bb1-3b87-42d5-969b-f339968a4aba",
   "metadata": {},
   "outputs": [],
   "source": [
    "a=j.fromkeys(j)"
   ]
  },
  {
   "cell_type": "code",
   "execution_count": 19,
   "id": "5f814d3b-5e78-4317-8df5-89d795c4ff85",
   "metadata": {},
   "outputs": [
    {
     "data": {
      "text/plain": [
       "{'ramesh': None,\n",
       " 'suresh': None,\n",
       " 'mahesh': None,\n",
       " 'kullay': None,\n",
       " 'lathif': None,\n",
       " 'gajee': None}"
      ]
     },
     "execution_count": 19,
     "metadata": {},
     "output_type": "execute_result"
    }
   ],
   "source": [
    "a"
   ]
  },
  {
   "cell_type": "code",
   "execution_count": 21,
   "id": "5287dcb2-da9e-46ce-85da-340f793bcb05",
   "metadata": {},
   "outputs": [
    {
     "data": {
      "text/plain": [
       "{'ramesh': 34,\n",
       " 'suresh': 22,\n",
       " 'mahesh': 23,\n",
       " 'kullay': 12,\n",
       " 'lathif': 12,\n",
       " 'gajee': None}"
      ]
     },
     "execution_count": 21,
     "metadata": {},
     "output_type": "execute_result"
    }
   ],
   "source": [
    "j"
   ]
  },
  {
   "cell_type": "code",
   "execution_count": 6,
   "id": "82604a34-648d-4abe-9d18-29d592c36cd1",
   "metadata": {},
   "outputs": [
    {
     "data": {
      "text/plain": [
       "{'ramesh': 21, 'ramu': 22, 'kullay': 20}"
      ]
     },
     "execution_count": 6,
     "metadata": {},
     "output_type": "execute_result"
    }
   ],
   "source": [
    "d1={'ramesh':21,'ramu':22,'kullay':20}\n",
    "d1"
   ]
  },
  {
   "cell_type": "markdown",
   "id": "6521d185-1e71-446c-ad45-06898894a2fb",
   "metadata": {},
   "source": [
    "**keys**"
   ]
  },
  {
   "cell_type": "code",
   "execution_count": 8,
   "id": "2dd885d3-737c-43dd-a2bf-9972f2a678b9",
   "metadata": {},
   "outputs": [
    {
     "data": {
      "text/plain": [
       "dict_keys(['ramesh', 'ramu', 'kullay'])"
      ]
     },
     "execution_count": 8,
     "metadata": {},
     "output_type": "execute_result"
    }
   ],
   "source": [
    "d1.keys()"
   ]
  },
  {
   "cell_type": "code",
   "execution_count": 12,
   "id": "9e7064ac-09d5-4b48-8e97-31d882f50495",
   "metadata": {},
   "outputs": [
    {
     "data": {
      "text/plain": [
       "dict_keys"
      ]
     },
     "execution_count": 12,
     "metadata": {},
     "output_type": "execute_result"
    }
   ],
   "source": [
    "type(d1.keys())"
   ]
  },
  {
   "cell_type": "code",
   "execution_count": 14,
   "id": "dee7e466-fb9e-4ab8-b0cb-7e39d4802faa",
   "metadata": {},
   "outputs": [
    {
     "ename": "AttributeError",
     "evalue": "'dict_keys' object has no attribute 'index'",
     "output_type": "error",
     "traceback": [
      "\u001b[1;31m---------------------------------------------------------------------------\u001b[0m",
      "\u001b[1;31mAttributeError\u001b[0m                            Traceback (most recent call last)",
      "Cell \u001b[1;32mIn[14], line 1\u001b[0m\n\u001b[1;32m----> 1\u001b[0m d1\u001b[38;5;241m.\u001b[39mkeys()\u001b[38;5;241m.\u001b[39mindex(\u001b[38;5;124m'\u001b[39m\u001b[38;5;124mramesh\u001b[39m\u001b[38;5;124m'\u001b[39m)\n",
      "\u001b[1;31mAttributeError\u001b[0m: 'dict_keys' object has no attribute 'index'"
     ]
    }
   ],
   "source": [
    "d1.keys().index('ramesh')"
   ]
  },
  {
   "cell_type": "code",
   "execution_count": 16,
   "id": "c5c17201-cec9-4d91-823b-1cd29d419b7e",
   "metadata": {},
   "outputs": [
    {
     "data": {
      "text/plain": [
       "dict_keys(['ramesh', 'ramu', 'kullay'])"
      ]
     },
     "execution_count": 16,
     "metadata": {},
     "output_type": "execute_result"
    }
   ],
   "source": [
    "d1.keys()"
   ]
  },
  {
   "cell_type": "code",
   "execution_count": 18,
   "id": "0f5fe5c5-a623-4dcb-91b2-fb370ad1e475",
   "metadata": {},
   "outputs": [
    {
     "data": {
      "text/plain": [
       "dict"
      ]
     },
     "execution_count": 18,
     "metadata": {},
     "output_type": "execute_result"
    }
   ],
   "source": [
    "type(d1)"
   ]
  },
  {
   "cell_type": "code",
   "execution_count": 20,
   "id": "76d788c6-61fe-41f3-b878-e23915e2640b",
   "metadata": {},
   "outputs": [
    {
     "ename": "AttributeError",
     "evalue": "'dict' object has no attribute 'index'",
     "output_type": "error",
     "traceback": [
      "\u001b[1;31m---------------------------------------------------------------------------\u001b[0m",
      "\u001b[1;31mAttributeError\u001b[0m                            Traceback (most recent call last)",
      "Cell \u001b[1;32mIn[20], line 1\u001b[0m\n\u001b[1;32m----> 1\u001b[0m d1\u001b[38;5;241m.\u001b[39mindex(\u001b[38;5;124m'\u001b[39m\u001b[38;5;124mramesh\u001b[39m\u001b[38;5;124m'\u001b[39m)\n",
      "\u001b[1;31mAttributeError\u001b[0m: 'dict' object has no attribute 'index'"
     ]
    }
   ],
   "source": [
    "d1.index('ramesh')\n"
   ]
  },
  {
   "cell_type": "code",
   "execution_count": 22,
   "id": "9605e9d0-1846-4127-bfca-240dbacfce1e",
   "metadata": {},
   "outputs": [
    {
     "data": {
      "text/plain": [
       "21"
      ]
     },
     "execution_count": 22,
     "metadata": {},
     "output_type": "execute_result"
    }
   ],
   "source": [
    "d1['ramesh']"
   ]
  },
  {
   "cell_type": "code",
   "execution_count": 24,
   "id": "120acc1b-d61b-4d87-87e3-23a2a6b39b4d",
   "metadata": {},
   "outputs": [
    {
     "ename": "NameError",
     "evalue": "name 'dict_keys' is not defined",
     "output_type": "error",
     "traceback": [
      "\u001b[1;31m---------------------------------------------------------------------------\u001b[0m",
      "\u001b[1;31mNameError\u001b[0m                                 Traceback (most recent call last)",
      "Cell \u001b[1;32mIn[24], line 1\u001b[0m\n\u001b[1;32m----> 1\u001b[0m \u001b[38;5;28mtype\u001b[39m(dict_keys)\n",
      "\u001b[1;31mNameError\u001b[0m: name 'dict_keys' is not defined"
     ]
    }
   ],
   "source": [
    "type(dict_keys)"
   ]
  },
  {
   "cell_type": "code",
   "execution_count": 26,
   "id": "3cf5a1e4-adab-4ac8-b3d7-1b781974b3db",
   "metadata": {},
   "outputs": [
    {
     "data": {
      "text/plain": [
       "dict_keys"
      ]
     },
     "execution_count": 26,
     "metadata": {},
     "output_type": "execute_result"
    }
   ],
   "source": [
    "type(d1.keys())"
   ]
  },
  {
   "cell_type": "code",
   "execution_count": 44,
   "id": "f1bf9afa-51b8-4bb1-b89a-f31c496431b5",
   "metadata": {},
   "outputs": [
    {
     "data": {
      "text/plain": [
       "dict_keys(['ramesh', 'ramu', 'kullay'])"
      ]
     },
     "execution_count": 44,
     "metadata": {},
     "output_type": "execute_result"
    }
   ],
   "source": [
    "k=d1.keys()\n",
    "k"
   ]
  },
  {
   "cell_type": "code",
   "execution_count": 36,
   "id": "9237d7da-b5a8-429c-b94b-b5fe52041ca5",
   "metadata": {},
   "outputs": [],
   "source": [
    "a=list(d1.keys())"
   ]
  },
  {
   "cell_type": "code",
   "execution_count": 34,
   "id": "05464b7b-00d8-4ce5-8c54-02e3db793c48",
   "metadata": {},
   "outputs": [
    {
     "data": {
      "text/plain": [
       "dict_keys"
      ]
     },
     "execution_count": 34,
     "metadata": {},
     "output_type": "execute_result"
    }
   ],
   "source": [
    "type(d1.keys())"
   ]
  },
  {
   "cell_type": "code",
   "execution_count": 38,
   "id": "12701c2b-c488-44b4-9ffb-0d5a7a9b3324",
   "metadata": {},
   "outputs": [
    {
     "data": {
      "text/plain": [
       "['ramesh', 'ramu', 'kullay']"
      ]
     },
     "execution_count": 38,
     "metadata": {},
     "output_type": "execute_result"
    }
   ],
   "source": [
    "a"
   ]
  },
  {
   "cell_type": "code",
   "execution_count": 40,
   "id": "a51b1c7c-c753-4b14-9e74-987cc406c340",
   "metadata": {},
   "outputs": [
    {
     "data": {
      "text/plain": [
       "list"
      ]
     },
     "execution_count": 40,
     "metadata": {},
     "output_type": "execute_result"
    }
   ],
   "source": [
    "type(a)"
   ]
  },
  {
   "cell_type": "code",
   "execution_count": 46,
   "id": "13024d15-44f9-4f5b-9203-80db9654019b",
   "metadata": {},
   "outputs": [
    {
     "data": {
      "text/plain": [
       "dict_keys"
      ]
     },
     "execution_count": 46,
     "metadata": {},
     "output_type": "execute_result"
    }
   ],
   "source": [
    "type(k)"
   ]
  },
  {
   "cell_type": "code",
   "execution_count": 48,
   "id": "21683acf-a6a2-42bd-a3af-f616e914a30e",
   "metadata": {},
   "outputs": [
    {
     "ename": "AttributeError",
     "evalue": "'dict_keys' object has no attribute 'index'",
     "output_type": "error",
     "traceback": [
      "\u001b[1;31m---------------------------------------------------------------------------\u001b[0m",
      "\u001b[1;31mAttributeError\u001b[0m                            Traceback (most recent call last)",
      "Cell \u001b[1;32mIn[48], line 1\u001b[0m\n\u001b[1;32m----> 1\u001b[0m k\u001b[38;5;241m.\u001b[39mindex(\u001b[38;5;124m'\u001b[39m\u001b[38;5;124mramesh\u001b[39m\u001b[38;5;124m'\u001b[39m)\n",
      "\u001b[1;31mAttributeError\u001b[0m: 'dict_keys' object has no attribute 'index'"
     ]
    }
   ],
   "source": [
    "k.index('ramesh')"
   ]
  },
  {
   "cell_type": "code",
   "execution_count": 50,
   "id": "7344c8cc-3671-4b12-84fa-7be39518a7e8",
   "metadata": {},
   "outputs": [
    {
     "data": {
      "text/plain": [
       "dict_items([('ramesh', 21), ('ramu', 22), ('kullay', 20)])"
      ]
     },
     "execution_count": 50,
     "metadata": {},
     "output_type": "execute_result"
    }
   ],
   "source": [
    "d1.items()"
   ]
  },
  {
   "cell_type": "code",
   "execution_count": 52,
   "id": "04dd3b8f-e634-431e-9253-3f6d2e89d701",
   "metadata": {},
   "outputs": [
    {
     "data": {
      "text/plain": [
       "dict_values([21, 22, 20])"
      ]
     },
     "execution_count": 52,
     "metadata": {},
     "output_type": "execute_result"
    }
   ],
   "source": [
    "d1.values()"
   ]
  },
  {
   "cell_type": "code",
   "execution_count": 56,
   "id": "2484a01b-0b16-424e-b9cc-0a5d02e1a3c6",
   "metadata": {},
   "outputs": [
    {
     "data": {
      "text/plain": [
       "[('ramesh', 21), ('ramu', 22), ('kullay', 20)]"
      ]
     },
     "execution_count": 56,
     "metadata": {},
     "output_type": "execute_result"
    }
   ],
   "source": [
    "h=list(d1.items())\n",
    "h"
   ]
  },
  {
   "cell_type": "code",
   "execution_count": 64,
   "id": "ed6384d3-c223-4a9a-84a4-dfc6ca482c87",
   "metadata": {},
   "outputs": [
    {
     "data": {
      "text/plain": [
       "'kullay'"
      ]
     },
     "execution_count": 64,
     "metadata": {},
     "output_type": "execute_result"
    }
   ],
   "source": [
    "h[2][0]"
   ]
  },
  {
   "cell_type": "code",
   "execution_count": 68,
   "id": "559de8b5-d4a6-4e69-a750-8d5812ac1fdd",
   "metadata": {},
   "outputs": [
    {
     "data": {
      "text/plain": [
       "{'k': None, 'u': None, 'l': None, 'a': None, 'y': None}"
      ]
     },
     "execution_count": 68,
     "metadata": {},
     "output_type": "execute_result"
    }
   ],
   "source": [
    "d1.fromkeys('kullay')"
   ]
  },
  {
   "cell_type": "code",
   "execution_count": 72,
   "id": "dd68a8c3-3951-422a-a5f4-24918570858b",
   "metadata": {},
   "outputs": [],
   "source": [
    "d1={'ramesh':21,'ramu':22,'kullay':20}\n",
    "d1.setdefault('amit')"
   ]
  },
  {
   "cell_type": "code",
   "execution_count": 74,
   "id": "b2f66f7a-90c6-4129-a2df-9f3ba6fe1971",
   "metadata": {},
   "outputs": [
    {
     "data": {
      "text/plain": [
       "{'ramesh': 21, 'ramu': 22, 'kullay': 20, 'amit': None}"
      ]
     },
     "execution_count": 74,
     "metadata": {},
     "output_type": "execute_result"
    }
   ],
   "source": [
    "d1"
   ]
  },
  {
   "cell_type": "code",
   "execution_count": 76,
   "id": "3e2cfbf6-3564-4d96-b4af-e881c0a6937b",
   "metadata": {},
   "outputs": [
    {
     "data": {
      "text/plain": [
       "{'ramesh': 21, 'ramu': 22, 'kullay': 20, 'amit': None, 'avesh': 20}"
      ]
     },
     "execution_count": 76,
     "metadata": {},
     "output_type": "execute_result"
    }
   ],
   "source": [
    "d1.setdefault('avesh',20)\n",
    "d1"
   ]
  },
  {
   "cell_type": "code",
   "execution_count": 78,
   "id": "ad0399b1-c3ef-4905-9f0c-ba5eb1a95f68",
   "metadata": {},
   "outputs": [
    {
     "data": {
      "text/plain": [
       "{'ramesh': 21, 'ramu': 22, 'kullay': 20, 'amit': None, 'avesh': 20}"
      ]
     },
     "execution_count": 78,
     "metadata": {},
     "output_type": "execute_result"
    }
   ],
   "source": [
    "d1.setdefault('ramesh',45)\n",
    "d1"
   ]
  },
  {
   "cell_type": "code",
   "execution_count": 80,
   "id": "a407366a-5e75-44bf-a159-2b9fae14cd44",
   "metadata": {},
   "outputs": [
    {
     "data": {
      "text/plain": [
       "{'ramesh': 21,\n",
       " 'ramu': 22,\n",
       " 'kullay': 20,\n",
       " 'amit': None,\n",
       " 'avesh': 20,\n",
       " 'lathif': 7}"
      ]
     },
     "execution_count": 80,
     "metadata": {},
     "output_type": "execute_result"
    }
   ],
   "source": [
    "d1.setdefault('lathif',7)\n",
    "d1"
   ]
  },
  {
   "cell_type": "code",
   "execution_count": 82,
   "id": "d5bc30d6-f2ac-44ed-9ef3-d9e3255aeaf8",
   "metadata": {},
   "outputs": [
    {
     "data": {
      "text/plain": [
       "{'ramesh': 21, 'ramu': 22, 'kullay': 20, 'amit': 20, 'avesh': 20, 'lathif': 7}"
      ]
     },
     "execution_count": 82,
     "metadata": {},
     "output_type": "execute_result"
    }
   ],
   "source": [
    "d1['amit']=20\n",
    "d1"
   ]
  },
  {
   "cell_type": "code",
   "execution_count": 84,
   "id": "b77b0da5-11e4-4bcb-95c6-c6782aaa2011",
   "metadata": {},
   "outputs": [
    {
     "data": {
      "text/plain": [
       "{'ramesh': 21, 'ramu': 22, 'kullay': 20, 'amit': 20, 'avesh': 20, 'lathif': 7}"
      ]
     },
     "execution_count": 84,
     "metadata": {},
     "output_type": "execute_result"
    }
   ],
   "source": [
    "d1"
   ]
  },
  {
   "cell_type": "code",
   "execution_count": 86,
   "id": "df1b3c08-0ab7-4f03-a535-0d7f4e2f6170",
   "metadata": {},
   "outputs": [
    {
     "data": {
      "text/plain": [
       "{'ramesh': 21, 'ramu': 22, 'kullay': 20, 'amit': 20, 'avesh': 20, 'lathif': 7}"
      ]
     },
     "execution_count": 86,
     "metadata": {},
     "output_type": "execute_result"
    }
   ],
   "source": [
    "d1.fromkeys(d1)\n",
    "d1"
   ]
  },
  {
   "cell_type": "code",
   "execution_count": 90,
   "id": "174ae76b-877e-4570-8f55-b32487af4a9c",
   "metadata": {},
   "outputs": [
    {
     "data": {
      "text/plain": [
       "{'ramesh': None,\n",
       " 'ramu': None,\n",
       " 'kullay': None,\n",
       " 'amit': None,\n",
       " 'avesh': None,\n",
       " 'lathif': None}"
      ]
     },
     "execution_count": 90,
     "metadata": {},
     "output_type": "execute_result"
    }
   ],
   "source": [
    "b=d1.fromkeys(d1)\n",
    "b"
   ]
  },
  {
   "cell_type": "code",
   "execution_count": 92,
   "id": "70db9a69-77ce-4e36-a978-0fb6348c9b40",
   "metadata": {},
   "outputs": [
    {
     "data": {
      "text/plain": [
       "{'ramesh': None,\n",
       " 'ramu': None,\n",
       " 'kullay': None,\n",
       " 'amit': None,\n",
       " 'avesh': None,\n",
       " 'lathif': None}"
      ]
     },
     "execution_count": 92,
     "metadata": {},
     "output_type": "execute_result"
    }
   ],
   "source": [
    "b"
   ]
  },
  {
   "cell_type": "code",
   "execution_count": 98,
   "id": "36e9d6bf-68bc-4cc6-9b0b-e77a094be94f",
   "metadata": {},
   "outputs": [
    {
     "data": {
      "text/plain": [
       "20"
      ]
     },
     "execution_count": 98,
     "metadata": {},
     "output_type": "execute_result"
    }
   ],
   "source": [
    "b.setdefault('k',20)"
   ]
  },
  {
   "cell_type": "code",
   "execution_count": 100,
   "id": "519d847b-3b5e-4ceb-bfe5-cfb590e9923e",
   "metadata": {},
   "outputs": [
    {
     "data": {
      "text/plain": [
       "{'ramesh': None,\n",
       " 'ramu': None,\n",
       " 'kullay': None,\n",
       " 'amit': None,\n",
       " 'avesh': None,\n",
       " 'lathif': None,\n",
       " 'k': 20}"
      ]
     },
     "execution_count": 100,
     "metadata": {},
     "output_type": "execute_result"
    }
   ],
   "source": [
    "b"
   ]
  },
  {
   "cell_type": "code",
   "execution_count": 1,
   "id": "f16f36e5-14a3-4066-bc59-281a947b96aa",
   "metadata": {},
   "outputs": [
    {
     "ename": "NameError",
     "evalue": "name 'd1' is not defined",
     "output_type": "error",
     "traceback": [
      "\u001b[1;31m---------------------------------------------------------------------------\u001b[0m",
      "\u001b[1;31mNameError\u001b[0m                                 Traceback (most recent call last)",
      "Cell \u001b[1;32mIn[1], line 1\u001b[0m\n\u001b[1;32m----> 1\u001b[0m d1\u001b[38;5;241m.\u001b[39msetdefault()\n",
      "\u001b[1;31mNameError\u001b[0m: name 'd1' is not defined"
     ]
    }
   ],
   "source": [
    "d1.setdefault()"
   ]
  },
  {
   "cell_type": "code",
   "execution_count": 5,
   "id": "f743a206-7100-4f5d-a45f-f2ea2efc4937",
   "metadata": {},
   "outputs": [
    {
     "data": {
      "text/plain": [
       "21"
      ]
     },
     "execution_count": 5,
     "metadata": {},
     "output_type": "execute_result"
    }
   ],
   "source": [
    "d1={'ramesh':21,'ramu':22,'kullay':20,'gajee':32}\n",
    "d1.setdefault('ramesh')"
   ]
  },
  {
   "cell_type": "code",
   "execution_count": 7,
   "id": "962632f7-0484-477d-b077-192615961f4a",
   "metadata": {},
   "outputs": [
    {
     "data": {
      "text/plain": [
       "34"
      ]
     },
     "execution_count": 7,
     "metadata": {},
     "output_type": "execute_result"
    }
   ],
   "source": [
    "d1.setdefault('h',34)"
   ]
  },
  {
   "cell_type": "code",
   "execution_count": 9,
   "id": "ef59f68d-30f5-4379-b5e8-7c593e20e378",
   "metadata": {},
   "outputs": [
    {
     "data": {
      "text/plain": [
       "{'ramesh': 21, 'ramu': 22, 'kullay': 20, 'gajee': 32, 'h': 34}"
      ]
     },
     "execution_count": 9,
     "metadata": {},
     "output_type": "execute_result"
    }
   ],
   "source": [
    "d1"
   ]
  },
  {
   "cell_type": "code",
   "execution_count": 11,
   "id": "804452d4-a284-44bf-b9fb-4b593e9886aa",
   "metadata": {},
   "outputs": [],
   "source": [
    "a=d1.fromkeys(d1)"
   ]
  },
  {
   "cell_type": "code",
   "execution_count": 13,
   "id": "9cc4b5e1-30e8-416b-a7d2-e3db18584a7c",
   "metadata": {},
   "outputs": [
    {
     "data": {
      "text/plain": [
       "{'ramesh': None, 'ramu': None, 'kullay': None, 'gajee': None, 'h': None}"
      ]
     },
     "execution_count": 13,
     "metadata": {},
     "output_type": "execute_result"
    }
   ],
   "source": [
    "a"
   ]
  },
  {
   "cell_type": "code",
   "execution_count": 15,
   "id": "01f25edd-81a7-4168-8e9f-7862a65d2cf6",
   "metadata": {},
   "outputs": [],
   "source": [
    "a['ramesh']=21"
   ]
  },
  {
   "cell_type": "code",
   "execution_count": 17,
   "id": "e197eeb1-776b-4ac5-a4ed-f56646eb8ece",
   "metadata": {},
   "outputs": [
    {
     "data": {
      "text/plain": [
       "{'ramesh': 21, 'ramu': None, 'kullay': None, 'gajee': None, 'h': None}"
      ]
     },
     "execution_count": 17,
     "metadata": {},
     "output_type": "execute_result"
    }
   ],
   "source": [
    "a"
   ]
  },
  {
   "cell_type": "code",
   "execution_count": null,
   "id": "eabe503b-6130-4461-9ccf-dcca0a45a78e",
   "metadata": {},
   "outputs": [],
   "source": []
  }
 ],
 "metadata": {
  "kernelspec": {
   "display_name": "Python 3 (ipykernel)",
   "language": "python",
   "name": "python3"
  },
  "language_info": {
   "codemirror_mode": {
    "name": "ipython",
    "version": 3
   },
   "file_extension": ".py",
   "mimetype": "text/x-python",
   "name": "python",
   "nbconvert_exporter": "python",
   "pygments_lexer": "ipython3",
   "version": "3.12.4"
  }
 },
 "nbformat": 4,
 "nbformat_minor": 5
}
