{
 "cells": [
  {
   "cell_type": "markdown",
   "id": "2ff9637a-6978-409c-829b-bfea433e023a",
   "metadata": {},
   "source": [
    "**While loop**\n",
    "\n",
    "-We already know that any loop we required three things\n",
    "\n",
    "\n",
    "-Intialization to start the loop\n",
    "\n",
    "-Increment or decrement\n",
    "\n",
    "\n",
    "-Condition to stop the loop"
   ]
  },
  {
   "cell_type": "code",
   "execution_count": null,
   "id": "8f69abd1-b6c3-43d1-afcc-e8ab0f887685",
   "metadata": {},
   "outputs": [],
   "source": [
    "# Aug7th video dont ask admin\n",
    "# message me what is the class\n",
    "# Assignments are not uploading GC: My drive is full\n",
    "# Online lab\n",
    "# If you not attend the lab ==== proceed\n",
    "# Online exam\n",
    "# One more exam\n",
    "# 10Python screening test\n",
    "# 1-2 months DS : Python\n",
    "# DS 20 screening test +\n",
    "# 19th 1month batch free\n",
    "# 19th 4 weeks\n",
    "# Company ds\n",
    "# 5 to 7 7 to 9 4 hours class\n",
    "for i in range(5):\n",
    "print(i)\n",
    "# i=0 i +1 i= 5-1=4\n",
    "# here i starts with 0 increment by1\n",
    "# when i reach to 4 the loop stop\n",
    "0\n",
    "1\n",
    "2\n",
    "3\n",
    "4\n",
    "in for loop all 3 things in a single line\n",
    "but in while loop we need to write a 3 lines\n",
    "It is like wrapper\n",
    "summation and count wrapper\n",
    "at start intilaization, inside loop increment\n",
    "\n",
    "intial_point= value\n",
    "while <condition>:\n",
    "# write your lines\n",
    "\n",
    "\n",
    "increment or decrement\n",
    "\n",
    "stop< condition >"
   ]
  },
  {
   "cell_type": "code",
   "execution_count": 2,
   "id": "e71ee77e-5056-41c0-9cc3-0034e863538f",
   "metadata": {},
   "outputs": [
    {
     "name": "stdout",
     "output_type": "stream",
     "text": [
      "0\n",
      "1\n",
      "2\n",
      "3\n",
      "4\n"
     ]
    }
   ],
   "source": [
    "for i in range(5):\n",
    "    print(i)\n",
    "\n",
    "# i=0 i +1 i= 5-1=4\n",
    "# here i starts with 0 increment by1\n",
    "# when i reach to 4 the loop stop\n"
   ]
  },
  {
   "cell_type": "markdown",
   "id": "6fc36a14-b547-4fae-9d89-69670fcfb8c0",
   "metadata": {},
   "source": [
    "-in for loop all 3 things in a single line\n",
    "\n",
    "-but in while loop we need to write a 3 lines\n",
    "\n",
    "-It is like wrapper\n",
    "\n",
    "-summation and count wrapper\n",
    "\n",
    "\n",
    "-at start intilaization, inside loop increment\n"
   ]
  },
  {
   "cell_type": "code",
   "execution_count": 5,
   "id": "64e0272f-7520-4a49-8a60-10c24724f8dd",
   "metadata": {},
   "outputs": [
    {
     "ename": "SyntaxError",
     "evalue": "invalid syntax (3535499209.py, line 2)",
     "output_type": "error",
     "traceback": [
      "\u001b[1;36m  Cell \u001b[1;32mIn[5], line 2\u001b[1;36m\u001b[0m\n\u001b[1;33m    while <condition>:\u001b[0m\n\u001b[1;37m          ^\u001b[0m\n\u001b[1;31mSyntaxError\u001b[0m\u001b[1;31m:\u001b[0m invalid syntax\n"
     ]
    }
   ],
   "source": [
    "intial_point=value\n",
    "while <condition>:\n",
    "    # type your lines\n",
    "\n",
    "increment or decrement\n",
    "\n",
    "\n"
   ]
  },
  {
   "cell_type": "code",
   "execution_count": 9,
   "id": "f856c5b3-5b56-4b27-8efe-540ea378fb82",
   "metadata": {},
   "outputs": [
    {
     "name": "stdout",
     "output_type": "stream",
     "text": [
      "0\n",
      "1\n",
      "2\n",
      "3\n",
      "4\n"
     ]
    }
   ],
   "source": [
    "# for i in range(5):\n",
    "# print(i)\n",
    "i=0\n",
    "while i<5:\n",
    "    print(i)\n",
    "    i=i+1"
   ]
  },
  {
   "cell_type": "code",
   "execution_count": 11,
   "id": "ac660b05-b85f-44b6-b570-286c0e0cf7bb",
   "metadata": {},
   "outputs": [
    {
     "name": "stdout",
     "output_type": "stream",
     "text": [
      "0 1 2 3 4 "
     ]
    }
   ],
   "source": [
    "i=0\n",
    "while i<5:\n",
    "    print(i,end=' ')\n",
    "    i=i+1\n",
    "\n",
    "# step-1: i=0 === > while 0<5 T == print(0) === i=0+1=1\n",
    "# step-2: i=1 ====> while 1<5 T == print(1) === i=1+1=2\n",
    "# step-3: i=2 ====> while 2<5 T == print(2) === i=2+1=3\n",
    "# step-4: i=3 ===> while 3<5 T == print(3) === i= 3+1=4\n",
    "# step-5: i=4 ===> while 4<5 T == print(4) === i= 4+1=5\n",
    "# step-6: i=5 ==== > 5<5 F"
   ]
  },
  {
   "cell_type": "code",
   "execution_count": 13,
   "id": "a0dfddbb-1ea9-4f0c-816a-309ba2568d66",
   "metadata": {},
   "outputs": [
    {
     "name": "stdout",
     "output_type": "stream",
     "text": [
      "0\n",
      "1\n",
      "2\n",
      "3\n",
      "4\n",
      "5\n",
      "6\n",
      "7\n",
      "8\n",
      "9\n",
      "10\n"
     ]
    }
   ],
   "source": [
    "# 1 to 10\n",
    "# 10 to 1\n",
    "# -1 to -10\n",
    "# -10 to -1\n",
    "\n",
    "i=0\n",
    "while i<=10:\n",
    "    print(i)\n",
    "    i=i+1"
   ]
  },
  {
   "cell_type": "code",
   "execution_count": 17,
   "id": "34f2562f-5184-4601-a2c9-0ffd41733d5f",
   "metadata": {},
   "outputs": [
    {
     "name": "stdout",
     "output_type": "stream",
     "text": [
      "10\n",
      "9\n",
      "8\n",
      "7\n",
      "6\n",
      "5\n",
      "4\n",
      "3\n",
      "2\n",
      "1\n"
     ]
    }
   ],
   "source": [
    "#10 to 1\n",
    "i=10\n",
    "while True:\n",
    "    print(i)\n",
    "    i=i-1\n",
    "    if i==0:\n",
    "        break\n",
    "    "
   ]
  },
  {
   "cell_type": "code",
   "execution_count": 21,
   "id": "e76469fa-eab7-4146-a277-a0b1a80830ec",
   "metadata": {},
   "outputs": [
    {
     "name": "stdout",
     "output_type": "stream",
     "text": [
      "10\n",
      "9\n",
      "8\n",
      "7\n",
      "6\n",
      "5\n",
      "4\n",
      "3\n",
      "2\n",
      "1\n"
     ]
    }
   ],
   "source": [
    "i=10\n",
    "while i>=1:\n",
    "    print(i)\n",
    "    i=i-1"
   ]
  },
  {
   "cell_type": "code",
   "execution_count": 23,
   "id": "8d92a9de-9cc1-41bb-bda2-7c22d04f891a",
   "metadata": {},
   "outputs": [
    {
     "name": "stdout",
     "output_type": "stream",
     "text": [
      "-1\n",
      "-2\n",
      "-3\n",
      "-4\n",
      "-5\n",
      "-6\n",
      "-7\n",
      "-8\n",
      "-9\n",
      "-10\n"
     ]
    }
   ],
   "source": [
    "#-1 to -10\n",
    "i=-1\n",
    "while i>=-10:\n",
    "    print(i)\n",
    "    i=i-1"
   ]
  },
  {
   "cell_type": "code",
   "execution_count": 25,
   "id": "8f9a1c6d-1cc8-4a7e-ab43-25d602292a8f",
   "metadata": {},
   "outputs": [
    {
     "name": "stdout",
     "output_type": "stream",
     "text": [
      "-10\n",
      "-9\n",
      "-8\n",
      "-7\n",
      "-6\n",
      "-5\n",
      "-4\n",
      "-3\n",
      "-2\n",
      "-1\n"
     ]
    }
   ],
   "source": [
    "#-10 to -1\n",
    "i=-10\n",
    "while i<=-1:\n",
    "    print(i)\n",
    "    i=i+1"
   ]
  },
  {
   "cell_type": "code",
   "execution_count": 27,
   "id": "e5a9d017-484c-4caf-92e8-b6d765076d9b",
   "metadata": {},
   "outputs": [
    {
     "name": "stdout",
     "output_type": "stream",
     "text": [
      "2 3 4 5 "
     ]
    }
   ],
   "source": [
    "i=1\n",
    "while True:\n",
    "    i=i+1\n",
    "    print(i,end=' ')\n",
    "    if i==5:\n",
    "        break\n",
    "\n",
    "\n",
    "#step-1  i=i+1====2 print(2)  2==5 f\n",
    "#step-2 2+1=3=====print(3)  3==5 f\n",
    "#step-4 3+1=4===== print(4) 4===5 f\n",
    "#step-4 4+1=5 ===== print(5) 5==5 T\n",
    "#break"
   ]
  },
  {
   "cell_type": "code",
   "execution_count": 2,
   "id": "6c6ed554-277e-4705-8ea0-02071eee4b9b",
   "metadata": {},
   "outputs": [
    {
     "name": "stdout",
     "output_type": "stream",
     "text": [
      "1 2 3 4 "
     ]
    }
   ],
   "source": [
    "i=1\n",
    "while True:\n",
    "    print(i,end=' ')\n",
    "    i=i+1\n",
    "    if i==5:\n",
    "        break\n",
    "    \n",
    "\n",
    "# step-1 i=1 print(1) i=i+1 i=2 2==5 F\n",
    "# step-2 print(2) 2+1=3 3==5 F\n",
    "# step-3 print(3) 3+1=4 4==5 F\n",
    "# step-2 print(4) 4+1=5 5==5 T\n",
    " "
   ]
  },
  {
   "cell_type": "code",
   "execution_count": null,
   "id": "f38fcbac-c221-4f9e-95bf-7ed7490f8740",
   "metadata": {},
   "outputs": [],
   "source": [
    "# do not run : infinate loop\n",
    "i=1\n",
    "while True:\n",
    "    print(i,end=' ')\n",
    "    if i==5:\n",
    "        break"
   ]
  },
  {
   "cell_type": "code",
   "execution_count": 31,
   "id": "50d10383-fd4f-432e-ac69-0134de816c16",
   "metadata": {},
   "outputs": [
    {
     "name": "stdout",
     "output_type": "stream",
     "text": [
      "3 4 5 "
     ]
    }
   ],
   "source": [
    "# print 3,4,5 using while loop\n",
    "i=1\n",
    "i=i+1\n",
    "while True:\n",
    "    i=i+1\n",
    "    print(i,end=' ')\n",
    "    if i==5:\n",
    "        break"
   ]
  },
  {
   "cell_type": "code",
   "execution_count": null,
   "id": "aeb0317d-70ff-4337-a838-27443e3ffadb",
   "metadata": {},
   "outputs": [],
   "source": [
    "# step-1: i=0 === > while 0<5 T == print(0) === i=0+1=1\n",
    "# step-2: i=1 ====> while 1<5 T == print(1) === i=1+1=2\n",
    "# step-3: i=2 ====> while 2<5 T == print(2) === i=2+1=3\n",
    "# step-4: i=3 ===> while 3<5 T == print(3) === i= 3+1=4\n",
    "# step-5: i=4 ===> while 4<5 T == print(4) === i= 4+1=5\n",
    "# step-6: i=5 ==== > 5<5 F"
   ]
  },
  {
   "cell_type": "code",
   "execution_count": 33,
   "id": "c82d3f0e-cf1e-4961-b71e-cd77eaa024df",
   "metadata": {},
   "outputs": [
    {
     "name": "stdout",
     "output_type": "stream",
     "text": [
      "the square root of 8 is 64\n",
      "the square root of 2 is 4\n",
      "the square root of 6 is 36\n"
     ]
    }
   ],
   "source": [
    "# wap ask the user get three random numbers and print the squares of the number\n",
    "# first do with for loop\n",
    "# exactly replace with while loop\n",
    "import random\n",
    "for i in range(3):\n",
    "    num=random.randint(1,10)\n",
    "    print(\"the square root of\", num,\"is\",num*num)\n"
   ]
  },
  {
   "cell_type": "code",
   "execution_count": 39,
   "id": "4b69eaa1-5c3a-4be9-80c7-027ee16aed84",
   "metadata": {},
   "outputs": [
    {
     "name": "stdout",
     "output_type": "stream",
     "text": [
      "the square root of 7 is 49\n",
      "the square root of 7 is 49\n",
      "the square root of 4 is 16\n"
     ]
    }
   ],
   "source": [
    "import random\n",
    "i=1\n",
    "while i<=3:\n",
    "    num=random.randint(1,10)\n",
    "    print(\"the square root of\", num,\"is\",num*num)\n",
    "    i=i+1\n",
    "    \n",
    "    "
   ]
  },
  {
   "cell_type": "markdown",
   "id": "b687845f-2dda-4137-ae42-ec395950632b",
   "metadata": {},
   "source": [
    "**for loop and while loop**\n",
    "\n",
    "- with for loop infinite iterations are not possible\n",
    "\n",
    "- with while loop infinite iterations are possible\n",
    "\n",
    "- which means we can perform the loops till condition satisfies\n"
   ]
  },
  {
   "cell_type": "code",
   "execution_count": null,
   "id": "ed412d87-b7cd-47b0-9382-11af375790f3",
   "metadata": {},
   "outputs": [
    {
     "name": "stdin",
     "output_type": "stream",
     "text": [
      "enter a password kukkayamma\n"
     ]
    },
    {
     "name": "stdout",
     "output_type": "stream",
     "text": [
      "enter a valid password\n"
     ]
    },
    {
     "name": "stdin",
     "output_type": "stream",
     "text": [
      "enter a password kullayamma\n"
     ]
    },
    {
     "name": "stdout",
     "output_type": "stream",
     "text": [
      "enter a valid password\n"
     ]
    },
    {
     "name": "stdin",
     "output_type": "stream",
     "text": [
      "enter a password k\n"
     ]
    },
    {
     "name": "stdout",
     "output_type": "stream",
     "text": [
      "enter a valid password\n"
     ]
    },
    {
     "name": "stdin",
     "output_type": "stream",
     "text": [
      "enter a password k\n"
     ]
    },
    {
     "name": "stdout",
     "output_type": "stream",
     "text": [
      "enter a valid password\n"
     ]
    },
    {
     "name": "stdin",
     "output_type": "stream",
     "text": [
      "enter a password k'\n"
     ]
    },
    {
     "name": "stdout",
     "output_type": "stream",
     "text": [
      "enter a valid password\n"
     ]
    },
    {
     "name": "stdin",
     "output_type": "stream",
     "text": [
      "enter a password m\n"
     ]
    },
    {
     "name": "stdout",
     "output_type": "stream",
     "text": [
      "enter a valid password\n"
     ]
    },
    {
     "name": "stdin",
     "output_type": "stream",
     "text": [
      "enter a password k\n"
     ]
    },
    {
     "name": "stdout",
     "output_type": "stream",
     "text": [
      "enter a valid password\n"
     ]
    },
    {
     "name": "stdin",
     "output_type": "stream",
     "text": [
      "enter a password j\n"
     ]
    },
    {
     "name": "stdout",
     "output_type": "stream",
     "text": [
      "enter a valid password\n"
     ]
    },
    {
     "name": "stdin",
     "output_type": "stream",
     "text": [
      "enter a password j\n"
     ]
    },
    {
     "name": "stdout",
     "output_type": "stream",
     "text": [
      "enter a valid password\n"
     ]
    },
    {
     "name": "stdin",
     "output_type": "stream",
     "text": [
      "enter a password j\n"
     ]
    },
    {
     "name": "stdout",
     "output_type": "stream",
     "text": [
      "enter a valid password\n"
     ]
    },
    {
     "name": "stdin",
     "output_type": "stream",
     "text": [
      "enter a password kullayamma.786\n"
     ]
    }
   ],
   "source": [
    "# ask the user enter pwd\n",
    "#original pwd is : iam a ds\n",
    "# if the pwd== original pwd then only you have life\n",
    "#else: pwd is incorrect\n",
    "#and ask the pwd again\n",
    "# the loop should continue till the pwd is correct\n",
    "# step-1: original pwd= i am a ds\n",
    "# step-2: while true\n",
    "# step-3: user_pwd=input()\n",
    "#step-4: if original_pwd==user_pwd\n",
    "#step-5: print and apply break\n",
    "# step-6: else: print(\" \")\n",
    "\n",
    "original_pwd='kullayamma.786'\n",
    "while True:\n",
    "    user_pwd=input(\"enter a password\")\n",
    "    if original_pwd==user_pwd:\n",
    "        print(\"you have life\")\n",
    "        break\n",
    "        \n",
    "    else:\n",
    "        print(\"enter a valid password\")"
   ]
  },
  {
   "cell_type": "code",
   "execution_count": null,
   "id": "aa4c742f-905f-449b-8783-c437595b084a",
   "metadata": {},
   "outputs": [],
   "source": []
  }
 ],
 "metadata": {
  "kernelspec": {
   "display_name": "Python 3 (ipykernel)",
   "language": "python",
   "name": "python3"
  },
  "language_info": {
   "codemirror_mode": {
    "name": "ipython",
    "version": 3
   },
   "file_extension": ".py",
   "mimetype": "text/x-python",
   "name": "python",
   "nbconvert_exporter": "python",
   "pygments_lexer": "ipython3",
   "version": "3.12.4"
  }
 },
 "nbformat": 4,
 "nbformat_minor": 5
}
