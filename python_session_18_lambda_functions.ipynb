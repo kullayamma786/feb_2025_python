{
 "cells": [
  {
   "cell_type": "markdown",
   "id": "4fb46277-63eb-4d04-8cba-aa7d678d70f8",
   "metadata": {},
   "source": [
    "**lambda functions**"
   ]
  },
  {
   "cell_type": "markdown",
   "id": "340ae564-5b7e-4889-aa06-29f0c4bd84bf",
   "metadata": {},
   "source": [
    "- lambda functions represents function concept\n",
    "\n",
    "- but we can write in a single line\n",
    "\n",
    "- like list comprehension ,lambda functions similar only\n",
    "\n",
    "- it will decrease the time complexity\n",
    "\n",
    "- always remember if we use many for loops or many conditions using multiple line, the time complexity will increase"
   ]
  },
  {
   "cell_type": "markdown",
   "id": "b5bc93ac-8675-4376-9a3e-54b0ef8ae1d4",
   "metadata": {},
   "source": [
    "**it will use a keyword lambda**"
   ]
  },
  {
   "cell_type": "code",
   "execution_count": 4,
   "id": "39449662-4a9f-4b8a-a940-35608ec9da75",
   "metadata": {},
   "outputs": [
    {
     "ename": "SyntaxError",
     "evalue": "invalid syntax (3713840313.py, line 7)",
     "output_type": "error",
     "traceback": [
      "\u001b[1;36m  Cell \u001b[1;32mIn[4], line 7\u001b[1;36m\u001b[0m\n\u001b[1;33m    lambda\u001b[0m\n\u001b[1;37m          ^\u001b[0m\n\u001b[1;31mSyntaxError\u001b[0m\u001b[1;31m:\u001b[0m invalid syntax\n"
     ]
    }
   ],
   "source": [
    "# lambda <arguments>:expression\n",
    "strings\n",
    "list\n",
    "tuple\n",
    "set\n",
    "dictionary\n",
    "lambda\n",
    "file handling"
   ]
  },
  {
   "cell_type": "code",
   "execution_count": 6,
   "id": "02115f34-01a0-4953-bc8d-b5245fd62294",
   "metadata": {},
   "outputs": [
    {
     "data": {
      "text/plain": [
       "30"
      ]
     },
     "execution_count": 6,
     "metadata": {},
     "output_type": "execute_result"
    }
   ],
   "source": [
    "def summ():\n",
    "    n1=10\n",
    "    n2=20\n",
    "    return(n1+n2)\n",
    "\n",
    "summ()"
   ]
  },
  {
   "cell_type": "code",
   "execution_count": 8,
   "id": "2286e19c-49a9-4410-8488-023342c367de",
   "metadata": {},
   "outputs": [
    {
     "data": {
      "text/plain": [
       "30"
      ]
     },
     "execution_count": 8,
     "metadata": {},
     "output_type": "execute_result"
    }
   ],
   "source": [
    "def add(n):\n",
    "    return(n+10)\n",
    "\n",
    "add(20)"
   ]
  },
  {
   "cell_type": "markdown",
   "id": "fe07ef18-6798-4d6a-92ad-fe196e27797c",
   "metadata": {},
   "source": [
    "$pattern-1$"
   ]
  },
  {
   "cell_type": "markdown",
   "id": "69f1517d-2b22-4fe6-b233-3701c0c524e1",
   "metadata": {},
   "source": [
    "**function with only one argument**"
   ]
  },
  {
   "cell_type": "markdown",
   "id": "a6cc7937-46f9-4335-bd8d-d1ab88b81c27",
   "metadata": {},
   "source": [
    "\n",
    " -function name\n",
    "\n",
    "- argument name\n",
    "\n",
    "- return output"
   ]
  },
  {
   "cell_type": "code",
   "execution_count": 18,
   "id": "5e6bc141-37a6-421e-a9ab-e6e9962451c3",
   "metadata": {},
   "outputs": [
    {
     "data": {
      "text/plain": [
       "17"
      ]
     },
     "execution_count": 18,
     "metadata": {},
     "output_type": "execute_result"
    }
   ],
   "source": [
    "add=lambda n: n+10\n",
    "add(7)"
   ]
  },
  {
   "cell_type": "code",
   "execution_count": 20,
   "id": "d01413de-ebc2-486d-ba11-6669e85f8dbe",
   "metadata": {},
   "outputs": [],
   "source": [
    "#syntax:function name = lambda agruments:return output\n",
    "\n",
    "# function name=add\n",
    "# agruments=n\n",
    "#return output=n+10"
   ]
  },
  {
   "cell_type": "code",
   "execution_count": 22,
   "id": "57057dc5-f8b9-457c-9bae-111980c464a5",
   "metadata": {},
   "outputs": [
    {
     "data": {
      "text/plain": [
       "-39"
      ]
     },
     "execution_count": 22,
     "metadata": {},
     "output_type": "execute_result"
    }
   ],
   "source": [
    "def sub(h):\n",
    "    return(h-45)\n",
    "\n",
    "sub(6)"
   ]
  },
  {
   "cell_type": "code",
   "execution_count": 24,
   "id": "82c64b3e-29d5-435a-a713-169000238147",
   "metadata": {},
   "outputs": [
    {
     "data": {
      "text/plain": [
       "-39"
      ]
     },
     "execution_count": 24,
     "metadata": {},
     "output_type": "execute_result"
    }
   ],
   "source": [
    "sub=lambda h:h-45\n",
    "sub(6)"
   ]
  },
  {
   "cell_type": "code",
   "execution_count": 26,
   "id": "4931eefa-c03f-4106-b410-e978512e2ceb",
   "metadata": {},
   "outputs": [
    {
     "data": {
      "text/plain": [
       "125"
      ]
     },
     "execution_count": 26,
     "metadata": {},
     "output_type": "execute_result"
    }
   ],
   "source": [
    "def cube(k):\n",
    "    return(k*k*k)\n",
    "\n",
    "cube(5)"
   ]
  },
  {
   "cell_type": "code",
   "execution_count": 28,
   "id": "4e76b17d-5de7-488b-94c0-68a5fb6b5fe1",
   "metadata": {},
   "outputs": [
    {
     "data": {
      "text/plain": [
       "125"
      ]
     },
     "execution_count": 28,
     "metadata": {},
     "output_type": "execute_result"
    }
   ],
   "source": [
    "cube=lambda k:k**3\n",
    "cube(5)"
   ]
  },
  {
   "cell_type": "code",
   "execution_count": 30,
   "id": "6921dcd4-2c92-46ba-8d80-6949b75275f2",
   "metadata": {},
   "outputs": [
    {
     "data": {
      "text/plain": [
       "216"
      ]
     },
     "execution_count": 30,
     "metadata": {},
     "output_type": "execute_result"
    }
   ],
   "source": [
    "cube=lambda u:u*u*u\n",
    "cube(6)"
   ]
  },
  {
   "cell_type": "markdown",
   "id": "b6fb8941-004f-4373-8967-fdd330ac582f",
   "metadata": {},
   "source": [
    "$pattern-2$"
   ]
  },
  {
   "cell_type": "markdown",
   "id": "8a597847-628d-4f0e-b12f-87b29b509093",
   "metadata": {},
   "source": [
    "**function with two arguments**"
   ]
  },
  {
   "cell_type": "code",
   "execution_count": 34,
   "id": "2648e0c4-760c-4758-9d2d-c99d7e7f71f3",
   "metadata": {},
   "outputs": [
    {
     "data": {
      "text/plain": [
       "2.5"
      ]
     },
     "execution_count": 34,
     "metadata": {},
     "output_type": "execute_result"
    }
   ],
   "source": [
    "#syntax: functionname=lambda arg1,arg2:return output\n",
    "\n",
    "def div(n1,n2):\n",
    "    return(n1/n2)\n",
    "\n",
    "div(5,2)\n",
    "\n",
    "# functionname=div\n",
    "# arg1,arg2=n1,n2\n",
    "#return output= n1/n2\n",
    "# calling the function_name=div(any two values arguments and values both are equal)"
   ]
  },
  {
   "cell_type": "code",
   "execution_count": 36,
   "id": "0b350f6f-c63b-4f08-83cd-eab2568a11e9",
   "metadata": {},
   "outputs": [
    {
     "data": {
      "text/plain": [
       "2.5"
      ]
     },
     "execution_count": 36,
     "metadata": {},
     "output_type": "execute_result"
    }
   ],
   "source": [
    "div= lambda n1,n2:n1/n2\n",
    "div(5,2)"
   ]
  },
  {
   "cell_type": "code",
   "execution_count": 50,
   "id": "9136cfa3-251b-4d84-8ceb-dfc3e57a720c",
   "metadata": {},
   "outputs": [
    {
     "data": {
      "text/plain": [
       "50.33"
      ]
     },
     "execution_count": 50,
     "metadata": {},
     "output_type": "execute_result"
    }
   ],
   "source": [
    "def avg(n1,n2,n3):\n",
    "    return round((n1+n2+n3)/3,2)\n",
    "\n",
    "avg(101,20,30)"
   ]
  },
  {
   "cell_type": "code",
   "execution_count": 46,
   "id": "a171cf18-851b-4a87-a843-4e552e4fe045",
   "metadata": {},
   "outputs": [
    {
     "data": {
      "text/plain": [
       "50.333"
      ]
     },
     "execution_count": 46,
     "metadata": {},
     "output_type": "execute_result"
    }
   ],
   "source": [
    "avg=lambda n1,n2,n3:round((n1+n2+n3)/3,3)\n",
    "avg(101,20,30)"
   ]
  },
  {
   "cell_type": "markdown",
   "id": "3f5604a4-21ef-47af-a405-51973bfdabf0",
   "metadata": {},
   "source": [
    "**pettern-3**"
   ]
  },
  {
   "cell_type": "markdown",
   "id": "df01d75d-d65a-4414-95b9-120e8bc103b0",
   "metadata": {},
   "source": [
    "**function with default arguments**"
   ]
  },
  {
   "cell_type": "code",
   "execution_count": 60,
   "id": "ba40642b-272b-46ff-9f9a-5ace97b65b9b",
   "metadata": {},
   "outputs": [
    {
     "data": {
      "text/plain": [
       "6"
      ]
     },
     "execution_count": 60,
     "metadata": {},
     "output_type": "execute_result"
    }
   ],
   "source": [
    "def mul(h,k=2):\n",
    "    return(h*k)\n",
    "\n",
    "mul(3)"
   ]
  },
  {
   "cell_type": "code",
   "execution_count": 56,
   "id": "362c1007-0afc-4480-b86d-3f03b0219fcb",
   "metadata": {},
   "outputs": [
    {
     "data": {
      "text/plain": [
       "6"
      ]
     },
     "execution_count": 56,
     "metadata": {},
     "output_type": "execute_result"
    }
   ],
   "source": [
    "mul=lambda h,k=2:h*k\n",
    "mul(3)"
   ]
  },
  {
   "cell_type": "code",
   "execution_count": 64,
   "id": "d4c7a14b-3298-42f0-be55-936af5eeeda2",
   "metadata": {},
   "outputs": [
    {
     "data": {
      "text/plain": [
       "38.67"
      ]
     },
     "execution_count": 64,
     "metadata": {},
     "output_type": "execute_result"
    }
   ],
   "source": [
    "avg= lambda k1,k2,k3=101:round((k1+k2+k3)/3,2)\n",
    "avg(7,8)\n"
   ]
  },
  {
   "cell_type": "markdown",
   "id": "5552e312-6194-49f3-9d5d-8f40613c7454",
   "metadata": {},
   "source": [
    "$pattern-4$"
   ]
  },
  {
   "cell_type": "markdown",
   "id": "aa1ee0de-985d-4576-8307-c014943a886d",
   "metadata": {},
   "source": [
    "**if-else**"
   ]
  },
  {
   "cell_type": "code",
   "execution_count": 68,
   "id": "6551b5b0-065c-49a9-80fa-a2615f6ec872",
   "metadata": {},
   "outputs": [
    {
     "data": {
      "text/plain": [
       "12"
      ]
     },
     "execution_count": 68,
     "metadata": {},
     "output_type": "execute_result"
    }
   ],
   "source": [
    "def max(a,b):\n",
    "    if a<b:\n",
    "        return(b)\n",
    "    else:\n",
    "        return(a)\n",
    "\n",
    "max(12,3)"
   ]
  },
  {
   "cell_type": "code",
   "execution_count": 70,
   "id": "c6061d34-32f6-4a6b-bb7c-add9b581f659",
   "metadata": {},
   "outputs": [
    {
     "data": {
      "text/plain": [
       "68"
      ]
     },
     "execution_count": 70,
     "metadata": {},
     "output_type": "execute_result"
    }
   ],
   "source": [
    "max=lambda a,b:b  if a<b else a\n",
    "max(15,68)"
   ]
  },
  {
   "cell_type": "code",
   "execution_count": 80,
   "id": "0fc0215d-99ef-436b-9905-136c60dd0f49",
   "metadata": {},
   "outputs": [
    {
     "data": {
      "text/plain": [
       "'even:8'"
      ]
     },
     "execution_count": 80,
     "metadata": {},
     "output_type": "execute_result"
    }
   ],
   "source": [
    "# syntax:functionname=lambda arg1,arg2:<list comprehension>\n",
    "# syntax:functionname=lambda arg1,arg2:<if out> if condition else <else output>\n",
    "even_odd=lambda i:f\"even:{i}\" if i%2==0 else f\"odd:{i}\"\n",
    "even_odd(8)"
   ]
  },
  {
   "cell_type": "code",
   "execution_count": 82,
   "id": "7e56dfef-cde3-49ca-b933-8d74931fae9e",
   "metadata": {},
   "outputs": [
    {
     "data": {
      "text/plain": [
       "9"
      ]
     },
     "execution_count": 82,
     "metadata": {},
     "output_type": "execute_result"
    }
   ],
   "source": [
    "def min(a,b):\n",
    "    if a>b:\n",
    "        return(b)\n",
    "    else:\n",
    "        return(a)\n",
    "\n",
    "min(10,9)"
   ]
  },
  {
   "cell_type": "code",
   "execution_count": 84,
   "id": "a65658ec-001f-48a3-9494-4c6214df01a4",
   "metadata": {},
   "outputs": [
    {
     "data": {
      "text/plain": [
       "4"
      ]
     },
     "execution_count": 84,
     "metadata": {},
     "output_type": "execute_result"
    }
   ],
   "source": [
    "min=lambda a,b:a if a<b else b\n",
    "min(4,9)"
   ]
  },
  {
   "cell_type": "markdown",
   "id": "e46bd034-f71e-46f0-bfde-a4aa51c8a25c",
   "metadata": {},
   "source": [
    "$pattern-5$"
   ]
  },
  {
   "cell_type": "markdown",
   "id": "b382a518-74ea-4d83-895b-5c27a41c2637",
   "metadata": {},
   "source": [
    "**using list**"
   ]
  },
  {
   "cell_type": "code",
   "execution_count": 1,
   "id": "ebd5ee9b-6b0e-49fb-9e81-a5c5946ea20c",
   "metadata": {},
   "outputs": [
    {
     "data": {
      "text/plain": [
       "['Hyd', 'Mumbai', 'Chennai']"
      ]
     },
     "execution_count": 1,
     "metadata": {},
     "output_type": "execute_result"
    }
   ],
   "source": [
    "d=[]\n",
    "l=['hyd','mumbai','chennai']\n",
    "for i in l:\n",
    "    d.append(i.capitalize())\n",
    "\n",
    "d\n",
    "    \n"
   ]
  },
  {
   "cell_type": "code",
   "execution_count": 5,
   "id": "9d5ea38a-9d3a-440d-91be-6b2a6ab70e13",
   "metadata": {},
   "outputs": [
    {
     "data": {
      "text/plain": [
       "(<function __main__.<lambda>(i)>, ['hyd', 'mumbai', 'chennai'])"
      ]
     },
     "execution_count": 5,
     "metadata": {},
     "output_type": "execute_result"
    }
   ],
   "source": [
    "#lambda <variable>:<op>\n",
    "#variable:i\n",
    "# output:i.capitalise()\n",
    "lambda i :i.capitalize(),l"
   ]
  },
  {
   "cell_type": "code",
   "execution_count": 7,
   "id": "5f29aed6-db43-45b1-b37c-4e9de021a140",
   "metadata": {},
   "outputs": [
    {
     "data": {
      "text/plain": [
       "<map at 0x21604812260>"
      ]
     },
     "execution_count": 7,
     "metadata": {},
     "output_type": "execute_result"
    }
   ],
   "source": [
    "map(lambda i :i.capitalize(),l)"
   ]
  },
  {
   "cell_type": "code",
   "execution_count": 9,
   "id": "12e9a075-ff3f-4bf9-bc4b-62b9dc8be393",
   "metadata": {},
   "outputs": [
    {
     "data": {
      "text/plain": [
       "('Hyd', 'Mumbai', 'Chennai')"
      ]
     },
     "execution_count": 9,
     "metadata": {},
     "output_type": "execute_result"
    }
   ],
   "source": [
    "tuple(map(lambda i :i.capitalize(),l))"
   ]
  },
  {
   "cell_type": "code",
   "execution_count": 11,
   "id": "90424f33-dd17-446c-95f8-43ffb4def090",
   "metadata": {},
   "outputs": [],
   "source": [
    "# syntax: lambda <variable>:output,iterator\n",
    "# qn: from where you are getting 'i'\n",
    "#list iterator "
   ]
  },
  {
   "cell_type": "markdown",
   "id": "24108eee-45e1-4179-894c-f84cae36d90a",
   "metadata": {},
   "source": [
    "**map**"
   ]
  },
  {
   "cell_type": "markdown",
   "id": "795352ad-8f5d-4455-af09-e0aae48eafb8",
   "metadata": {},
   "source": [
    "- the function and iterator are available now\n",
    "\n",
    " - we need to map both"
   ]
  },
  {
   "cell_type": "code",
   "execution_count": 22,
   "id": "44a574b0-5a40-4d38-b91c-b4a932cf2d17",
   "metadata": {},
   "outputs": [
    {
     "data": {
      "text/plain": [
       "(<function __main__.<lambda>(i)>, ['hyd', 'mumbai', 'chennai'])"
      ]
     },
     "execution_count": 22,
     "metadata": {},
     "output_type": "execute_result"
    }
   ],
   "source": [
    "l=['hyd','mumbai','chennai']\n",
    "lambda i:i.title(),l"
   ]
  },
  {
   "cell_type": "code",
   "execution_count": 26,
   "id": "ab6e9495-5758-448a-beb6-f9827ceb45e7",
   "metadata": {},
   "outputs": [
    {
     "data": {
      "text/plain": [
       "<map at 0x2160507b0a0>"
      ]
     },
     "execution_count": 26,
     "metadata": {},
     "output_type": "execute_result"
    }
   ],
   "source": [
    "l=['hyd','mumbai','chennai']\n",
    "map(lambda i:i.title(),l)"
   ]
  },
  {
   "cell_type": "code",
   "execution_count": 28,
   "id": "0c506784-59fd-46ee-88a2-7c2abc9486e9",
   "metadata": {},
   "outputs": [
    {
     "data": {
      "text/plain": [
       "['Hyd', 'Mumbai', 'Chennai']"
      ]
     },
     "execution_count": 28,
     "metadata": {},
     "output_type": "execute_result"
    }
   ],
   "source": [
    "# apply list for seeing values\n",
    "l=['hyd','mumbai','chennai']\n",
    "list(map(lambda i:i.title(),l))"
   ]
  },
  {
   "cell_type": "code",
   "execution_count": 30,
   "id": "bfe1ab8f-22cb-4070-a99a-604cc88920d2",
   "metadata": {},
   "outputs": [],
   "source": [
    "# step1: write your normal expression\n",
    "        #example:lambda <var>:output ===> lambda i : i.title() \n",
    "# step2: add the iterator\n",
    "       # example: lambda <var>: output iterator ===> lambda i :i.capitalize() <list>\n",
    "# step:3 map  the both \n",
    "        # ex:map(lambda <var>: output iterator)===> map(lambda i :i.capitalize() <list>)\n",
    "# step:4 save the values in a list\n",
    "       # ex:list(map(lambda i :i.capitalize() <list>))===> list(map(lambda i :i.capitalize() <list>))\n",
    "\n",
    "# note: those who are getting list object not callable use tuple"
   ]
  },
  {
   "cell_type": "code",
   "execution_count": null,
   "id": "2606b8ad-c4cf-43a3-b44c-73f3411ec578",
   "metadata": {},
   "outputs": [],
   "source": [
    "case-1: function call with one argument\n",
    "\n",
    "functionname= lambda variables: expression\n",
    "\n",
    "functionname=lambda arg: return output \n",
    "\n",
    "case-2: function call with two argument\n",
    "\n",
    "functionname= lambda arg1,arg2: expression\n",
    "\n",
    "functionname= lambda var1,var2 : return output\n",
    "\n",
    "case-3: function call with default arguments\n",
    "\n",
    "functionname= lambda arg1,arg2,arg3=40: expression\n",
    "\n",
    "functionname= lambda var1,var2,var3=80: return output\n",
    "\n",
    "case-4: function call with two arguments and if-else statement\n",
    "\n",
    "functionname= lambda arg1,arg2:<if output> if condition else <else output> \n",
    "\n",
    "case-5: lambda operations using list\n",
    "\n",
    "lambda variable: output , iterator \n",
    "\n",
    "map(lambda variable : output , iterator )\n",
    "\n",
    "list(map(lambda variable : output , iterator )\n",
    "\n"
   ]
  },
  {
   "cell_type": "code",
   "execution_count": 34,
   "id": "497d18a4-652c-4359-83b0-da9254afa3e7",
   "metadata": {},
   "outputs": [
    {
     "data": {
      "text/plain": [
       "<map at 0x216044c1810>"
      ]
     },
     "execution_count": 34,
     "metadata": {},
     "output_type": "execute_result"
    }
   ],
   "source": [
    "l=['hyd','mumbai','chennai']\n",
    "map(lambda i : i.upper,l)\n"
   ]
  },
  {
   "cell_type": "code",
   "execution_count": 38,
   "id": "1fac6930-ce11-4cd8-a31e-91c0cafda0ec",
   "metadata": {},
   "outputs": [
    {
     "data": {
      "text/plain": [
       "['HYD', 'MUMBAI', 'CHENNAI']"
      ]
     },
     "execution_count": 38,
     "metadata": {},
     "output_type": "execute_result"
    }
   ],
   "source": [
    "list(map(lambda i : i.upper(),l))\n"
   ]
  },
  {
   "cell_type": "markdown",
   "id": "471e0ae2-a154-499d-a5c9-d51d02845663",
   "metadata": {},
   "source": [
    "**filter**"
   ]
  },
  {
   "cell_type": "markdown",
   "id": "bda55303-f151-4c8c-853f-c7a77f3fe048",
   "metadata": {},
   "source": [
    "- whenever if conditions are there use filter"
   ]
  },
  {
   "cell_type": "code",
   "execution_count": 42,
   "id": "6fc32474-8157-49d2-8b0b-fa22ee6e9098",
   "metadata": {},
   "outputs": [
    {
     "data": {
      "text/plain": [
       "['mum#bai', 'chen#nai']"
      ]
     },
     "execution_count": 42,
     "metadata": {},
     "output_type": "execute_result"
    }
   ],
   "source": [
    "k=[]\n",
    "l=['hyd','mum#bai','chen#nai','blr']\n",
    "for i in l:\n",
    "    if '#' in i:\n",
    "        k.append(i)\n",
    "\n",
    "k\n",
    "        "
   ]
  },
  {
   "cell_type": "code",
   "execution_count": 54,
   "id": "5b24d526-a672-4766-87d0-a7a1f5d645cf",
   "metadata": {},
   "outputs": [
    {
     "data": {
      "text/plain": [
       "('mum#bai', 'chen#nai')"
      ]
     },
     "execution_count": 54,
     "metadata": {},
     "output_type": "execute_result"
    }
   ],
   "source": [
    "tuple(filter(lambda i : '#' in i , l))\n",
    "\n",
    "# midstake-1: tuple(map(lambda i: if '#' in i ,l)\n",
    "# we dont write if "
   ]
  },
  {
   "cell_type": "code",
   "execution_count": 56,
   "id": "5e23a1ab-2dd4-4398-8222-59c614fcbe11",
   "metadata": {},
   "outputs": [
    {
     "data": {
      "text/plain": [
       "(<function __main__.<lambda>(i)>, [1, 3, 5, 6, 2, 8])"
      ]
     },
     "execution_count": 56,
     "metadata": {},
     "output_type": "execute_result"
    }
   ],
   "source": [
    "numbers=[1,3,5,6,2,8]\n",
    "#op=[6,2,8]\n",
    "lambda i : i%2==0 ,numbers    # when we get True or false as result while using map then we use filter for correct answer\n"
   ]
  },
  {
   "cell_type": "code",
   "execution_count": 58,
   "id": "de423d31-15da-4b5b-a58b-ebbf0fce76f7",
   "metadata": {},
   "outputs": [
    {
     "data": {
      "text/plain": [
       "<map at 0x21604fecaf0>"
      ]
     },
     "execution_count": 58,
     "metadata": {},
     "output_type": "execute_result"
    }
   ],
   "source": [
    "map(lambda i : i%2==0 ,numbers)"
   ]
  },
  {
   "cell_type": "code",
   "execution_count": 62,
   "id": "99316984-564b-4ebd-83ab-d3a20e1dde17",
   "metadata": {},
   "outputs": [
    {
     "data": {
      "text/plain": [
       "(6, 2, 8)"
      ]
     },
     "execution_count": 62,
     "metadata": {},
     "output_type": "execute_result"
    }
   ],
   "source": [
    "tuple(filter(lambda i : i%2==0 ,numbers))"
   ]
  },
  {
   "cell_type": "markdown",
   "id": "908a7db3-2d75-4efa-9190-2534dd59e4eb",
   "metadata": {},
   "source": [
    "**reduce**\n",
    "\n",
    "- all inbuilt functions can acheive by reduce\n",
    "\n",
    "- reduce is available from functools package\n",
    "\n",
    "- level-1: reduce(lambda summ,i:summ+i,l1)\n",
    "\n",
    "- level-2: reduce(lambda summ,i:summ+i,l1,intial_value)\n",
    "\n",
    "- for example we want intialize summ=0 then we choose level-1\n",
    "\n",
    "- for example we want start with other than zero then we choose level-2"
   ]
  },
  {
   "cell_type": "code",
   "execution_count": 65,
   "id": "042a8cdf-ee7c-42aa-9714-19a534de3298",
   "metadata": {},
   "outputs": [
    {
     "data": {
      "text/plain": [
       "15"
      ]
     },
     "execution_count": 65,
     "metadata": {},
     "output_type": "execute_result"
    }
   ],
   "source": [
    "l=[1,2,3,4,5]\n",
    "# i want sum of elements in a list\n",
    "sum(l)"
   ]
  },
  {
   "cell_type": "code",
   "execution_count": 71,
   "id": "8f7ccd2b-c29b-42f1-ab07-5f294b64f428",
   "metadata": {},
   "outputs": [
    {
     "data": {
      "text/plain": [
       "15"
      ]
     },
     "execution_count": 71,
     "metadata": {},
     "output_type": "execute_result"
    }
   ],
   "source": [
    "summ=0\n",
    "for i in l:\n",
    "    summ+=i\n",
    "\n",
    "summ"
   ]
  },
  {
   "cell_type": "code",
   "execution_count": 101,
   "id": "76c6de26-d89b-4563-a897-8208c004bef2",
   "metadata": {},
   "outputs": [
    {
     "ename": "SyntaxError",
     "evalue": "invalid syntax (3043721909.py, line 1)",
     "output_type": "error",
     "traceback": [
      "\u001b[1;36m  Cell \u001b[1;32mIn[101], line 1\u001b[1;36m\u001b[0m\n\u001b[1;33m    tuple(filter(lambda i,summ : summ+=i, l))\u001b[0m\n\u001b[1;37m                                     ^\u001b[0m\n\u001b[1;31mSyntaxError\u001b[0m\u001b[1;31m:\u001b[0m invalid syntax\n"
     ]
    }
   ],
   "source": [
    "tuple(filter(lambda i,summ : summ+=i, l))"
   ]
  },
  {
   "cell_type": "code",
   "execution_count": 93,
   "id": "95532150-3232-4986-9a71-519564fc34c6",
   "metadata": {},
   "outputs": [
    {
     "data": {
      "text/plain": [
       "5"
      ]
     },
     "execution_count": 93,
     "metadata": {},
     "output_type": "execute_result"
    }
   ],
   "source": [
    "l1=[1,2,3,4,5]\n",
    "max(l1)"
   ]
  },
  {
   "cell_type": "code",
   "execution_count": 95,
   "id": "91472ca9-b248-4316-8c2e-a00f9ff1e845",
   "metadata": {},
   "outputs": [
    {
     "data": {
      "text/plain": [
       "1"
      ]
     },
     "execution_count": 95,
     "metadata": {},
     "output_type": "execute_result"
    }
   ],
   "source": [
    "min(l1)"
   ]
  },
  {
   "cell_type": "code",
   "execution_count": 97,
   "id": "f4515cd9-c6c2-413e-9a5c-99d218721746",
   "metadata": {},
   "outputs": [
    {
     "data": {
      "text/plain": [
       "5"
      ]
     },
     "execution_count": 97,
     "metadata": {},
     "output_type": "execute_result"
    }
   ],
   "source": [
    "len(l1)"
   ]
  },
  {
   "cell_type": "code",
   "execution_count": 99,
   "id": "be980007-a0ed-4772-8841-6782904ceaac",
   "metadata": {},
   "outputs": [
    {
     "data": {
      "text/plain": [
       "15"
      ]
     },
     "execution_count": 99,
     "metadata": {},
     "output_type": "execute_result"
    }
   ],
   "source": [
    "sum(l1)"
   ]
  },
  {
   "cell_type": "code",
   "execution_count": 104,
   "id": "a0ae3e24-353e-49cc-8677-cac64b440e75",
   "metadata": {},
   "outputs": [
    {
     "data": {
      "text/plain": [
       "30"
      ]
     },
     "execution_count": 104,
     "metadata": {},
     "output_type": "execute_result"
    }
   ],
   "source": [
    "def add(a,b):\n",
    "    return(a+b)\n",
    "\n",
    "add(10,20)"
   ]
  },
  {
   "cell_type": "code",
   "execution_count": 106,
   "id": "8ea752ed-e991-466f-a8b6-74682ec0502b",
   "metadata": {},
   "outputs": [
    {
     "data": {
      "text/plain": [
       "30"
      ]
     },
     "execution_count": 106,
     "metadata": {},
     "output_type": "execute_result"
    }
   ],
   "source": [
    "add=lambda a,b:a+b\n",
    "add(10,20)"
   ]
  },
  {
   "cell_type": "code",
   "execution_count": 116,
   "id": "78fc2057-1e66-4393-9c4b-77a33d978fc9",
   "metadata": {},
   "outputs": [
    {
     "ename": "TypeError",
     "evalue": "<lambda>() missing 1 required positional argument: 'i'",
     "output_type": "error",
     "traceback": [
      "\u001b[1;31m---------------------------------------------------------------------------\u001b[0m",
      "\u001b[1;31mTypeError\u001b[0m                                 Traceback (most recent call last)",
      "Cell \u001b[1;32mIn[116], line 2\u001b[0m\n\u001b[0;32m      1\u001b[0m l1\u001b[38;5;241m=\u001b[39m[\u001b[38;5;241m1\u001b[39m,\u001b[38;5;241m2\u001b[39m,\u001b[38;5;241m3\u001b[39m,\u001b[38;5;241m4\u001b[39m,\u001b[38;5;241m5\u001b[39m]\n\u001b[1;32m----> 2\u001b[0m \u001b[38;5;28mlist\u001b[39m(\u001b[38;5;28mfilter\u001b[39m(\u001b[38;5;28;01mlambda\u001b[39;00m summ,i:summ\u001b[38;5;241m+\u001b[39mi,l1))\n",
      "\u001b[1;31mTypeError\u001b[0m: <lambda>() missing 1 required positional argument: 'i'"
     ]
    }
   ],
   "source": [
    "l1=[1,2,3,4,5]\n",
    "list(filter(lambda summ,i:summ+i,l1))"
   ]
  },
  {
   "cell_type": "code",
   "execution_count": 118,
   "id": "bde3a3ef-a7ca-485e-88f1-4297c4101b1b",
   "metadata": {},
   "outputs": [],
   "source": [
    "import functools\n"
   ]
  },
  {
   "cell_type": "code",
   "execution_count": 120,
   "id": "1a57f672-92f6-47bc-bbdf-d938c4f17a98",
   "metadata": {},
   "outputs": [
    {
     "data": {
      "text/plain": [
       "['GenericAlias',\n",
       " 'RLock',\n",
       " 'WRAPPER_ASSIGNMENTS',\n",
       " 'WRAPPER_UPDATES',\n",
       " '_CacheInfo',\n",
       " '_HashedSeq',\n",
       " '_NOT_FOUND',\n",
       " '__all__',\n",
       " '__builtins__',\n",
       " '__cached__',\n",
       " '__doc__',\n",
       " '__file__',\n",
       " '__loader__',\n",
       " '__name__',\n",
       " '__package__',\n",
       " '__spec__',\n",
       " '_c3_merge',\n",
       " '_c3_mro',\n",
       " '_compose_mro',\n",
       " '_convert',\n",
       " '_find_impl',\n",
       " '_ge_from_gt',\n",
       " '_ge_from_le',\n",
       " '_ge_from_lt',\n",
       " '_gt_from_ge',\n",
       " '_gt_from_le',\n",
       " '_gt_from_lt',\n",
       " '_initial_missing',\n",
       " '_le_from_ge',\n",
       " '_le_from_gt',\n",
       " '_le_from_lt',\n",
       " '_lru_cache_wrapper',\n",
       " '_lt_from_ge',\n",
       " '_lt_from_gt',\n",
       " '_lt_from_le',\n",
       " '_make_key',\n",
       " '_unwrap_partial',\n",
       " 'cache',\n",
       " 'cached_property',\n",
       " 'cmp_to_key',\n",
       " 'get_cache_token',\n",
       " 'lru_cache',\n",
       " 'namedtuple',\n",
       " 'partial',\n",
       " 'partialmethod',\n",
       " 'recursive_repr',\n",
       " 'reduce',\n",
       " 'singledispatch',\n",
       " 'singledispatchmethod',\n",
       " 'total_ordering',\n",
       " 'update_wrapper',\n",
       " 'wraps']"
      ]
     },
     "execution_count": 120,
     "metadata": {},
     "output_type": "execute_result"
    }
   ],
   "source": [
    "dir(functools)"
   ]
  },
  {
   "cell_type": "code",
   "execution_count": 122,
   "id": "69b68288-545f-41f8-8815-b348844e2f3c",
   "metadata": {},
   "outputs": [
    {
     "data": {
      "text/plain": [
       "15"
      ]
     },
     "execution_count": 122,
     "metadata": {},
     "output_type": "execute_result"
    }
   ],
   "source": [
    "import functools\n",
    "functools.reduce(lambda i,summ:summ+i,l1)"
   ]
  },
  {
   "cell_type": "code",
   "execution_count": 124,
   "id": "5257ee10-cb8d-4f4d-a85a-d1c2a991089e",
   "metadata": {},
   "outputs": [
    {
     "data": {
      "text/plain": [
       "15"
      ]
     },
     "execution_count": 124,
     "metadata": {},
     "output_type": "execute_result"
    }
   ],
   "source": [
    "from functools import reduce\n",
    "functools.reduce(lambda i,summ:summ+i,l1)"
   ]
  },
  {
   "cell_type": "code",
   "execution_count": 126,
   "id": "2039c02d-0931-4d95-af24-7a88668b4960",
   "metadata": {},
   "outputs": [
    {
     "data": {
      "text/plain": [
       "15"
      ]
     },
     "execution_count": 126,
     "metadata": {},
     "output_type": "execute_result"
    }
   ],
   "source": [
    "import functools as ft\n",
    "ft.reduce(lambda i,summ:summ+i,l1)"
   ]
  },
  {
   "cell_type": "code",
   "execution_count": 128,
   "id": "7274477c-baf0-4dbc-a092-a0722f0a4c1a",
   "metadata": {},
   "outputs": [
    {
     "data": {
      "text/plain": [
       "115"
      ]
     },
     "execution_count": 128,
     "metadata": {},
     "output_type": "execute_result"
    }
   ],
   "source": [
    "import functools\n",
    "functools.reduce(lambda i,summ:summ+i,l1,100)"
   ]
  },
  {
   "cell_type": "code",
   "execution_count": 130,
   "id": "a9888007-f2e9-4ce3-84da-277d0f7b2b24",
   "metadata": {},
   "outputs": [
    {
     "data": {
      "text/plain": [
       "105"
      ]
     },
     "execution_count": 130,
     "metadata": {},
     "output_type": "execute_result"
    }
   ],
   "source": [
    "from functools import reduce\n",
    "reduce(lambda i,summ:summ+i,l1,90)"
   ]
  },
  {
   "cell_type": "code",
   "execution_count": 134,
   "id": "4256a740-3e54-4f31-b77c-d94965280979",
   "metadata": {},
   "outputs": [
    {
     "data": {
      "text/plain": [
       "16"
      ]
     },
     "execution_count": 134,
     "metadata": {},
     "output_type": "execute_result"
    }
   ],
   "source": [
    "import functools as ft\n",
    "ft.reduce(lambda i,summ:summ+i,l1,1)"
   ]
  },
  {
   "cell_type": "code",
   "execution_count": 136,
   "id": "030851b7-4e1e-4d5f-afab-b81c57b470ea",
   "metadata": {},
   "outputs": [
    {
     "data": {
      "text/plain": [
       "120"
      ]
     },
     "execution_count": 136,
     "metadata": {},
     "output_type": "execute_result"
    }
   ],
   "source": [
    "ft.reduce(lambda mul,i:mul*i,l1)"
   ]
  },
  {
   "cell_type": "code",
   "execution_count": 142,
   "id": "8e83f7a8-b397-49f4-a88e-76f12fbd43a7",
   "metadata": {},
   "outputs": [
    {
     "data": {
      "text/plain": [
       "240"
      ]
     },
     "execution_count": 142,
     "metadata": {},
     "output_type": "execute_result"
    }
   ],
   "source": [
    "l1=[1,2,3,4,5]\n",
    "ft.reduce(lambda mul,i:mul*i,l1,2)"
   ]
  },
  {
   "cell_type": "code",
   "execution_count": 146,
   "id": "caafad92-ba46-4ce4-a613-d45eab50b5dd",
   "metadata": {},
   "outputs": [
    {
     "data": {
      "text/plain": [
       "21"
      ]
     },
     "execution_count": 146,
     "metadata": {},
     "output_type": "execute_result"
    }
   ],
   "source": [
    "ft.reduce(lambda add,i:add+i,l1,6)"
   ]
  },
  {
   "cell_type": "code",
   "execution_count": 152,
   "id": "b9474132-950c-4050-ba03-7af37fa6cec6",
   "metadata": {},
   "outputs": [
    {
     "data": {
      "text/plain": [
       "-13"
      ]
     },
     "execution_count": 152,
     "metadata": {},
     "output_type": "execute_result"
    }
   ],
   "source": [
    "ft.reduce(lambda sub,i:sub-i,l1)"
   ]
  },
  {
   "cell_type": "code",
   "execution_count": 154,
   "id": "d1014659-0a3a-4daf-ab39-df09e0324b45",
   "metadata": {},
   "outputs": [],
   "source": [
    "import functools\n",
    "l1=[1,2,3,4,5]\n",
    "#1*2*3*4*5: functools.reduce(lambda x,y:x*y,l1)\n",
    "#1+2+3}+4+5: functools.reduce (lambdax,y:x+y,l1)"
   ]
  },
  {
   "cell_type": "code",
   "execution_count": 156,
   "id": "522dc2d4-eb6e-43db-a4e5-281947b75818",
   "metadata": {},
   "outputs": [
    {
     "data": {
      "text/plain": [
       "15"
      ]
     },
     "execution_count": 156,
     "metadata": {},
     "output_type": "execute_result"
    }
   ],
   "source": [
    "functools.reduce(lambda x,y:x+y,l1)"
   ]
  },
  {
   "cell_type": "code",
   "execution_count": 158,
   "id": "c49a98f0-fd68-4c37-855b-8bd43376b99e",
   "metadata": {},
   "outputs": [
    {
     "name": "stdout",
     "output_type": "stream",
     "text": [
      "15\n"
     ]
    }
   ],
   "source": [
    "# method2 without sum\n",
    "summ=0\n",
    "for i in l1:\n",
    "    summ+=i\n",
    "\n",
    "print(summ)"
   ]
  },
  {
   "cell_type": "code",
   "execution_count": 160,
   "id": "7f9c5436-0082-4999-bc2f-da9a8000febd",
   "metadata": {},
   "outputs": [
    {
     "data": {
      "text/plain": [
       "6.0"
      ]
     },
     "execution_count": 160,
     "metadata": {},
     "output_type": "execute_result"
    }
   ],
   "source": [
    "import math\n",
    "math.sqrt(36)"
   ]
  },
  {
   "cell_type": "code",
   "execution_count": 166,
   "id": "30189f77-9a60-47ff-9c26-d58e0075f17e",
   "metadata": {},
   "outputs": [
    {
     "data": {
      "text/plain": [
       "3.0"
      ]
     },
     "execution_count": 166,
     "metadata": {},
     "output_type": "execute_result"
    }
   ],
   "source": [
    "import numpy\n",
    "numpy.mean((1,2,3,4,5))"
   ]
  },
  {
   "cell_type": "code",
   "execution_count": 168,
   "id": "ded6f053-2454-4b19-a72e-6b50e46d1486",
   "metadata": {},
   "outputs": [],
   "source": [
    "import functools\n"
   ]
  },
  {
   "cell_type": "code",
   "execution_count": 172,
   "id": "5045bf79-895b-4339-b03d-8c86fcccc08b",
   "metadata": {},
   "outputs": [
    {
     "data": {
      "text/plain": [
       "<function _functools.reduce>"
      ]
     },
     "execution_count": 172,
     "metadata": {},
     "output_type": "execute_result"
    }
   ],
   "source": [
    "functools.reduce"
   ]
  },
  {
   "cell_type": "code",
   "execution_count": 174,
   "id": "eb9d6a50-490b-48e3-8f71-8a9a3bb62ab1",
   "metadata": {},
   "outputs": [],
   "source": [
    "# maximum value using reduce\n",
    "\n",
    "# map:direct attact\n",
    "# filter: if conditions\n",
    "# reduce: inbuilt in functions some intialization\n",
    "\n",
    "# iwant detailed word document with example"
   ]
  },
  {
   "cell_type": "code",
   "execution_count": 5,
   "id": "1c7cf057-db79-4f37-85c5-12e5988ce3e3",
   "metadata": {
    "scrolled": true
   },
   "outputs": [
    {
     "ename": "TypeError",
     "evalue": "'int' object is not callable",
     "output_type": "error",
     "traceback": [
      "\u001b[1;31m---------------------------------------------------------------------------\u001b[0m",
      "\u001b[1;31mTypeError\u001b[0m                                 Traceback (most recent call last)",
      "Cell \u001b[1;32mIn[5], line 3\u001b[0m\n\u001b[0;32m      1\u001b[0m \u001b[38;5;28;01mimport\u001b[39;00m \u001b[38;5;21;01mfunctools\u001b[39;00m\n\u001b[0;32m      2\u001b[0m l1\u001b[38;5;241m=\u001b[39m[\u001b[38;5;241m1\u001b[39m,\u001b[38;5;241m2\u001b[39m,\u001b[38;5;241m3\u001b[39m,\u001b[38;5;241m4\u001b[39m,\u001b[38;5;241m5\u001b[39m]\n\u001b[1;32m----> 3\u001b[0m functools\u001b[38;5;241m.\u001b[39mreduce(\u001b[38;5;28;01mlambda\u001b[39;00m \u001b[38;5;28mmax\u001b[39m,i:\u001b[38;5;28mmax\u001b[39m([i]),l1,\u001b[38;5;241m0\u001b[39m)\n",
      "Cell \u001b[1;32mIn[5], line 3\u001b[0m, in \u001b[0;36m<lambda>\u001b[1;34m(max, i)\u001b[0m\n\u001b[0;32m      1\u001b[0m \u001b[38;5;28;01mimport\u001b[39;00m \u001b[38;5;21;01mfunctools\u001b[39;00m\n\u001b[0;32m      2\u001b[0m l1\u001b[38;5;241m=\u001b[39m[\u001b[38;5;241m1\u001b[39m,\u001b[38;5;241m2\u001b[39m,\u001b[38;5;241m3\u001b[39m,\u001b[38;5;241m4\u001b[39m,\u001b[38;5;241m5\u001b[39m]\n\u001b[1;32m----> 3\u001b[0m functools\u001b[38;5;241m.\u001b[39mreduce(\u001b[38;5;28;01mlambda\u001b[39;00m \u001b[38;5;28mmax\u001b[39m,i:\u001b[38;5;28mmax\u001b[39m([i]),l1,\u001b[38;5;241m0\u001b[39m)\n",
      "\u001b[1;31mTypeError\u001b[0m: 'int' object is not callable"
     ]
    }
   ],
   "source": [
    "import functools\n",
    "l1=[1,2,3,4,5]\n",
    "functools.reduce(lambda max,i:f\"min[i]\" if max<i else f\"max,l1,0) "
   ]
  },
  {
   "cell_type": "code",
   "execution_count": 1,
   "id": "5f2461b7-fecb-4e15-8f34-63bfe84448f8",
   "metadata": {},
   "outputs": [
    {
     "data": {
      "text/plain": [
       "22"
      ]
     },
     "execution_count": 1,
     "metadata": {},
     "output_type": "execute_result"
    }
   ],
   "source": [
    "add=lambda a:a+10\n",
    "add(12)"
   ]
  },
  {
   "cell_type": "code",
   "execution_count": 3,
   "id": "d688593c-480d-4b10-9b34-8ba80e3f005b",
   "metadata": {},
   "outputs": [
    {
     "data": {
      "text/plain": [
       "10"
      ]
     },
     "execution_count": 3,
     "metadata": {},
     "output_type": "execute_result"
    }
   ],
   "source": [
    "sub=lambda a,b :a-b\n",
    "sub(20,10)"
   ]
  },
  {
   "cell_type": "code",
   "execution_count": 13,
   "id": "e5be260e-e383-4234-bd23-cc1166bf4c54",
   "metadata": {},
   "outputs": [
    {
     "name": "stdout",
     "output_type": "stream",
     "text": [
      "32\n"
     ]
    }
   ],
   "source": [
    "def func(n):\n",
    "    return lambda a:a*n\n",
    "h=func(4)\n",
    "print(h(8))"
   ]
  },
  {
   "cell_type": "code",
   "execution_count": null,
   "id": "56da60b3-eecd-477d-a7b1-9ab448ae03de",
   "metadata": {},
   "outputs": [],
   "source": []
  }
 ],
 "metadata": {
  "kernelspec": {
   "display_name": "Python 3 (ipykernel)",
   "language": "python",
   "name": "python3"
  },
  "language_info": {
   "codemirror_mode": {
    "name": "ipython",
    "version": 3
   },
   "file_extension": ".py",
   "mimetype": "text/x-python",
   "name": "python",
   "nbconvert_exporter": "python",
   "pygments_lexer": "ipython3",
   "version": "3.12.4"
  }
 },
 "nbformat": 4,
 "nbformat_minor": 5
}
