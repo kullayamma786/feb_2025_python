{
 "cells": [
  {
   "cell_type": "code",
   "execution_count": 5,
   "id": "93793bac-9884-40a4-8c52-231563014036",
   "metadata": {},
   "outputs": [
    {
     "name": "stdout",
     "output_type": "stream",
     "text": [
      "okay\n"
     ]
    }
   ],
   "source": [
    "if 100>10:\n",
    "    print('okay')\n",
    "    "
   ]
  },
  {
   "cell_type": "code",
   "execution_count": 3,
   "id": "2592cbbe-b1d6-4ced-9a5d-a04726e1ed3d",
   "metadata": {},
   "outputs": [
    {
     "name": "stdout",
     "output_type": "stream",
     "text": [
      "okay\n"
     ]
    }
   ],
   "source": [
    "if 100>10:\n",
    "    print('okay')\n",
    "\n",
    "else:\n",
    "    print(\"not okay\")\n",
    "    "
   ]
  },
  {
   "cell_type": "code",
   "execution_count": 1,
   "id": "d84da6c2-6350-46ce-a097-100b5e441e0b",
   "metadata": {},
   "outputs": [
    {
     "ename": "SyntaxError",
     "evalue": "invalid syntax (1256133511.py, line 6)",
     "output_type": "error",
     "traceback": [
      "\u001b[1;36m  Cell \u001b[1;32mIn[1], line 6\u001b[1;36m\u001b[0m\n\u001b[1;33m    else:\u001b[0m\n\u001b[1;37m    ^\u001b[0m\n\u001b[1;31mSyntaxError\u001b[0m\u001b[1;31m:\u001b[0m invalid syntax\n"
     ]
    }
   ],
   "source": [
    "if 100>10:\n",
    "    print('okay')\n",
    "\n",
    "print('why you here')\n",
    "\n",
    "else:\n",
    "    print('thank you')\n",
    "   "
   ]
  },
  {
   "cell_type": "code",
   "execution_count": 9,
   "id": "c8803bc9-6f3c-48f4-8fc4-62329b25ade6",
   "metadata": {},
   "outputs": [
    {
     "ename": "SyntaxError",
     "evalue": "incomplete input (707435640.py, line 1)",
     "output_type": "error",
     "traceback": [
      "\u001b[1;36m  Cell \u001b[1;32mIn[9], line 1\u001b[1;36m\u001b[0m\n\u001b[1;33m    if 100>10:\u001b[0m\n\u001b[1;37m              ^\u001b[0m\n\u001b[1;31mSyntaxError\u001b[0m\u001b[1;31m:\u001b[0m incomplete input\n"
     ]
    }
   ],
   "source": [
    "if 100>10:\n"
   ]
  },
  {
   "cell_type": "code",
   "execution_count": null,
   "id": "11627b81-5200-4f7e-8b45-5917de183e0d",
   "metadata": {},
   "outputs": [],
   "source": [
    "#write a program ask the user enter two numbers print the greatest number\n",
    "# idea is step -1 take the number1\n",
    "# step-2: take the number2\n",
    "#step-3: if<cond>:\n",
    "#step-4: print()\n",
    "#step-5:else:\n",
    "#step-6:print()\n"
   ]
  },
  {
   "cell_type": "code",
   "execution_count": 13,
   "id": "addf8cd7-92b5-4016-a9a0-bd71d306be96",
   "metadata": {},
   "outputs": [
    {
     "name": "stdin",
     "output_type": "stream",
     "text": [
      "enter number1 40\n",
      "enter number2 50\n"
     ]
    },
    {
     "name": "stdout",
     "output_type": "stream",
     "text": [
      " the greatest number is 50\n"
     ]
    }
   ],
   "source": [
    "n1=eval(input(\"enter number1\"))\n",
    "n2=eval(input(\"enter number2\"))\n",
    "if n1>n2:\n",
    "    print(f\"the greatest number is: {n1} \")\n",
    "\n",
    "else:\n",
    "    print(f\" the greatest number is {n2}\")"
   ]
  },
  {
   "cell_type": "code",
   "execution_count": 39,
   "id": "e4116076-049d-43fe-8abc-5d8460c449a3",
   "metadata": {},
   "outputs": [
    {
     "name": "stdin",
     "output_type": "stream",
     "text": [
      "enter the distance 100\n",
      "enter the charge 25\n"
     ]
    },
    {
     "name": "stdout",
     "output_type": "stream",
     "text": [
      "the total charge is 2500\n"
     ]
    }
   ],
   "source": [
    "# write a program ask the user enter the distance if the distance > 25 then ask the user enter the charge \n",
    "#and print the total charge \n",
    "# otherwise (distance<25) print free ride\n",
    "distance=eval(input(\"enter the distance\"))\n",
    "if distance>25:\n",
    "    charge=eval(input(\"enter the charge\"))\n",
    "    total_charge=distance*charge\n",
    "    print(f\"the total charge is {total_charge}\")\n",
    "else:\n",
    "    print(\"enjoy the free ride\")"
   ]
  },
  {
   "cell_type": "code",
   "execution_count": 53,
   "id": "9f786618-a296-46dc-bea7-ef69d475dad6",
   "metadata": {},
   "outputs": [
    {
     "name": "stdin",
     "output_type": "stream",
     "text": [
      "enter the distance 100\n",
      "enter the charge 25\n"
     ]
    },
    {
     "name": "stdout",
     "output_type": "stream",
     "text": [
      "the total charge is 2500\n"
     ]
    }
   ],
   "source": [
    "# write a program ask the user enter the distance if the distance > 25 then ask the user enter the charge \n",
    "#and print the total charge \n",
    "# otherwise (distance<25) print free ride\n",
    "distance=eval(input(\"enter the distance\"))\n",
    "if distance<25:\n",
    "    print(\"enjoy the ride\")\n",
    "else:\n",
    "    charge=eval(input(\"enter the charge\"))\n",
    "    total_charge=distance*charge\n",
    "    print(f\"the total charge is {total_charge}\")"
   ]
  },
  {
   "cell_type": "code",
   "execution_count": 63,
   "id": "bca7fe96-9c8c-4e30-9be3-4c890fd8687f",
   "metadata": {},
   "outputs": [
    {
     "name": "stdin",
     "output_type": "stream",
     "text": [
      "enter the distance 100\n",
      "enter the free distance that govt given to people 25\n",
      "enter the charge 10\n"
     ]
    },
    {
     "name": "stdout",
     "output_type": "stream",
     "text": [
      "the total charge is: 750\n"
     ]
    }
   ],
   "source": [
    "# till 25 free ride \n",
    "# after 25km \n",
    "#you need to take those upper value \n",
    "#100km\n",
    "#100-25=75 km\n",
    "travel_distance=eval(input(\"enter the distance\"))\n",
    "free_distance=eval(input(\"enter the free distance that govt given to people\"))\n",
    "if travel_distance>free_distance:\n",
    "    amt_distance=travel_distance-free_distance\n",
    "    charge=eval(input(\"enter the charge\"))\n",
    "    total_charge=amt_distance*charge\n",
    "    print(\"the total charge is:\",total_charge)\n",
    "\n",
    "else:\n",
    "    print(\"enjoy the free ride\")\n",
    "    \n",
    "    "
   ]
  },
  {
   "cell_type": "code",
   "execution_count": 67,
   "id": "6c4c1b39-c68f-496a-8f3d-cf26648d9233",
   "metadata": {
    "scrolled": true
   },
   "outputs": [
    {
     "name": "stdin",
     "output_type": "stream",
     "text": [
      "daughter: hey mom\n",
      "mom: hi beta\n",
      "daughter: mom do you know govt will give a free ride for us\n",
      "mom: Aacha great\n",
      "daughter: mom shall we go to our grandmother house\n",
      "mom: ok beta\n",
      "cond: show me your id card\n",
      "mom: no i  dont have a ide card ,but my daughter has\n",
      "cond: for you we will take money,for your daughter is free ride\n",
      "mom: how much charge\n",
      "cond: how much distance you want to travel\n",
      "mom says: 45\n",
      "conductor will says: 25\n"
     ]
    },
    {
     "name": "stdout",
     "output_type": "stream",
     "text": [
      "the total charge is: 1125\n"
     ]
    }
   ],
   "source": [
    "input('daughter:')\n",
    "input('mom:')\n",
    "input('daughter:')\n",
    "input('mom:')\n",
    "input('daughter:')\n",
    "input('mom:')\n",
    "input('cond:')\n",
    "input('mom:')\n",
    "input('cond:')\n",
    "input('mom:')\n",
    "input('cond:')\n",
    "distance=eval(input(\"mom says:\"))\n",
    "if distance>25:\n",
    "    charge=eval(input(\"conductor will says:\"))\n",
    "    total_charge=distance*charge\n",
    "    print(\"the total charge is:\",total_charge)\n",
    "\n",
    "else:\n",
    "    print(\"cond:\")\n",
    "    "
   ]
  },
  {
   "cell_type": "code",
   "execution_count": 85,
   "id": "a7d93a89-7804-41eb-9d85-ab3d9461e4a7",
   "metadata": {},
   "outputs": [
    {
     "name": "stdout",
     "output_type": "stream",
     "text": [
      "daughter: hey mom\n",
      "mom: hi beta\n",
      "daughter: mom do you know govt will give a free ride for us\n",
      "mom: Aacha great\n",
      "daughter: mom shall we go to our grandmother house\n",
      "mom: ok beta\n",
      "cond: show me your id card\n",
      "mom: no i  dont have a ide card ,but my daughter has\n",
      "cond: for you we will take money,for your daughter is free ride\n",
      "mom: how much charge\n",
      "cond: how much distance you want to travel\n"
     ]
    },
    {
     "name": "stdin",
     "output_type": "stream",
     "text": [
      "mom says: 67\n",
      "mom says 67\n",
      "conductor will say: 10\n"
     ]
    },
    {
     "name": "stdout",
     "output_type": "stream",
     "text": [
      "mom:the total charge is: 670\n"
     ]
    }
   ],
   "source": [
    "print(\"daughter: hey mom\")\n",
    "print(\"mom: hi beta\")\n",
    "print(\"daughter: mom do you know govt will give a free ride for us\")\n",
    "print(\"mom: Aacha great\")\n",
    "print(\"daughter: mom shall we go to our grandmother house\")\n",
    "print(\"mom: ok beta\")\n",
    "print(\"cond: show me your id card\")\n",
    "print(\"mom: no i  dont have a ide card ,but my daughter has\")\n",
    "print(\"cond: for you we will take money,for your daughter is free ride\")\n",
    "print(\"mom: how much charge\")\n",
    "print(\"cond: how much distance you want to travel\")\n",
    "distance=eval(input(\"mom says:\"))\n",
    "if distance>25:\n",
    "    charge=eval(input(\"conductor will say:\"))\n",
    "    total_charge=distance*charge\n",
    "    print(\"mom:the total charge is:\",total_charge)\n",
    "else:\n",
    "    print(\"cond: enjoy the ride\")\n",
    "\n"
   ]
  },
  {
   "cell_type": "code",
   "execution_count": 1,
   "id": "e190b9c1-5044-4c5f-b76f-8de4bfaca4f2",
   "metadata": {},
   "outputs": [
    {
     "name": "stdin",
     "output_type": "stream",
     "text": [
      "enter a number: 6\n"
     ]
    },
    {
     "name": "stdout",
     "output_type": "stream",
     "text": [
      "friday\n"
     ]
    }
   ],
   "source": [
    "num=int(input(\"enter a number:\"))\n",
    "if num==1:\n",
    "    print(\"sunday\")\n",
    "elif num==2:\n",
    "    print(\"monday\")\n",
    "elif num==3:\n",
    "    print(\"tuesday\")\n",
    "elif num==4:\n",
    "    print(\"wednesday\")\n",
    "elif num==5:\n",
    "    print(\"thursday\")\n",
    "elif num==6:\n",
    "    print(\"friday\")\n",
    "elif num==7:\n",
    "    print(\"saturday\")\n",
    "else:\n",
    "    print( \" give a number from 1 to 7 only\")"
   ]
  },
  {
   "cell_type": "code",
   "execution_count": 13,
   "id": "50af5ff9-e831-4514-a94c-719860833600",
   "metadata": {},
   "outputs": [
    {
     "name": "stdin",
     "output_type": "stream",
     "text": [
      "enter course name datascience\n",
      "enter institute name ihub\n"
     ]
    },
    {
     "name": "stdout",
     "output_type": "stream",
     "text": [
      "bad\n"
     ]
    }
   ],
   "source": [
    "# wap ask the user enter course name and enter institute name\n",
    "# if course name equal to data science \n",
    "# and institute name is equal to naresh it\n",
    "#then print good\n",
    "#other wise print bad\n",
    "course_name=input(\"enter course name\")\n",
    "institute_name=input(\"enter institute name\")\n",
    "if course_name == 'datascience' and institute_name == 'nareshit':\n",
    "    print(\"good\")\n",
    "else:\n",
    "    print(\"bad\")\n"
   ]
  },
  {
   "cell_type": "code",
   "execution_count": 25,
   "id": "d4ffb018-6a29-4ea5-b5d2-d937a5bce1a0",
   "metadata": {},
   "outputs": [
    {
     "name": "stdin",
     "output_type": "stream",
     "text": [
      "enter course name datascience\n",
      "enter institute name nareshit\n"
     ]
    },
    {
     "name": "stdout",
     "output_type": "stream",
     "text": [
      "good\n"
     ]
    }
   ],
   "source": [
    "course_name=input(\"enter course name\")\n",
    "institute_name=input(\"enter institute name\")\n",
    "correct_course='datascience'\n",
    "correct_institute='nareshit'\n",
    "if course_name == correct_course and institute_name == correct_institute:\n",
    "    print(\"good\")\n",
    "else:\n",
    "    print(\"bad\")\n"
   ]
  },
  {
   "cell_type": "code",
   "execution_count": 27,
   "id": "e4c6c30a-14fc-4c0b-8556-0f4276358c25",
   "metadata": {},
   "outputs": [
    {
     "name": "stdin",
     "output_type": "stream",
     "text": [
      "enter course name datascience\n",
      "enter institute name ihub\n"
     ]
    },
    {
     "name": "stdout",
     "output_type": "stream",
     "text": [
      "good\n"
     ]
    }
   ],
   "source": [
    "course_name=input(\"enter course name\")\n",
    "institute_name=input(\"enter institute name\")\n",
    "if course_name == 'datascience' or institute_name == 'nareshit':\n",
    "    print(\"good\")\n",
    "else:\n",
    "    print(\"bad\")\n"
   ]
  },
  {
   "cell_type": "code",
   "execution_count": 29,
   "id": "f62bad04-4686-4358-b865-7b6dceb33586",
   "metadata": {},
   "outputs": [
    {
     "name": "stdout",
     "output_type": "stream",
     "text": [
      "hello\n",
      "bye\n"
     ]
    }
   ],
   "source": [
    " print('hello')\n",
    "if 100>10:\n",
    "    print('bye')"
   ]
  },
  {
   "cell_type": "code",
   "execution_count": 31,
   "id": "7813cf1d-266d-4024-a31c-171e5ffb3e63",
   "metadata": {},
   "outputs": [
    {
     "data": {
      "text/plain": [
       "True"
      ]
     },
     "execution_count": 31,
     "metadata": {},
     "output_type": "execute_result"
    }
   ],
   "source": [
    "100>10\n"
   ]
  },
  {
   "cell_type": "code",
   "execution_count": 33,
   "id": "49d67e75-3aec-4181-bdc7-2aba5c0e3599",
   "metadata": {},
   "outputs": [
    {
     "name": "stdout",
     "output_type": "stream",
     "text": [
      "hello\n",
      "bye\n"
     ]
    }
   ],
   "source": [
    "print('hello')\n",
    "if True:\n",
    "    print('bye')"
   ]
  },
  {
   "cell_type": "code",
   "execution_count": 41,
   "id": "bb0e4813-219a-4937-b8f9-17363a3cbb15",
   "metadata": {},
   "outputs": [
    {
     "name": "stdout",
     "output_type": "stream",
     "text": [
      "hello\n",
      "bye\n",
      "2.5\n"
     ]
    },
    {
     "ename": "ZeroDivisionError",
     "evalue": "division by zero",
     "output_type": "error",
     "traceback": [
      "\u001b[1;31m---------------------------------------------------------------------------\u001b[0m",
      "\u001b[1;31mZeroDivisionError\u001b[0m                         Traceback (most recent call last)",
      "Cell \u001b[1;32mIn[41], line 5\u001b[0m\n\u001b[0;32m      3\u001b[0m \u001b[38;5;28mprint\u001b[39m(\u001b[38;5;124m'\u001b[39m\u001b[38;5;124mbye\u001b[39m\u001b[38;5;124m'\u001b[39m)\n\u001b[0;32m      4\u001b[0m \u001b[38;5;28mprint\u001b[39m(\u001b[38;5;241m5\u001b[39m\u001b[38;5;241m/\u001b[39m\u001b[38;5;241m2\u001b[39m)\n\u001b[1;32m----> 5\u001b[0m \u001b[38;5;28mprint\u001b[39m(\u001b[38;5;241m0\u001b[39m\u001b[38;5;241m/\u001b[39m\u001b[38;5;241m0\u001b[39m)\n\u001b[0;32m      6\u001b[0m \u001b[38;5;28mprint\u001b[39m(\u001b[38;5;124m'\u001b[39m\u001b[38;5;124mhai\u001b[39m\u001b[38;5;124m'\u001b[39m)\n\u001b[0;32m      7\u001b[0m \u001b[38;5;28mprint\u001b[39m(\u001b[38;5;124m'\u001b[39m\u001b[38;5;124mgood\u001b[39m\u001b[38;5;124m'\u001b[39m)\n",
      "\u001b[1;31mZeroDivisionError\u001b[0m: division by zero"
     ]
    }
   ],
   "source": [
    "print('hello')\n",
    "if True:\n",
    "    print('bye')\n",
    "    print(5/2)\n",
    "    print(0/0)\n",
    "    print('hai')\n",
    "    print('good')"
   ]
  },
  {
   "cell_type": "code",
   "execution_count": 43,
   "id": "4610a764-1dc1-443a-9021-83be948e8121",
   "metadata": {},
   "outputs": [
    {
     "data": {
      "text/plain": [
       "1"
      ]
     },
     "execution_count": 43,
     "metadata": {},
     "output_type": "execute_result"
    }
   ],
   "source": [
    "5/2   # 2.5 normal division\n",
    "5//2   # 2 float division\n",
    "5%2    # 1 modules division\n",
    "\n",
    "\n",
    "# modulus takes the reminder\n",
    "\n",
    "# normal division gives normal division value\n",
    "\n",
    "# floor division takes the round of the quotient "
   ]
  },
  {
   "cell_type": "code",
   "execution_count": 45,
   "id": "fc7db3c0-1b0b-4dee-81bb-b69c7906961f",
   "metadata": {},
   "outputs": [
    {
     "data": {
      "text/plain": [
       "2"
      ]
     },
     "execution_count": 45,
     "metadata": {},
     "output_type": "execute_result"
    }
   ],
   "source": [
    "5//2"
   ]
  },
  {
   "cell_type": "code",
   "execution_count": 51,
   "id": "ce535e99-bb49-4894-8758-9f763f6f2908",
   "metadata": {},
   "outputs": [
    {
     "name": "stdin",
     "output_type": "stream",
     "text": [
      "enter a number: 4\n"
     ]
    },
    {
     "name": "stdout",
     "output_type": "stream",
     "text": [
      "even number\n"
     ]
    }
   ],
   "source": [
    "#wap ask the user take the number from keyword\n",
    "\n",
    "# print the number is even or odd\n",
    "\n",
    "n1=eval(input(\"enter a number:\"))\n",
    "if n1%2==0:\n",
    "    print(\"even number\")\n",
    "else:\n",
    "    print(\" odd number\")\n"
   ]
  },
  {
   "cell_type": "code",
   "execution_count": 63,
   "id": "fe1d80a0-54c6-4275-9365-7a0542c8afa8",
   "metadata": {},
   "outputs": [
    {
     "name": "stdout",
     "output_type": "stream",
     "text": [
      "47 is odd number\n"
     ]
    }
   ],
   "source": [
    "# ask the user get a random number between 1 to 100\n",
    "import random\n",
    "num=random.randint(1,100)\n",
    "if num%2==0:\n",
    "    print(f\"{num} is even number\")\n",
    "else:\n",
    "    print(f\"{num} is odd number\")"
   ]
  },
  {
   "cell_type": "markdown",
   "id": "ca602260-fbd9-4a1d-ab87-fb87370ccbb5",
   "metadata": {},
   "source": [
    "** concentrate how we are providing the numbers**\n",
    "\n",
    "    we can provide hard code: direct value\n",
    "\n",
    "    we can provide from keyboard : input\n",
    "\n",
    "    we can provide randomly: using random package"
   ]
  },
  {
   "cell_type": "code",
   "execution_count": 75,
   "id": "9d63dc3f-1277-4045-9570-6d9c4ebc8a1b",
   "metadata": {},
   "outputs": [
    {
     "name": "stdout",
     "output_type": "stream",
     "text": [
      "8\n"
     ]
    },
    {
     "name": "stdin",
     "output_type": "stream",
     "text": [
      "enter a number 8\n"
     ]
    },
    {
     "name": "stdout",
     "output_type": "stream",
     "text": [
      "won\n"
     ]
    }
   ],
   "source": [
    "#wap ask a user get a random integer number(n1) 1 to 10 only\n",
    "# ask the user take another number(n2) from keyboard \n",
    "# if n1 equal to n2\n",
    "#print won\n",
    "#else\n",
    "# print loss\n",
    "n1=random.randint(1,10)\n",
    "print(n1)\n",
    "n2=eval(input(\"enter a number\"))\n",
    "if n1==n2:\n",
    "    print(\"won\")\n",
    "\n",
    "else:\n",
    "    print(\"loss\")"
   ]
  },
  {
   "cell_type": "markdown",
   "id": "b65ed0c3-a140-48c6-ac6c-8bb6b73f9ed4",
   "metadata": {},
   "source": [
    " - till now we have seen if-else\n",
    "\n",
    " - two outputs based on one condition\n",
    "\n",
    " - there are three outputs based on two conditions\n",
    "\n",
    " if - elif - else \n",
    "\n",
    " -if con:\n",
    "     statements\n",
    "\n",
    " -elif con\n",
    "    statements\n",
    "\n",
    " -else:\n",
    "   statements"
   ]
  },
  {
   "cell_type": "code",
   "execution_count": null,
   "id": "3bea05b4-f030-4a41-ac39-c62863fc89c0",
   "metadata": {},
   "outputs": [],
   "source": []
  }
 ],
 "metadata": {
  "kernelspec": {
   "display_name": "Python 3 (ipykernel)",
   "language": "python",
   "name": "python3"
  },
  "language_info": {
   "codemirror_mode": {
    "name": "ipython",
    "version": 3
   },
   "file_extension": ".py",
   "mimetype": "text/x-python",
   "name": "python",
   "nbconvert_exporter": "python",
   "pygments_lexer": "ipython3",
   "version": "3.12.4"
  }
 },
 "nbformat": 4,
 "nbformat_minor": 5
}
