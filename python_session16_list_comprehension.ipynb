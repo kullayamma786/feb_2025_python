{
 "cells": [
  {
   "cell_type": "code",
   "execution_count": 1,
   "id": "6d155c10-fe49-499f-aa92-15ae8dc9e809",
   "metadata": {},
   "outputs": [
    {
     "name": "stdout",
     "output_type": "stream",
     "text": [
      "1 2 3 4 5 6 7 8 9 10 "
     ]
    }
   ],
   "source": [
    "for i in range(1,11):\n",
    "    print(i,end=' ')"
   ]
  },
  {
   "cell_type": "code",
   "execution_count": 3,
   "id": "78fb65a0-4fe2-42f8-a76f-6196bd75f1fa",
   "metadata": {},
   "outputs": [
    {
     "data": {
      "text/plain": [
       "[1, 2, 3, 4, 5, 6, 7, 8, 9, 10]"
      ]
     },
     "execution_count": 3,
     "metadata": {},
     "output_type": "execute_result"
    }
   ],
   "source": [
    "l=[]\n",
    "for i in range(1,11):\n",
    "    l.append(i)\n",
    "\n",
    "l"
   ]
  },
  {
   "cell_type": "markdown",
   "id": "e5ecb996-4afc-495d-8fe9-baddfd5906f1",
   "metadata": {},
   "source": [
    "**method-1 only for loop**"
   ]
  },
  {
   "cell_type": "code",
   "execution_count": 6,
   "id": "45d8cb29-7514-4d57-8e3d-7f25fb870f9f",
   "metadata": {},
   "outputs": [
    {
     "data": {
      "text/plain": [
       "['hello', 'hai', 'how', 'are', 'you']"
      ]
     },
     "execution_count": 6,
     "metadata": {},
     "output_type": "execute_result"
    }
   ],
   "source": [
    "str='hello hai how are you'\n",
    "str.split()"
   ]
  },
  {
   "cell_type": "markdown",
   "id": "0b338f59-3a60-40c8-ba87-49290876691f",
   "metadata": {},
   "source": [
    "- what is the output we are saving: i\n",
    "\n",
    "- what is the loop:for i in range(1,11)\n",
    "\n",
    "- format [output for loop ]"
   ]
  },
  {
   "cell_type": "code",
   "execution_count": 9,
   "id": "b0c18492-5fae-40c5-96c0-47c9ced4eb9b",
   "metadata": {},
   "outputs": [],
   "source": [
    "l1=[i for i in range(11)]"
   ]
  },
  {
   "cell_type": "code",
   "execution_count": 11,
   "id": "e3faa12a-9fb6-4afd-9669-227848fe727e",
   "metadata": {},
   "outputs": [
    {
     "data": {
      "text/plain": [
       "[0, 1, 2, 3, 4, 5, 6, 7, 8, 9, 10]"
      ]
     },
     "execution_count": 11,
     "metadata": {},
     "output_type": "execute_result"
    }
   ],
   "source": [
    "l1"
   ]
  },
  {
   "cell_type": "code",
   "execution_count": 13,
   "id": "ea19e0d4-1094-497f-aee2-2ae97198929d",
   "metadata": {},
   "outputs": [
    {
     "data": {
      "text/plain": [
       "[1, 4, 9, 16, 25]"
      ]
     },
     "execution_count": 13,
     "metadata": {},
     "output_type": "execute_result"
    }
   ],
   "source": [
    "# wap : save the list of square numbers of 1 to 6\n",
    "l=[]\n",
    "for i in range(1,6):\n",
    "    l.append(i*i)\n",
    "\n",
    "l"
   ]
  },
  {
   "cell_type": "code",
   "execution_count": 19,
   "id": "ff4b651b-6a82-4cb1-9a6f-7ac4dadc73c0",
   "metadata": {},
   "outputs": [
    {
     "data": {
      "text/plain": [
       "[1, 4, 9, 16, 25]"
      ]
     },
     "execution_count": 19,
     "metadata": {},
     "output_type": "execute_result"
    }
   ],
   "source": [
    "l2=[i*i for i in range(1,6)]\n",
    "l2"
   ]
  },
  {
   "cell_type": "code",
   "execution_count": 21,
   "id": "ab839dff-e3b5-4533-b606-abe8b8dbe3f8",
   "metadata": {},
   "outputs": [
    {
     "data": {
      "text/plain": [
       "['Hyd', 'Mumbai', 'Pune']"
      ]
     },
     "execution_count": 21,
     "metadata": {},
     "output_type": "execute_result"
    }
   ],
   "source": [
    "# wap: l=['hyd','mumbai','pune']\n",
    "k=[]\n",
    "l=['hyd','mumbai','pune']\n",
    "for i in l:\n",
    "    k.append(i.title())\n",
    "\n",
    "k"
   ]
  },
  {
   "cell_type": "code",
   "execution_count": 23,
   "id": "3933cfea-5abd-43da-b66d-58022548ef53",
   "metadata": {},
   "outputs": [
    {
     "data": {
      "text/plain": [
       "['Hyd', 'Mumbai', 'Pune']"
      ]
     },
     "execution_count": 23,
     "metadata": {},
     "output_type": "execute_result"
    }
   ],
   "source": [
    "l1=[i.title() for i in l]\n",
    "l1"
   ]
  },
  {
   "cell_type": "code",
   "execution_count": 25,
   "id": "e5c97bb5-028f-4131-9ded-b660a05df8b5",
   "metadata": {},
   "outputs": [
    {
     "data": {
      "text/plain": [
       "['HYD', 'MUMBAI', 'PUNE']"
      ]
     },
     "execution_count": 25,
     "metadata": {},
     "output_type": "execute_result"
    }
   ],
   "source": [
    "l=['hyd','mumbai','pune'] \n",
    "o=[]\n",
    "for i in l:\n",
    "    o.append(i.upper())\n",
    "\n",
    "o\n"
   ]
  },
  {
   "cell_type": "code",
   "execution_count": 27,
   "id": "78ec231b-b649-48ec-a440-f4fb43ec14ca",
   "metadata": {},
   "outputs": [
    {
     "data": {
      "text/plain": [
       "['HYD', 'MUMBAI', 'PUNE']"
      ]
     },
     "execution_count": 27,
     "metadata": {},
     "output_type": "execute_result"
    }
   ],
   "source": [
    "k=[i.upper() for i in l]\n",
    "k"
   ]
  },
  {
   "cell_type": "code",
   "execution_count": 29,
   "id": "916b62af-0996-4c5e-a2a3-ddbd9c58bb33",
   "metadata": {},
   "outputs": [
    {
     "data": {
      "text/plain": [
       "[0, 10, 20]"
      ]
     },
     "execution_count": 29,
     "metadata": {},
     "output_type": "execute_result"
    }
   ],
   "source": [
    "g=[]\n",
    "for i in range(len(l)):\n",
    "    g.append(i*10)\n",
    "\n",
    "g\n",
    "    "
   ]
  },
  {
   "cell_type": "code",
   "execution_count": 31,
   "id": "5cba8fb4-ed16-4e41-87a7-284c6d25eddd",
   "metadata": {},
   "outputs": [
    {
     "data": {
      "text/plain": [
       "['hydhydhydhydhydhydhydhydhydhyd',\n",
       " 'mumbaimumbaimumbaimumbaimumbaimumbaimumbaimumbaimumbaimumbai',\n",
       " 'punepunepunepunepunepunepunepunepunepune']"
      ]
     },
     "execution_count": 31,
     "metadata": {},
     "output_type": "execute_result"
    }
   ],
   "source": [
    "h=[i*10   for i in l]\n",
    "h"
   ]
  },
  {
   "cell_type": "code",
   "execution_count": 33,
   "id": "a00c0c00-6240-4c6b-a219-8e0a1636806c",
   "metadata": {},
   "outputs": [
    {
     "data": {
      "text/plain": [
       "[0, 10, 20]"
      ]
     },
     "execution_count": 33,
     "metadata": {},
     "output_type": "execute_result"
    }
   ],
   "source": [
    "f=[i*10 for i in range(len(l))]\n",
    "f"
   ]
  },
  {
   "cell_type": "code",
   "execution_count": 37,
   "id": "6682d2b9-68e4-4180-b845-7a99fdd4c66c",
   "metadata": {},
   "outputs": [
    {
     "data": {
      "text/plain": [
       "[0, 10, 20]"
      ]
     },
     "execution_count": 37,
     "metadata": {},
     "output_type": "execute_result"
    }
   ],
   "source": [
    "c=[l.index(i)*10  for i in l]\n",
    "c"
   ]
  },
  {
   "cell_type": "code",
   "execution_count": 45,
   "id": "0ac25c50-00d8-46d7-bf18-1ff36442dc48",
   "metadata": {},
   "outputs": [
    {
     "name": "stdout",
     "output_type": "stream",
     "text": [
      "[0, 1, 2]\n",
      "3\n"
     ]
    }
   ],
   "source": [
    "l=['hyd','mumbai','pune']\n",
    "o=[]\n",
    "for i in l:\n",
    "    o.append(l.index(i))\n",
    "\n",
    "print(o)\n",
    "print(sum(o))\n"
   ]
  },
  {
   "cell_type": "code",
   "execution_count": 49,
   "id": "ef1a2f77-b3fe-4df1-a814-79bd13469932",
   "metadata": {},
   "outputs": [
    {
     "data": {
      "text/plain": [
       "3"
      ]
     },
     "execution_count": 49,
     "metadata": {},
     "output_type": "execute_result"
    }
   ],
   "source": [
    "h=[]\n",
    "for i in range(len(l)):\n",
    "    h.append(i)\n",
    "h\n",
    "sum(h)\n"
   ]
  },
  {
   "cell_type": "code",
   "execution_count": 61,
   "id": "93f48c95-aab1-4482-99e1-09a004590a43",
   "metadata": {},
   "outputs": [
    {
     "data": {
      "text/plain": [
       "3"
      ]
     },
     "execution_count": 61,
     "metadata": {},
     "output_type": "execute_result"
    }
   ],
   "source": [
    "d=[l.index(i) for i in l]\n",
    "d\n",
    "sum(d)"
   ]
  },
  {
   "cell_type": "code",
   "execution_count": 1,
   "id": "0d70e00d-109f-434d-967c-f2be29e1a5ae",
   "metadata": {},
   "outputs": [
    {
     "ename": "NameError",
     "evalue": "name 'l' is not defined",
     "output_type": "error",
     "traceback": [
      "\u001b[1;31m---------------------------------------------------------------------------\u001b[0m",
      "\u001b[1;31mNameError\u001b[0m                                 Traceback (most recent call last)",
      "Cell \u001b[1;32mIn[1], line 1\u001b[0m\n\u001b[1;32m----> 1\u001b[0m [i \u001b[38;5;28;01mfor\u001b[39;00m i \u001b[38;5;129;01min\u001b[39;00m \u001b[38;5;28mrange\u001b[39m(\u001b[38;5;28mlen\u001b[39m(l))]\n\u001b[0;32m      3\u001b[0m \u001b[38;5;28msum\u001b[39m(i)\n",
      "\u001b[1;31mNameError\u001b[0m: name 'l' is not defined"
     ]
    }
   ],
   "source": [
    "[i for i in range(len(l))]\n",
    "\n",
    "sum(i)"
   ]
  },
  {
   "cell_type": "code",
   "execution_count": 67,
   "id": "28534c7d-b064-4492-a92b-261245048829",
   "metadata": {},
   "outputs": [
    {
     "data": {
      "text/plain": [
       "3"
      ]
     },
     "execution_count": 67,
     "metadata": {},
     "output_type": "execute_result"
    }
   ],
   "source": [
    "len(v)"
   ]
  },
  {
   "cell_type": "code",
   "execution_count": 71,
   "id": "a72f02b8-10f6-4b6c-b2b1-298162fbee01",
   "metadata": {},
   "outputs": [
    {
     "data": {
      "text/plain": [
       "15"
      ]
     },
     "execution_count": 71,
     "metadata": {},
     "output_type": "execute_result"
    }
   ],
   "source": [
    "k=['apple','banana','cherry','food','good','biscuits']\n",
    "d=[i for i in range(len(k))]\n",
    "sum(d)"
   ]
  },
  {
   "cell_type": "code",
   "execution_count": 77,
   "id": "650a8508-c60e-4138-9d0e-b034026de990",
   "metadata": {},
   "outputs": [
    {
     "data": {
      "text/plain": [
       "15"
      ]
     },
     "execution_count": 77,
     "metadata": {},
     "output_type": "execute_result"
    }
   ],
   "source": [
    "h=[]\n",
    "for i in k:\n",
    "    h.append(k.index(i))\n",
    "\n",
    "sum(h)        "
   ]
  },
  {
   "cell_type": "code",
   "execution_count": 79,
   "id": "c2dc7ef1-408c-44a1-b422-bdb8c5bddb17",
   "metadata": {},
   "outputs": [
    {
     "data": {
      "text/plain": [
       "dict_keys(['key'])"
      ]
     },
     "execution_count": 79,
     "metadata": {},
     "output_type": "execute_result"
    }
   ],
   "source": [
    "g={'key':'value'}\n",
    "g.keys()"
   ]
  },
  {
   "cell_type": "code",
   "execution_count": 81,
   "id": "a7a7864b-2422-40f8-8e2e-2540d6ed1959",
   "metadata": {},
   "outputs": [
    {
     "data": {
      "text/plain": [
       "dict_values(['value'])"
      ]
     },
     "execution_count": 81,
     "metadata": {},
     "output_type": "execute_result"
    }
   ],
   "source": [
    "g.values()"
   ]
  },
  {
   "cell_type": "markdown",
   "id": "75585dda-cd9a-4404-aedc-e1b793ce2add",
   "metadata": {},
   "source": [
    "**method-2**"
   ]
  },
  {
   "cell_type": "markdown",
   "id": "c6e114eb-336f-4e85-8cd1-786d0c16d55c",
   "metadata": {},
   "source": [
    "**for loop and one if condition**"
   ]
  },
  {
   "cell_type": "code",
   "execution_count": 5,
   "id": "660069b3-8e02-4b27-bf0c-efa815d7a341",
   "metadata": {},
   "outputs": [
    {
     "data": {
      "text/plain": [
       "['mum#bai', 'chen#nai']"
      ]
     },
     "execution_count": 5,
     "metadata": {},
     "output_type": "execute_result"
    }
   ],
   "source": [
    "o=[]\n",
    "l=['hyd','mum#bai','chen#nai']\n",
    "for i in l:\n",
    "    if '#' in i:\n",
    "        o.append(i)\n",
    "\n",
    "o\n",
    "    "
   ]
  },
  {
   "cell_type": "code",
   "execution_count": null,
   "id": "4f127964-90f5-4de6-81a9-a47aa4c7424c",
   "metadata": {},
   "outputs": [],
   "source": [
    "[i for i in l if '#' in i]\n"
   ]
  },
  {
   "cell_type": "code",
   "execution_count": 3,
   "id": "5662f0d5-5ef9-4f70-ac91-f6c9b1490b14",
   "metadata": {},
   "outputs": [
    {
     "data": {
      "text/plain": [
       "['mum#bai', 'chen#nai']"
      ]
     },
     "execution_count": 3,
     "metadata": {},
     "output_type": "execute_result"
    }
   ],
   "source": [
    "l=['hyd','mum#bai','chen#nai']\n",
    "[i for i in l if '#' in i]"
   ]
  },
  {
   "cell_type": "code",
   "execution_count": 5,
   "id": "2fd5488a-0acd-4b2b-a44e-84b5548b8736",
   "metadata": {},
   "outputs": [
    {
     "data": {
      "text/plain": [
       "['hyd']"
      ]
     },
     "execution_count": 5,
     "metadata": {},
     "output_type": "execute_result"
    }
   ],
   "source": [
    "[i for i in l if '#' not in i]"
   ]
  },
  {
   "cell_type": "code",
   "execution_count": 13,
   "id": "2e7d15d9-1bdc-4a1b-8650-675a02352289",
   "metadata": {},
   "outputs": [
    {
     "data": {
      "text/plain": [
       "['mumbai', 'chennai']"
      ]
     },
     "execution_count": 13,
     "metadata": {},
     "output_type": "execute_result"
    }
   ],
   "source": [
    "l=['mumbai','chennai']\n",
    "[i for i in l if len(i)>4]"
   ]
  },
  {
   "cell_type": "code",
   "execution_count": null,
   "id": "07eb3245-fe6d-465a-8a63-468022c845e3",
   "metadata": {},
   "outputs": [],
   "source": [
    "output for loop\n",
    "output forloop if condition\n",
    "\n",
    "[<if output> <ifcondition> <else> <else outoput> <for loop>]"
   ]
  },
  {
   "cell_type": "code",
   "execution_count": 15,
   "id": "900c0857-3ff6-4517-98f0-33c6b7788bf0",
   "metadata": {},
   "outputs": [
    {
     "name": "stdout",
     "output_type": "stream",
     "text": [
      "the even numbers are [2, 4, 6, 8, 10]\n",
      "the odd numbers are [1, 3, 5, 7, 9]\n"
     ]
    }
   ],
   "source": [
    "# wap ask get the even and odd numbers from 1 to 10\n",
    "even=[]\n",
    "odd=[]\n",
    "for i in range(1,11):\n",
    "    if i%2==0:\n",
    "        even.append(i)\n",
    "    else:\n",
    "        odd.append(i)\n",
    "\n",
    "print(\"the even numbers are\",even)\n",
    "print(\"the odd numbers are\",odd)"
   ]
  },
  {
   "cell_type": "code",
   "execution_count": 21,
   "id": "a3c8cca5-3a66-453f-bae4-be50d289b0e6",
   "metadata": {},
   "outputs": [
    {
     "data": {
      "text/plain": [
       "['odd:1',\n",
       " 'even:2',\n",
       " 'odd:3',\n",
       " 'even:4',\n",
       " 'odd:5',\n",
       " 'even:6',\n",
       " 'odd:7',\n",
       " 'even:8',\n",
       " 'odd:9',\n",
       " 'even:10']"
      ]
     },
     "execution_count": 21,
     "metadata": {},
     "output_type": "execute_result"
    }
   ],
   "source": [
    "[f\"even:{i}\" if i%2==0 else f\"odd:{i}\" for i in range(1,11)]"
   ]
  },
  {
   "cell_type": "code",
   "execution_count": 24,
   "id": "68d20aaa-bcf0-45ce-b957-5c53100f6155",
   "metadata": {},
   "outputs": [
    {
     "ename": "SyntaxError",
     "evalue": "invalid syntax (1296852881.py, line 1)",
     "output_type": "error",
     "traceback": [
      "\u001b[1;36m  Cell \u001b[1;32mIn[24], line 1\u001b[1;36m\u001b[0m\n\u001b[1;33m    for loop:[<output>  <for loop>]\u001b[0m\n\u001b[1;37m            ^\u001b[0m\n\u001b[1;31mSyntaxError\u001b[0m\u001b[1;31m:\u001b[0m invalid syntax\n"
     ]
    }
   ],
   "source": [
    "for loop:[<output>  <for loop>]\n",
    "for if:[<output> <for loop> <if condition> ]\n",
    "for if else:[<if output> <if condition> <else> <else output> <if condtion>]"
   ]
  },
  {
   "cell_type": "code",
   "execution_count": null,
   "id": "c0d9dcb6-ccdb-4768-a984-9f69a48bd8b9",
   "metadata": {},
   "outputs": [],
   "source": [
    "for if elif else:[<if out> <>]"
   ]
  },
  {
   "cell_type": "code",
   "execution_count": 26,
   "id": "0e358fe1-19f6-4287-ae5d-b2222d76a30d",
   "metadata": {},
   "outputs": [
    {
     "name": "stdout",
     "output_type": "stream",
     "text": [
      "pos: 1\n",
      "pos: 2\n",
      "pos: 3\n",
      "zero: 0\n",
      "neg: -3\n",
      "neg: -2\n"
     ]
    }
   ],
   "source": [
    "l=[1,2,3,0,-3,-2]\n",
    "for i in l:\n",
    "    if i>0:\n",
    "        print(\"pos:\",i)\n",
    "    elif i==0:\n",
    "        print(\"zero:\",i)\n",
    "\n",
    "    else:\n",
    "        print(\"neg:\",i)"
   ]
  },
  {
   "cell_type": "code",
   "execution_count": 30,
   "id": "79ef0bdc-7d21-43fe-9235-3c8b39be1624",
   "metadata": {},
   "outputs": [
    {
     "data": {
      "text/plain": [
       "['pos:1', 'pos:2', 'pos:3', 'zero:0', 'neg:-3', 'neg:-2']"
      ]
     },
     "execution_count": 30,
     "metadata": {},
     "output_type": "execute_result"
    }
   ],
   "source": [
    "out=[]\n",
    "\n",
    "\n",
    "l=[1,2,3,0,-3,-2]\n",
    "for i in l:\n",
    "    if i>0:\n",
    "        out.append(f\"pos:{i}\")\n",
    "    elif i==0:\n",
    "        out.append(f\"zero:{i}\")\n",
    "\n",
    "    else:\n",
    "        out.append(f\"neg:{i}\")\n",
    "\n",
    "out"
   ]
  },
  {
   "cell_type": "code",
   "execution_count": 36,
   "id": "bfc9545f-7e39-41c1-b44d-6d4583a5c56b",
   "metadata": {},
   "outputs": [
    {
     "data": {
      "text/plain": [
       "['pos:1', 'pos:2', 'pos:3', 'zero:0', 'neg:-3', 'neg:-2']"
      ]
     },
     "execution_count": 36,
     "metadata": {},
     "output_type": "execute_result"
    }
   ],
   "source": [
    "[f\"pos:{i}\" if i>0 else f\"neg:{i}\" if i<0 else f\"zero:{i}\" for i in l]"
   ]
  },
  {
   "cell_type": "code",
   "execution_count": 46,
   "id": "ffc59114-8122-4c2e-aaab-b4d51eecf275",
   "metadata": {},
   "outputs": [
    {
     "data": {
      "text/plain": [
       "['pos:1', 'pos:2', 'pos:3', 'zero:0', 'neg:-3', 'neg:-2']"
      ]
     },
     "execution_count": 46,
     "metadata": {},
     "output_type": "execute_result"
    }
   ],
   "source": [
    "out=[f\"pos:{i}\" if i>0\n",
    "    else f\"neg:{i}\" if i<0\n",
    "    else f\"zero:{i}\"\n",
    "    for i in l]\n",
    "out"
   ]
  },
  {
   "cell_type": "code",
   "execution_count": 48,
   "id": "653d32d1-2c35-46f3-8797-0839fba71f3c",
   "metadata": {},
   "outputs": [
    {
     "data": {
      "text/plain": [
       "1"
      ]
     },
     "execution_count": 48,
     "metadata": {},
     "output_type": "execute_result"
    }
   ],
   "source": [
    "l=[1,2,3]\n",
    "l[0]"
   ]
  },
  {
   "cell_type": "code",
   "execution_count": 50,
   "id": "57935966-780d-49a4-9c20-f339364f6601",
   "metadata": {},
   "outputs": [
    {
     "data": {
      "text/plain": [
       "1"
      ]
     },
     "execution_count": 50,
     "metadata": {},
     "output_type": "execute_result"
    }
   ],
   "source": [
    "t=(1,2,3)\n",
    "t[0]"
   ]
  },
  {
   "cell_type": "code",
   "execution_count": 52,
   "id": "860b6da7-c716-4455-b5f0-b216726a9f7b",
   "metadata": {},
   "outputs": [
    {
     "ename": "TypeError",
     "evalue": "'tuple' object does not support item assignment",
     "output_type": "error",
     "traceback": [
      "\u001b[1;31m---------------------------------------------------------------------------\u001b[0m",
      "\u001b[1;31mTypeError\u001b[0m                                 Traceback (most recent call last)",
      "Cell \u001b[1;32mIn[52], line 1\u001b[0m\n\u001b[1;32m----> 1\u001b[0m t[\u001b[38;5;241m0\u001b[39m]\u001b[38;5;241m=\u001b[39m\u001b[38;5;241m23\u001b[39m\n",
      "\u001b[1;31mTypeError\u001b[0m: 'tuple' object does not support item assignment"
     ]
    }
   ],
   "source": [
    "t[0]=23"
   ]
  },
  {
   "cell_type": "code",
   "execution_count": 68,
   "id": "eb2d9840-f9c3-41b4-8742-245a6d193847",
   "metadata": {},
   "outputs": [
    {
     "name": "stdout",
     "output_type": "stream",
     "text": [
      "ramesh age is 21\n",
      "suresh age is 22\n",
      "mahesh age is 23\n"
     ]
    }
   ],
   "source": [
    "names=['ramesh','suresh','mahesh']\n",
    "age=[21,22,23]\n",
    "for i in range(len(names)):\n",
    "        print(f\"{names[i]} age is {age[i]}\")\n",
    "    "
   ]
  },
  {
   "cell_type": "markdown",
   "id": "7789266a-4cb1-4ba1-ab3c-647b896806fa",
   "metadata": {},
   "source": [
    "**zip**"
   ]
  },
  {
   "cell_type": "code",
   "execution_count": 73,
   "id": "4874ebd2-aeba-4dac-9815-c39283379ac5",
   "metadata": {},
   "outputs": [
    {
     "data": {
      "text/plain": [
       "<zip at 0x1a750c699c0>"
      ]
     },
     "execution_count": 73,
     "metadata": {},
     "output_type": "execute_result"
    }
   ],
   "source": [
    "zip(names,age)"
   ]
  },
  {
   "cell_type": "code",
   "execution_count": 75,
   "id": "3747f91a-422c-4de6-9996-397fdc6cb5ca",
   "metadata": {},
   "outputs": [
    {
     "data": {
      "text/plain": [
       "[('ramesh', 21), ('suresh', 22), ('mahesh', 23)]"
      ]
     },
     "execution_count": 75,
     "metadata": {},
     "output_type": "execute_result"
    }
   ],
   "source": [
    "list(zip(names,age))"
   ]
  },
  {
   "cell_type": "code",
   "execution_count": 77,
   "id": "3213ca4e-4484-483c-b7fd-5bde050a2201",
   "metadata": {},
   "outputs": [
    {
     "name": "stdout",
     "output_type": "stream",
     "text": [
      "('ramesh', 21)\n",
      "('suresh', 22)\n",
      "('mahesh', 23)\n"
     ]
    }
   ],
   "source": [
    "for i in zip(names,age):\n",
    "    print(i)"
   ]
  },
  {
   "cell_type": "code",
   "execution_count": 79,
   "id": "9330ebc5-e4eb-45c3-83f8-821ffbb41d6a",
   "metadata": {},
   "outputs": [
    {
     "name": "stdout",
     "output_type": "stream",
     "text": [
      "('ramesh',)\n",
      "('suresh',)\n",
      "('mahesh',)\n",
      "(21,)\n",
      "(22,)\n",
      "(23,)\n"
     ]
    }
   ],
   "source": [
    "for i in zip(names):\n",
    "    print(i)\n",
    "\n",
    "for j in zip(age):\n",
    "    print(j)"
   ]
  },
  {
   "cell_type": "code",
   "execution_count": 81,
   "id": "1fd21773-bc84-419f-9c35-75cf111867a1",
   "metadata": {},
   "outputs": [
    {
     "name": "stdout",
     "output_type": "stream",
     "text": [
      "ramesh\n",
      "21\n",
      "suresh\n",
      "22\n",
      "mahesh\n",
      "23\n"
     ]
    }
   ],
   "source": [
    "for i, j in zip(names,age):\n",
    "    print(i)\n",
    "    print(j)"
   ]
  },
  {
   "cell_type": "code",
   "execution_count": null,
   "id": "669bd5d4-d7f3-45f9-a90d-24463bb41386",
   "metadata": {},
   "outputs": [],
   "source": [
    "zip()"
   ]
  }
 ],
 "metadata": {
  "kernelspec": {
   "display_name": "Python 3 (ipykernel)",
   "language": "python",
   "name": "python3"
  },
  "language_info": {
   "codemirror_mode": {
    "name": "ipython",
    "version": 3
   },
   "file_extension": ".py",
   "mimetype": "text/x-python",
   "name": "python",
   "nbconvert_exporter": "python",
   "pygments_lexer": "ipython3",
   "version": "3.12.4"
  }
 },
 "nbformat": 4,
 "nbformat_minor": 5
}
